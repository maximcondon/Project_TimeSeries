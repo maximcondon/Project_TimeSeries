{
 "cells": [
  {
   "cell_type": "markdown",
   "metadata": {},
   "source": [
    "# Time Series Analysis\n",
    "* Pandas was developed for financial modelling (Wes Mckinney, AQR Capital)\n",
    "* Time series analysis therefore comprises an integral part of the package\n",
    "* Lets convert some data into timestamps, and do some fun stuff with it"
   ]
  },
  {
   "cell_type": "markdown",
   "metadata": {},
   "source": [
    "### Key commands\n",
    "\n",
    "| command | description |\n",
    "|---------|-------------|\n",
    "| pd.Series.to_datetime() | convert column to datetime series |\n",
    "| pd.Timestamp | converts a single value to a timestamp |\n",
    "| pd.date_range() | creates a list of timestamps |\n",
    "| ts[a:b] | slices a DateTimeIndex by two dates |\n",
    "| pd.DateTimeIndex.resample() | rebuilds a DateTimeIndex with a specific interval |\n",
    "| downsampling | converts to less data points, condenses |\n",
    "| upsampling | converts to more data points, interpolates |\n",
    "| pd.DateTimeIndex.shift() | moves column by 1 |\n",
    "| pandas.Series.diff() | calculate difference to previous period |\n",
    "| pandas.Series.pct_change() | difference as percentage |\n",
    "| pd.Period | data type for periods |\n",
    "| pd.period_range() | creates a list of periods |\n",
    "| pd.Series.rolling() | groups with sliding window along the time axis |\n",
    "| pd.rolling.mean() | summarizes the data groupwise |"
   ]
  },
  {
   "cell_type": "markdown",
   "metadata": {},
   "source": [
    "**Pull in a csv file which contains time/date information**\n",
    "\n",
    "**We'll use some stock data taken from pandas_datareader**\n",
    "\n",
    "**The average value-weighted returns from a series of financial data indices**"
   ]
  },
  {
   "cell_type": "code",
   "execution_count": 2,
   "metadata": {},
   "outputs": [],
   "source": [
    "import pandas as pd\n",
    "\n",
    "df = pd.read_csv('financial_monthly_data.csv')"
   ]
  },
  {
   "cell_type": "markdown",
   "metadata": {},
   "source": [
    "**Let's have a look at the data types of the dataframe**\n",
    "\n",
    "**In particular, we're interested in the date time data**"
   ]
  },
  {
   "cell_type": "code",
   "execution_count": 3,
   "metadata": {},
   "outputs": [
    {
     "data": {
      "text/html": [
       "<div>\n",
       "<style scoped>\n",
       "    .dataframe tbody tr th:only-of-type {\n",
       "        vertical-align: middle;\n",
       "    }\n",
       "\n",
       "    .dataframe tbody tr th {\n",
       "        vertical-align: top;\n",
       "    }\n",
       "\n",
       "    .dataframe thead th {\n",
       "        text-align: right;\n",
       "    }\n",
       "</style>\n",
       "<table border=\"1\" class=\"dataframe\">\n",
       "  <thead>\n",
       "    <tr style=\"text-align: right;\">\n",
       "      <th></th>\n",
       "      <th>Date</th>\n",
       "      <th>Cnsmr</th>\n",
       "      <th>Manuf</th>\n",
       "      <th>HiTec</th>\n",
       "      <th>Hlth</th>\n",
       "      <th>Other</th>\n",
       "    </tr>\n",
       "  </thead>\n",
       "  <tbody>\n",
       "    <tr>\n",
       "      <th>0</th>\n",
       "      <td>2010-01</td>\n",
       "      <td>-1.98</td>\n",
       "      <td>-4.02</td>\n",
       "      <td>-7.63</td>\n",
       "      <td>0.00</td>\n",
       "      <td>-1.65</td>\n",
       "    </tr>\n",
       "    <tr>\n",
       "      <th>1</th>\n",
       "      <td>2010-02</td>\n",
       "      <td>3.86</td>\n",
       "      <td>3.23</td>\n",
       "      <td>4.37</td>\n",
       "      <td>0.38</td>\n",
       "      <td>3.38</td>\n",
       "    </tr>\n",
       "    <tr>\n",
       "      <th>2</th>\n",
       "      <td>2010-03</td>\n",
       "      <td>6.33</td>\n",
       "      <td>4.74</td>\n",
       "      <td>6.92</td>\n",
       "      <td>3.61</td>\n",
       "      <td>8.43</td>\n",
       "    </tr>\n",
       "    <tr>\n",
       "      <th>3</th>\n",
       "      <td>2010-04</td>\n",
       "      <td>1.53</td>\n",
       "      <td>3.31</td>\n",
       "      <td>2.50</td>\n",
       "      <td>-2.22</td>\n",
       "      <td>2.15</td>\n",
       "    </tr>\n",
       "    <tr>\n",
       "      <th>4</th>\n",
       "      <td>2010-05</td>\n",
       "      <td>-5.71</td>\n",
       "      <td>-8.88</td>\n",
       "      <td>-7.31</td>\n",
       "      <td>-8.01</td>\n",
       "      <td>-8.82</td>\n",
       "    </tr>\n",
       "  </tbody>\n",
       "</table>\n",
       "</div>"
      ],
      "text/plain": [
       "      Date  Cnsmr  Manuf  HiTec  Hlth   Other\n",
       "0  2010-01  -1.98  -4.02  -7.63   0.00  -1.65\n",
       "1  2010-02   3.86   3.23   4.37   0.38   3.38\n",
       "2  2010-03   6.33   4.74   6.92   3.61   8.43\n",
       "3  2010-04   1.53   3.31   2.50  -2.22   2.15\n",
       "4  2010-05  -5.71  -8.88  -7.31  -8.01  -8.82"
      ]
     },
     "execution_count": 3,
     "metadata": {},
     "output_type": "execute_result"
    }
   ],
   "source": [
    "df.head()"
   ]
  },
  {
   "cell_type": "code",
   "execution_count": 4,
   "metadata": {},
   "outputs": [
    {
     "data": {
      "text/plain": [
       "Date      object\n",
       "Cnsmr    float64\n",
       "Manuf    float64\n",
       "HiTec    float64\n",
       "Hlth     float64\n",
       "Other    float64\n",
       "dtype: object"
      ]
     },
     "execution_count": 4,
     "metadata": {},
     "output_type": "execute_result"
    }
   ],
   "source": [
    "df.dtypes"
   ]
  },
  {
   "cell_type": "markdown",
   "metadata": {},
   "source": [
    "**They are objects (ie non date time objects). What can we do with them?**\n",
    "\n",
    "**Well we can interact with date times in string format.. But its clunky**"
   ]
  },
  {
   "cell_type": "code",
   "execution_count": 5,
   "metadata": {
    "scrolled": false
   },
   "outputs": [
    {
     "data": {
      "text/html": [
       "<div>\n",
       "<style scoped>\n",
       "    .dataframe tbody tr th:only-of-type {\n",
       "        vertical-align: middle;\n",
       "    }\n",
       "\n",
       "    .dataframe tbody tr th {\n",
       "        vertical-align: top;\n",
       "    }\n",
       "\n",
       "    .dataframe thead th {\n",
       "        text-align: right;\n",
       "    }\n",
       "</style>\n",
       "<table border=\"1\" class=\"dataframe\">\n",
       "  <thead>\n",
       "    <tr style=\"text-align: right;\">\n",
       "      <th></th>\n",
       "      <th>Date</th>\n",
       "      <th>Cnsmr</th>\n",
       "      <th>Manuf</th>\n",
       "      <th>HiTec</th>\n",
       "      <th>Hlth</th>\n",
       "      <th>Other</th>\n",
       "    </tr>\n",
       "  </thead>\n",
       "  <tbody>\n",
       "    <tr>\n",
       "      <th>96</th>\n",
       "      <td>2018-01</td>\n",
       "      <td>6.32</td>\n",
       "      <td>2.55</td>\n",
       "      <td>6.84</td>\n",
       "      <td>6.38</td>\n",
       "      <td>5.90</td>\n",
       "    </tr>\n",
       "    <tr>\n",
       "      <th>97</th>\n",
       "      <td>2018-02</td>\n",
       "      <td>-5.31</td>\n",
       "      <td>-5.94</td>\n",
       "      <td>-1.21</td>\n",
       "      <td>-3.90</td>\n",
       "      <td>-3.31</td>\n",
       "    </tr>\n",
       "    <tr>\n",
       "      <th>98</th>\n",
       "      <td>2018-03</td>\n",
       "      <td>-2.31</td>\n",
       "      <td>0.11</td>\n",
       "      <td>-3.18</td>\n",
       "      <td>-2.00</td>\n",
       "      <td>-2.65</td>\n",
       "    </tr>\n",
       "    <tr>\n",
       "      <th>99</th>\n",
       "      <td>2018-04</td>\n",
       "      <td>1.07</td>\n",
       "      <td>1.32</td>\n",
       "      <td>-0.48</td>\n",
       "      <td>-0.28</td>\n",
       "      <td>0.44</td>\n",
       "    </tr>\n",
       "    <tr>\n",
       "      <th>100</th>\n",
       "      <td>2018-05</td>\n",
       "      <td>0.59</td>\n",
       "      <td>2.40</td>\n",
       "      <td>5.76</td>\n",
       "      <td>2.43</td>\n",
       "      <td>1.20</td>\n",
       "    </tr>\n",
       "    <tr>\n",
       "      <th>101</th>\n",
       "      <td>2018-06</td>\n",
       "      <td>3.30</td>\n",
       "      <td>0.12</td>\n",
       "      <td>0.52</td>\n",
       "      <td>1.52</td>\n",
       "      <td>-1.02</td>\n",
       "    </tr>\n",
       "    <tr>\n",
       "      <th>102</th>\n",
       "      <td>2018-07</td>\n",
       "      <td>2.70</td>\n",
       "      <td>3.38</td>\n",
       "      <td>2.36</td>\n",
       "      <td>6.12</td>\n",
       "      <td>3.98</td>\n",
       "    </tr>\n",
       "    <tr>\n",
       "      <th>103</th>\n",
       "      <td>2018-08</td>\n",
       "      <td>4.71</td>\n",
       "      <td>-0.80</td>\n",
       "      <td>6.73</td>\n",
       "      <td>4.46</td>\n",
       "      <td>2.45</td>\n",
       "    </tr>\n",
       "    <tr>\n",
       "      <th>104</th>\n",
       "      <td>2018-09</td>\n",
       "      <td>0.32</td>\n",
       "      <td>1.60</td>\n",
       "      <td>0.02</td>\n",
       "      <td>1.99</td>\n",
       "      <td>-1.22</td>\n",
       "    </tr>\n",
       "    <tr>\n",
       "      <th>105</th>\n",
       "      <td>2018-10</td>\n",
       "      <td>-5.95</td>\n",
       "      <td>-8.81</td>\n",
       "      <td>-7.66</td>\n",
       "      <td>-8.84</td>\n",
       "      <td>-6.60</td>\n",
       "    </tr>\n",
       "    <tr>\n",
       "      <th>106</th>\n",
       "      <td>2018-11</td>\n",
       "      <td>2.06</td>\n",
       "      <td>2.44</td>\n",
       "      <td>-1.03</td>\n",
       "      <td>6.32</td>\n",
       "      <td>3.07</td>\n",
       "    </tr>\n",
       "    <tr>\n",
       "      <th>107</th>\n",
       "      <td>2018-12</td>\n",
       "      <td>-9.86</td>\n",
       "      <td>-9.08</td>\n",
       "      <td>-8.23</td>\n",
       "      <td>-8.40</td>\n",
       "      <td>-10.62</td>\n",
       "    </tr>\n",
       "  </tbody>\n",
       "</table>\n",
       "</div>"
      ],
      "text/plain": [
       "        Date  Cnsmr  Manuf  HiTec  Hlth   Other\n",
       "96   2018-01   6.32   2.55   6.84   6.38   5.90\n",
       "97   2018-02  -5.31  -5.94  -1.21  -3.90  -3.31\n",
       "98   2018-03  -2.31   0.11  -3.18  -2.00  -2.65\n",
       "99   2018-04   1.07   1.32  -0.48  -0.28   0.44\n",
       "100  2018-05   0.59   2.40   5.76   2.43   1.20\n",
       "101  2018-06   3.30   0.12   0.52   1.52  -1.02\n",
       "102  2018-07   2.70   3.38   2.36   6.12   3.98\n",
       "103  2018-08   4.71  -0.80   6.73   4.46   2.45\n",
       "104  2018-09   0.32   1.60   0.02   1.99  -1.22\n",
       "105  2018-10  -5.95  -8.81  -7.66  -8.84  -6.60\n",
       "106  2018-11   2.06   2.44  -1.03   6.32   3.07\n",
       "107  2018-12  -9.86  -9.08  -8.23  -8.40 -10.62"
      ]
     },
     "execution_count": 5,
     "metadata": {},
     "output_type": "execute_result"
    }
   ],
   "source": [
    "df[df['Date'].str.contains('2018')]"
   ]
  },
  {
   "cell_type": "markdown",
   "metadata": {},
   "source": [
    "**Don't waste too much time manipulating your data for dates - so lets create a datetime series out of any columns with dates using pd.to_datetime**"
   ]
  },
  {
   "cell_type": "code",
   "execution_count": 6,
   "metadata": {},
   "outputs": [
    {
     "data": {
      "text/plain": [
       "Timestamp('2010-01-01 00:00:00')"
      ]
     },
     "execution_count": 6,
     "metadata": {},
     "output_type": "execute_result"
    }
   ],
   "source": [
    "df['DT'] = pd.to_datetime(df['Date'])\n",
    "df.loc[0]['DT']"
   ]
  },
  {
   "cell_type": "code",
   "execution_count": 7,
   "metadata": {},
   "outputs": [
    {
     "data": {
      "text/plain": [
       "Timestamp('1984-01-01 19:27:00')"
      ]
     },
     "execution_count": 7,
     "metadata": {},
     "output_type": "execute_result"
    }
   ],
   "source": [
    "pd.to_datetime('1st jan 84, 19.45h')"
   ]
  },
  {
   "cell_type": "markdown",
   "metadata": {},
   "source": [
    "**Now we can do cool stuff with the date time objects**"
   ]
  },
  {
   "cell_type": "markdown",
   "metadata": {},
   "source": [
    "**Using Date Time Objects!**\n",
    "\n",
    "* Easily extract more granular date information using **dt.'whatever'**\n",
    "* Select rows for specific conditions - day, month, week, year\n",
    "* Easily compare dates relatively"
   ]
  },
  {
   "cell_type": "markdown",
   "metadata": {},
   "source": [
    "* Easily extract more granular date information using **dt.whatever**"
   ]
  },
  {
   "cell_type": "code",
   "execution_count": 8,
   "metadata": {},
   "outputs": [
    {
     "data": {
      "text/plain": [
       "0    1\n",
       "1    1\n",
       "2    1\n",
       "3    1\n",
       "4    1\n",
       "Name: DT, dtype: int64"
      ]
     },
     "execution_count": 8,
     "metadata": {},
     "output_type": "execute_result"
    }
   ],
   "source": [
    "df['DT'].dt.day.head() # only gives day in a column"
   ]
  },
  {
   "cell_type": "code",
   "execution_count": 9,
   "metadata": {
    "scrolled": true
   },
   "outputs": [
    {
     "data": {
      "text/plain": [
       "0    1\n",
       "1    2\n",
       "2    3\n",
       "3    4\n",
       "4    5\n",
       "Name: DT, dtype: int64"
      ]
     },
     "execution_count": 9,
     "metadata": {},
     "output_type": "execute_result"
    }
   ],
   "source": [
    "df['DT'].dt.month.head() # only gives day in a column"
   ]
  },
  {
   "cell_type": "code",
   "execution_count": 10,
   "metadata": {
    "scrolled": true
   },
   "outputs": [
    {
     "data": {
      "text/plain": [
       "0    53\n",
       "1     5\n",
       "2     9\n",
       "3    13\n",
       "4    17\n",
       "Name: DT, dtype: int64"
      ]
     },
     "execution_count": 10,
     "metadata": {},
     "output_type": "execute_result"
    }
   ],
   "source": [
    "df['DT'].dt.week.head() # only gives week of the new month in a column"
   ]
  },
  {
   "cell_type": "code",
   "execution_count": 11,
   "metadata": {},
   "outputs": [
    {
     "data": {
      "text/plain": [
       "0    0\n",
       "1    0\n",
       "2    0\n",
       "3    0\n",
       "4    0\n",
       "Name: DT, dtype: int64"
      ]
     },
     "execution_count": 11,
     "metadata": {},
     "output_type": "execute_result"
    }
   ],
   "source": [
    "df['DT'].dt.hour.head() # only gives hour in a column"
   ]
  },
  {
   "cell_type": "code",
   "execution_count": 12,
   "metadata": {},
   "outputs": [
    {
     "data": {
      "text/plain": [
       "0    0\n",
       "1    0\n",
       "2    0\n",
       "3    0\n",
       "4    0\n",
       "Name: DT, dtype: int64"
      ]
     },
     "execution_count": 12,
     "metadata": {},
     "output_type": "execute_result"
    }
   ],
   "source": [
    "df['DT'].dt.second.head() # only gives day in a column"
   ]
  },
  {
   "cell_type": "markdown",
   "metadata": {},
   "source": [
    "* Select rows for specific conditions - day, month, week, year\n",
    "\n",
    "Can include booleans!"
   ]
  },
  {
   "cell_type": "code",
   "execution_count": 13,
   "metadata": {},
   "outputs": [
    {
     "data": {
      "text/html": [
       "<div>\n",
       "<style scoped>\n",
       "    .dataframe tbody tr th:only-of-type {\n",
       "        vertical-align: middle;\n",
       "    }\n",
       "\n",
       "    .dataframe tbody tr th {\n",
       "        vertical-align: top;\n",
       "    }\n",
       "\n",
       "    .dataframe thead th {\n",
       "        text-align: right;\n",
       "    }\n",
       "</style>\n",
       "<table border=\"1\" class=\"dataframe\">\n",
       "  <thead>\n",
       "    <tr style=\"text-align: right;\">\n",
       "      <th></th>\n",
       "      <th>Date</th>\n",
       "      <th>Cnsmr</th>\n",
       "      <th>Manuf</th>\n",
       "      <th>HiTec</th>\n",
       "      <th>Hlth</th>\n",
       "      <th>Other</th>\n",
       "      <th>DT</th>\n",
       "    </tr>\n",
       "  </thead>\n",
       "  <tbody>\n",
       "    <tr>\n",
       "      <th>85</th>\n",
       "      <td>2017-02</td>\n",
       "      <td>2.99</td>\n",
       "      <td>2.26</td>\n",
       "      <td>3.94</td>\n",
       "      <td>7.10</td>\n",
       "      <td>3.74</td>\n",
       "      <td>2017-02-01</td>\n",
       "    </tr>\n",
       "    <tr>\n",
       "      <th>86</th>\n",
       "      <td>2017-03</td>\n",
       "      <td>0.78</td>\n",
       "      <td>-0.18</td>\n",
       "      <td>1.91</td>\n",
       "      <td>-0.16</td>\n",
       "      <td>-1.68</td>\n",
       "      <td>2017-03-01</td>\n",
       "    </tr>\n",
       "    <tr>\n",
       "      <th>87</th>\n",
       "      <td>2017-04</td>\n",
       "      <td>1.81</td>\n",
       "      <td>0.32</td>\n",
       "      <td>2.22</td>\n",
       "      <td>1.09</td>\n",
       "      <td>0.24</td>\n",
       "      <td>2017-04-01</td>\n",
       "    </tr>\n",
       "    <tr>\n",
       "      <th>88</th>\n",
       "      <td>2017-05</td>\n",
       "      <td>2.00</td>\n",
       "      <td>0.32</td>\n",
       "      <td>3.10</td>\n",
       "      <td>-0.43</td>\n",
       "      <td>-0.43</td>\n",
       "      <td>2017-05-01</td>\n",
       "    </tr>\n",
       "    <tr>\n",
       "      <th>89</th>\n",
       "      <td>2017-06</td>\n",
       "      <td>-1.18</td>\n",
       "      <td>0.29</td>\n",
       "      <td>-2.13</td>\n",
       "      <td>5.56</td>\n",
       "      <td>4.20</td>\n",
       "      <td>2017-06-01</td>\n",
       "    </tr>\n",
       "    <tr>\n",
       "      <th>90</th>\n",
       "      <td>2017-07</td>\n",
       "      <td>-0.10</td>\n",
       "      <td>2.30</td>\n",
       "      <td>4.07</td>\n",
       "      <td>0.53</td>\n",
       "      <td>1.44</td>\n",
       "      <td>2017-07-01</td>\n",
       "    </tr>\n",
       "    <tr>\n",
       "      <th>91</th>\n",
       "      <td>2017-08</td>\n",
       "      <td>-1.55</td>\n",
       "      <td>-0.81</td>\n",
       "      <td>1.98</td>\n",
       "      <td>1.78</td>\n",
       "      <td>-0.39</td>\n",
       "      <td>2017-08-01</td>\n",
       "    </tr>\n",
       "    <tr>\n",
       "      <th>92</th>\n",
       "      <td>2017-09</td>\n",
       "      <td>1.73</td>\n",
       "      <td>4.68</td>\n",
       "      <td>0.17</td>\n",
       "      <td>1.50</td>\n",
       "      <td>4.31</td>\n",
       "      <td>2017-09-01</td>\n",
       "    </tr>\n",
       "    <tr>\n",
       "      <th>93</th>\n",
       "      <td>2017-10</td>\n",
       "      <td>1.66</td>\n",
       "      <td>2.21</td>\n",
       "      <td>4.61</td>\n",
       "      <td>-2.24</td>\n",
       "      <td>2.04</td>\n",
       "      <td>2017-10-01</td>\n",
       "    </tr>\n",
       "    <tr>\n",
       "      <th>94</th>\n",
       "      <td>2017-11</td>\n",
       "      <td>5.90</td>\n",
       "      <td>3.14</td>\n",
       "      <td>1.46</td>\n",
       "      <td>2.36</td>\n",
       "      <td>3.77</td>\n",
       "      <td>2017-11-01</td>\n",
       "    </tr>\n",
       "    <tr>\n",
       "      <th>95</th>\n",
       "      <td>2017-12</td>\n",
       "      <td>2.02</td>\n",
       "      <td>1.60</td>\n",
       "      <td>0.56</td>\n",
       "      <td>-0.23</td>\n",
       "      <td>1.42</td>\n",
       "      <td>2017-12-01</td>\n",
       "    </tr>\n",
       "  </tbody>\n",
       "</table>\n",
       "</div>"
      ],
      "text/plain": [
       "       Date  Cnsmr  Manuf  HiTec  Hlth   Other         DT\n",
       "85  2017-02   2.99   2.26   3.94   7.10   3.74 2017-02-01\n",
       "86  2017-03   0.78  -0.18   1.91  -0.16  -1.68 2017-03-01\n",
       "87  2017-04   1.81   0.32   2.22   1.09   0.24 2017-04-01\n",
       "88  2017-05   2.00   0.32   3.10  -0.43  -0.43 2017-05-01\n",
       "89  2017-06  -1.18   0.29  -2.13   5.56   4.20 2017-06-01\n",
       "90  2017-07  -0.10   2.30   4.07   0.53   1.44 2017-07-01\n",
       "91  2017-08  -1.55  -0.81   1.98   1.78  -0.39 2017-08-01\n",
       "92  2017-09   1.73   4.68   0.17   1.50   4.31 2017-09-01\n",
       "93  2017-10   1.66   2.21   4.61  -2.24   2.04 2017-10-01\n",
       "94  2017-11   5.90   3.14   1.46   2.36   3.77 2017-11-01\n",
       "95  2017-12   2.02   1.60   0.56  -0.23   1.42 2017-12-01"
      ]
     },
     "execution_count": 13,
     "metadata": {},
     "output_type": "execute_result"
    }
   ],
   "source": [
    "mask = (df['DT']>'1st jan 2017') & (df['DT'] < '2018/01/01')\n",
    "\n",
    "df[mask]"
   ]
  },
  {
   "cell_type": "markdown",
   "metadata": {},
   "source": [
    "* Easily compare dates relatively\n",
    "\n",
    "#### Can compare dates in a two different date time columns "
   ]
  },
  {
   "cell_type": "code",
   "execution_count": 14,
   "metadata": {},
   "outputs": [
    {
     "data": {
      "text/plain": [
       "0   0 days\n",
       "1   0 days\n",
       "2   0 days\n",
       "3   0 days\n",
       "4   0 days\n",
       "Name: DT, dtype: timedelta64[ns]"
      ]
     },
     "execution_count": 14,
     "metadata": {},
     "output_type": "execute_result"
    }
   ],
   "source": [
    "(df['DT'] - df['DT']).head()"
   ]
  },
  {
   "cell_type": "markdown",
   "metadata": {},
   "source": [
    "* But wait, we can't compare times to themselves? \n",
    "\n",
    "**We can't compare times to themselves.** Lets do some more interesting stuff! "
   ]
  },
  {
   "cell_type": "markdown",
   "metadata": {},
   "source": [
    "#### More advanced date_time stuff\n",
    "* Shift\n",
    "* Rolling values\n",
    "* Back/forward filling\n",
    "* Filling in between the lines \n",
    "* etc\n"
   ]
  },
  {
   "cell_type": "markdown",
   "metadata": {},
   "source": [
    "**Shift data** - shift data  "
   ]
  },
  {
   "cell_type": "code",
   "execution_count": 15,
   "metadata": {
    "scrolled": false
   },
   "outputs": [
    {
     "data": {
      "text/html": [
       "<div>\n",
       "<style scoped>\n",
       "    .dataframe tbody tr th:only-of-type {\n",
       "        vertical-align: middle;\n",
       "    }\n",
       "\n",
       "    .dataframe tbody tr th {\n",
       "        vertical-align: top;\n",
       "    }\n",
       "\n",
       "    .dataframe thead th {\n",
       "        text-align: right;\n",
       "    }\n",
       "</style>\n",
       "<table border=\"1\" class=\"dataframe\">\n",
       "  <thead>\n",
       "    <tr style=\"text-align: right;\">\n",
       "      <th></th>\n",
       "      <th>Date</th>\n",
       "      <th>Cnsmr</th>\n",
       "      <th>Manuf</th>\n",
       "      <th>HiTec</th>\n",
       "      <th>Hlth</th>\n",
       "      <th>Other</th>\n",
       "      <th>DT</th>\n",
       "      <th>DT+1</th>\n",
       "      <th>Cnsmr+2</th>\n",
       "    </tr>\n",
       "  </thead>\n",
       "  <tbody>\n",
       "    <tr>\n",
       "      <th>0</th>\n",
       "      <td>2010-01</td>\n",
       "      <td>-1.98</td>\n",
       "      <td>-4.02</td>\n",
       "      <td>-7.63</td>\n",
       "      <td>0.00</td>\n",
       "      <td>-1.65</td>\n",
       "      <td>2010-01-01</td>\n",
       "      <td>NaT</td>\n",
       "      <td>NaN</td>\n",
       "    </tr>\n",
       "    <tr>\n",
       "      <th>1</th>\n",
       "      <td>2010-02</td>\n",
       "      <td>3.86</td>\n",
       "      <td>3.23</td>\n",
       "      <td>4.37</td>\n",
       "      <td>0.38</td>\n",
       "      <td>3.38</td>\n",
       "      <td>2010-02-01</td>\n",
       "      <td>2010-01-01</td>\n",
       "      <td>NaN</td>\n",
       "    </tr>\n",
       "    <tr>\n",
       "      <th>2</th>\n",
       "      <td>2010-03</td>\n",
       "      <td>6.33</td>\n",
       "      <td>4.74</td>\n",
       "      <td>6.92</td>\n",
       "      <td>3.61</td>\n",
       "      <td>8.43</td>\n",
       "      <td>2010-03-01</td>\n",
       "      <td>2010-02-01</td>\n",
       "      <td>-1.98</td>\n",
       "    </tr>\n",
       "    <tr>\n",
       "      <th>3</th>\n",
       "      <td>2010-04</td>\n",
       "      <td>1.53</td>\n",
       "      <td>3.31</td>\n",
       "      <td>2.50</td>\n",
       "      <td>-2.22</td>\n",
       "      <td>2.15</td>\n",
       "      <td>2010-04-01</td>\n",
       "      <td>2010-03-01</td>\n",
       "      <td>3.86</td>\n",
       "    </tr>\n",
       "    <tr>\n",
       "      <th>4</th>\n",
       "      <td>2010-05</td>\n",
       "      <td>-5.71</td>\n",
       "      <td>-8.88</td>\n",
       "      <td>-7.31</td>\n",
       "      <td>-8.01</td>\n",
       "      <td>-8.82</td>\n",
       "      <td>2010-05-01</td>\n",
       "      <td>2010-04-01</td>\n",
       "      <td>6.33</td>\n",
       "    </tr>\n",
       "  </tbody>\n",
       "</table>\n",
       "</div>"
      ],
      "text/plain": [
       "      Date  Cnsmr  Manuf  HiTec  Hlth   Other         DT       DT+1  Cnsmr+2\n",
       "0  2010-01  -1.98  -4.02  -7.63   0.00  -1.65 2010-01-01        NaT      NaN\n",
       "1  2010-02   3.86   3.23   4.37   0.38   3.38 2010-02-01 2010-01-01      NaN\n",
       "2  2010-03   6.33   4.74   6.92   3.61   8.43 2010-03-01 2010-02-01    -1.98\n",
       "3  2010-04   1.53   3.31   2.50  -2.22   2.15 2010-04-01 2010-03-01     3.86\n",
       "4  2010-05  -5.71  -8.88  -7.31  -8.01  -8.82 2010-05-01 2010-04-01     6.33"
      ]
     },
     "execution_count": 15,
     "metadata": {},
     "output_type": "execute_result"
    }
   ],
   "source": [
    "df['DT+1'] = df['DT'].shift(1)\n",
    "df['Cnsmr+2'] = df['Cnsmr'].shift(2)\n",
    "df.head()"
   ]
  },
  {
   "cell_type": "code",
   "execution_count": 16,
   "metadata": {},
   "outputs": [
    {
     "data": {
      "text/plain": [
       "<matplotlib.legend.Legend at 0x115ab7e48>"
      ]
     },
     "execution_count": 16,
     "metadata": {},
     "output_type": "execute_result"
    },
    {
     "data": {
      "image/png": "[encoded data removed]",
      "text/plain": [
       "<Figure size 432x288 with 1 Axes>"
      ]
     },
     "metadata": {
      "needs_background": "light"
     },
     "output_type": "display_data"
    }
   ],
   "source": [
    "from matplotlib import pyplot as plt\n",
    "%matplotlib inline\n",
    "\n",
    "plt.figure()\n",
    "df['Cnsmr'].plot()\n",
    "df['Cnsmr+2'].plot()\n",
    "plt.legend()"
   ]
  },
  {
   "cell_type": "markdown",
   "metadata": {},
   "source": [
    "**Or calculate some rolling values**"
   ]
  },
  {
   "cell_type": "code",
   "execution_count": 17,
   "metadata": {},
   "outputs": [],
   "source": [
    "del df['DT+1']"
   ]
  },
  {
   "cell_type": "code",
   "execution_count": 18,
   "metadata": {
    "scrolled": true
   },
   "outputs": [
    {
     "data": {
      "text/html": [
       "<div>\n",
       "<style scoped>\n",
       "    .dataframe tbody tr th:only-of-type {\n",
       "        vertical-align: middle;\n",
       "    }\n",
       "\n",
       "    .dataframe tbody tr th {\n",
       "        vertical-align: top;\n",
       "    }\n",
       "\n",
       "    .dataframe thead th {\n",
       "        text-align: right;\n",
       "    }\n",
       "</style>\n",
       "<table border=\"1\" class=\"dataframe\">\n",
       "  <thead>\n",
       "    <tr style=\"text-align: right;\">\n",
       "      <th></th>\n",
       "      <th>Date</th>\n",
       "      <th>Cnsmr</th>\n",
       "      <th>Manuf</th>\n",
       "      <th>HiTec</th>\n",
       "      <th>Hlth</th>\n",
       "      <th>Other</th>\n",
       "      <th>DT</th>\n",
       "      <th>Cnsmr+2</th>\n",
       "      <th>Cnsmr_rolling_av</th>\n",
       "    </tr>\n",
       "  </thead>\n",
       "  <tbody>\n",
       "    <tr>\n",
       "      <th>0</th>\n",
       "      <td>2010-01</td>\n",
       "      <td>-1.98</td>\n",
       "      <td>-4.02</td>\n",
       "      <td>-7.63</td>\n",
       "      <td>0.00</td>\n",
       "      <td>-1.65</td>\n",
       "      <td>2010-01-01</td>\n",
       "      <td>NaN</td>\n",
       "      <td>NaN</td>\n",
       "    </tr>\n",
       "    <tr>\n",
       "      <th>1</th>\n",
       "      <td>2010-02</td>\n",
       "      <td>3.86</td>\n",
       "      <td>3.23</td>\n",
       "      <td>4.37</td>\n",
       "      <td>0.38</td>\n",
       "      <td>3.38</td>\n",
       "      <td>2010-02-01</td>\n",
       "      <td>NaN</td>\n",
       "      <td>NaN</td>\n",
       "    </tr>\n",
       "    <tr>\n",
       "      <th>2</th>\n",
       "      <td>2010-03</td>\n",
       "      <td>6.33</td>\n",
       "      <td>4.74</td>\n",
       "      <td>6.92</td>\n",
       "      <td>3.61</td>\n",
       "      <td>8.43</td>\n",
       "      <td>2010-03-01</td>\n",
       "      <td>-1.98</td>\n",
       "      <td>NaN</td>\n",
       "    </tr>\n",
       "    <tr>\n",
       "      <th>3</th>\n",
       "      <td>2010-04</td>\n",
       "      <td>1.53</td>\n",
       "      <td>3.31</td>\n",
       "      <td>2.50</td>\n",
       "      <td>-2.22</td>\n",
       "      <td>2.15</td>\n",
       "      <td>2010-04-01</td>\n",
       "      <td>3.86</td>\n",
       "      <td>NaN</td>\n",
       "    </tr>\n",
       "    <tr>\n",
       "      <th>4</th>\n",
       "      <td>2010-05</td>\n",
       "      <td>-5.71</td>\n",
       "      <td>-8.88</td>\n",
       "      <td>-7.31</td>\n",
       "      <td>-8.01</td>\n",
       "      <td>-8.82</td>\n",
       "      <td>2010-05-01</td>\n",
       "      <td>6.33</td>\n",
       "      <td>NaN</td>\n",
       "    </tr>\n",
       "    <tr>\n",
       "      <th>5</th>\n",
       "      <td>2010-06</td>\n",
       "      <td>-6.47</td>\n",
       "      <td>-5.19</td>\n",
       "      <td>-5.77</td>\n",
       "      <td>-1.63</td>\n",
       "      <td>-7.65</td>\n",
       "      <td>2010-06-01</td>\n",
       "      <td>1.53</td>\n",
       "      <td>NaN</td>\n",
       "    </tr>\n",
       "    <tr>\n",
       "      <th>6</th>\n",
       "      <td>2010-07</td>\n",
       "      <td>6.44</td>\n",
       "      <td>8.48</td>\n",
       "      <td>7.98</td>\n",
       "      <td>2.15</td>\n",
       "      <td>7.48</td>\n",
       "      <td>2010-07-01</td>\n",
       "      <td>-5.71</td>\n",
       "      <td>NaN</td>\n",
       "    </tr>\n",
       "    <tr>\n",
       "      <th>7</th>\n",
       "      <td>2010-08</td>\n",
       "      <td>-3.32</td>\n",
       "      <td>-3.79</td>\n",
       "      <td>-5.54</td>\n",
       "      <td>-1.66</td>\n",
       "      <td>-7.55</td>\n",
       "      <td>2010-08-01</td>\n",
       "      <td>-6.47</td>\n",
       "      <td>NaN</td>\n",
       "    </tr>\n",
       "    <tr>\n",
       "      <th>8</th>\n",
       "      <td>2010-09</td>\n",
       "      <td>9.85</td>\n",
       "      <td>8.83</td>\n",
       "      <td>11.41</td>\n",
       "      <td>9.01</td>\n",
       "      <td>8.82</td>\n",
       "      <td>2010-09-01</td>\n",
       "      <td>6.44</td>\n",
       "      <td>NaN</td>\n",
       "    </tr>\n",
       "    <tr>\n",
       "      <th>9</th>\n",
       "      <td>2010-10</td>\n",
       "      <td>3.62</td>\n",
       "      <td>4.33</td>\n",
       "      <td>6.04</td>\n",
       "      <td>2.00</td>\n",
       "      <td>2.60</td>\n",
       "      <td>2010-10-01</td>\n",
       "      <td>-3.32</td>\n",
       "      <td>1.415</td>\n",
       "    </tr>\n",
       "    <tr>\n",
       "      <th>10</th>\n",
       "      <td>2010-11</td>\n",
       "      <td>2.84</td>\n",
       "      <td>2.46</td>\n",
       "      <td>-1.04</td>\n",
       "      <td>-3.34</td>\n",
       "      <td>0.52</td>\n",
       "      <td>2010-11-01</td>\n",
       "      <td>9.85</td>\n",
       "      <td>1.897</td>\n",
       "    </tr>\n",
       "    <tr>\n",
       "      <th>11</th>\n",
       "      <td>2010-12</td>\n",
       "      <td>4.12</td>\n",
       "      <td>7.27</td>\n",
       "      <td>6.18</td>\n",
       "      <td>5.40</td>\n",
       "      <td>9.73</td>\n",
       "      <td>2010-12-01</td>\n",
       "      <td>3.62</td>\n",
       "      <td>1.923</td>\n",
       "    </tr>\n",
       "    <tr>\n",
       "      <th>12</th>\n",
       "      <td>2011-01</td>\n",
       "      <td>-1.31</td>\n",
       "      <td>4.25</td>\n",
       "      <td>3.10</td>\n",
       "      <td>-0.71</td>\n",
       "      <td>1.97</td>\n",
       "      <td>2011-01-01</td>\n",
       "      <td>2.84</td>\n",
       "      <td>1.159</td>\n",
       "    </tr>\n",
       "    <tr>\n",
       "      <th>13</th>\n",
       "      <td>2011-02</td>\n",
       "      <td>2.91</td>\n",
       "      <td>4.88</td>\n",
       "      <td>3.40</td>\n",
       "      <td>3.33</td>\n",
       "      <td>2.66</td>\n",
       "      <td>2011-02-01</td>\n",
       "      <td>4.12</td>\n",
       "      <td>1.297</td>\n",
       "    </tr>\n",
       "    <tr>\n",
       "      <th>14</th>\n",
       "      <td>2011-03</td>\n",
       "      <td>1.89</td>\n",
       "      <td>1.73</td>\n",
       "      <td>-0.86</td>\n",
       "      <td>2.30</td>\n",
       "      <td>-0.87</td>\n",
       "      <td>2011-03-01</td>\n",
       "      <td>-1.31</td>\n",
       "      <td>2.057</td>\n",
       "    </tr>\n",
       "    <tr>\n",
       "      <th>15</th>\n",
       "      <td>2011-04</td>\n",
       "      <td>4.36</td>\n",
       "      <td>2.47</td>\n",
       "      <td>3.19</td>\n",
       "      <td>6.38</td>\n",
       "      <td>1.11</td>\n",
       "      <td>2011-04-01</td>\n",
       "      <td>2.91</td>\n",
       "      <td>3.140</td>\n",
       "    </tr>\n",
       "    <tr>\n",
       "      <th>16</th>\n",
       "      <td>2011-05</td>\n",
       "      <td>0.88</td>\n",
       "      <td>-2.59</td>\n",
       "      <td>-1.15</td>\n",
       "      <td>1.96</td>\n",
       "      <td>-2.38</td>\n",
       "      <td>2011-05-01</td>\n",
       "      <td>1.89</td>\n",
       "      <td>2.584</td>\n",
       "    </tr>\n",
       "    <tr>\n",
       "      <th>17</th>\n",
       "      <td>2011-06</td>\n",
       "      <td>-0.96</td>\n",
       "      <td>-1.27</td>\n",
       "      <td>-2.09</td>\n",
       "      <td>-1.83</td>\n",
       "      <td>-2.06</td>\n",
       "      <td>2011-06-01</td>\n",
       "      <td>4.36</td>\n",
       "      <td>2.820</td>\n",
       "    </tr>\n",
       "    <tr>\n",
       "      <th>18</th>\n",
       "      <td>2011-07</td>\n",
       "      <td>-1.39</td>\n",
       "      <td>-2.04</td>\n",
       "      <td>-1.38</td>\n",
       "      <td>-3.65</td>\n",
       "      <td>-3.76</td>\n",
       "      <td>2011-07-01</td>\n",
       "      <td>0.88</td>\n",
       "      <td>1.696</td>\n",
       "    </tr>\n",
       "    <tr>\n",
       "      <th>19</th>\n",
       "      <td>2011-08</td>\n",
       "      <td>-2.85</td>\n",
       "      <td>-6.70</td>\n",
       "      <td>-6.59</td>\n",
       "      <td>-3.09</td>\n",
       "      <td>-7.59</td>\n",
       "      <td>2011-08-01</td>\n",
       "      <td>-0.96</td>\n",
       "      <td>1.049</td>\n",
       "    </tr>\n",
       "    <tr>\n",
       "      <th>20</th>\n",
       "      <td>2011-09</td>\n",
       "      <td>-5.11</td>\n",
       "      <td>-10.00</td>\n",
       "      <td>-5.10</td>\n",
       "      <td>-3.96</td>\n",
       "      <td>-10.29</td>\n",
       "      <td>2011-09-01</td>\n",
       "      <td>-1.39</td>\n",
       "      <td>0.254</td>\n",
       "    </tr>\n",
       "    <tr>\n",
       "      <th>21</th>\n",
       "      <td>2011-10</td>\n",
       "      <td>9.46</td>\n",
       "      <td>13.57</td>\n",
       "      <td>11.01</td>\n",
       "      <td>5.54</td>\n",
       "      <td>13.30</td>\n",
       "      <td>2011-10-01</td>\n",
       "      <td>-2.85</td>\n",
       "      <td>0.788</td>\n",
       "    </tr>\n",
       "    <tr>\n",
       "      <th>22</th>\n",
       "      <td>2011-11</td>\n",
       "      <td>0.45</td>\n",
       "      <td>1.45</td>\n",
       "      <td>-1.58</td>\n",
       "      <td>1.27</td>\n",
       "      <td>-1.60</td>\n",
       "      <td>2011-11-01</td>\n",
       "      <td>-5.11</td>\n",
       "      <td>0.964</td>\n",
       "    </tr>\n",
       "    <tr>\n",
       "      <th>23</th>\n",
       "      <td>2011-12</td>\n",
       "      <td>1.11</td>\n",
       "      <td>-0.08</td>\n",
       "      <td>-0.48</td>\n",
       "      <td>3.53</td>\n",
       "      <td>1.07</td>\n",
       "      <td>2011-12-01</td>\n",
       "      <td>9.46</td>\n",
       "      <td>0.784</td>\n",
       "    </tr>\n",
       "    <tr>\n",
       "      <th>24</th>\n",
       "      <td>2012-01</td>\n",
       "      <td>3.35</td>\n",
       "      <td>3.10</td>\n",
       "      <td>6.90</td>\n",
       "      <td>3.38</td>\n",
       "      <td>6.76</td>\n",
       "      <td>2012-01-01</td>\n",
       "      <td>0.45</td>\n",
       "      <td>0.930</td>\n",
       "    </tr>\n",
       "    <tr>\n",
       "      <th>25</th>\n",
       "      <td>2012-02</td>\n",
       "      <td>3.72</td>\n",
       "      <td>4.41</td>\n",
       "      <td>6.35</td>\n",
       "      <td>1.23</td>\n",
       "      <td>3.87</td>\n",
       "      <td>2012-02-01</td>\n",
       "      <td>1.11</td>\n",
       "      <td>0.866</td>\n",
       "    </tr>\n",
       "    <tr>\n",
       "      <th>26</th>\n",
       "      <td>2012-03</td>\n",
       "      <td>4.03</td>\n",
       "      <td>-0.67</td>\n",
       "      <td>4.25</td>\n",
       "      <td>3.97</td>\n",
       "      <td>4.76</td>\n",
       "      <td>2012-03-01</td>\n",
       "      <td>3.35</td>\n",
       "      <td>1.181</td>\n",
       "    </tr>\n",
       "    <tr>\n",
       "      <th>27</th>\n",
       "      <td>2012-04</td>\n",
       "      <td>0.27</td>\n",
       "      <td>-0.66</td>\n",
       "      <td>-1.35</td>\n",
       "      <td>0.61</td>\n",
       "      <td>-1.69</td>\n",
       "      <td>2012-04-01</td>\n",
       "      <td>3.72</td>\n",
       "      <td>1.304</td>\n",
       "    </tr>\n",
       "    <tr>\n",
       "      <th>28</th>\n",
       "      <td>2012-05</td>\n",
       "      <td>-3.31</td>\n",
       "      <td>-7.78</td>\n",
       "      <td>-6.46</td>\n",
       "      <td>-3.28</td>\n",
       "      <td>-7.19</td>\n",
       "      <td>2012-05-01</td>\n",
       "      <td>4.03</td>\n",
       "      <td>1.112</td>\n",
       "    </tr>\n",
       "    <tr>\n",
       "      <th>29</th>\n",
       "      <td>2012-06</td>\n",
       "      <td>2.04</td>\n",
       "      <td>3.23</td>\n",
       "      <td>3.77</td>\n",
       "      <td>6.80</td>\n",
       "      <td>4.75</td>\n",
       "      <td>2012-06-01</td>\n",
       "      <td>0.27</td>\n",
       "      <td>1.601</td>\n",
       "    </tr>\n",
       "    <tr>\n",
       "      <th>...</th>\n",
       "      <td>...</td>\n",
       "      <td>...</td>\n",
       "      <td>...</td>\n",
       "      <td>...</td>\n",
       "      <td>...</td>\n",
       "      <td>...</td>\n",
       "      <td>...</td>\n",
       "      <td>...</td>\n",
       "      <td>...</td>\n",
       "    </tr>\n",
       "    <tr>\n",
       "      <th>81</th>\n",
       "      <td>2016-10</td>\n",
       "      <td>-2.52</td>\n",
       "      <td>-2.30</td>\n",
       "      <td>-1.46</td>\n",
       "      <td>-7.44</td>\n",
       "      <td>0.61</td>\n",
       "      <td>2016-10-01</td>\n",
       "      <td>-1.00</td>\n",
       "      <td>0.286</td>\n",
       "    </tr>\n",
       "    <tr>\n",
       "      <th>82</th>\n",
       "      <td>2016-11</td>\n",
       "      <td>1.53</td>\n",
       "      <td>5.29</td>\n",
       "      <td>1.65</td>\n",
       "      <td>1.38</td>\n",
       "      <td>11.30</td>\n",
       "      <td>2016-11-01</td>\n",
       "      <td>-1.44</td>\n",
       "      <td>0.769</td>\n",
       "    </tr>\n",
       "    <tr>\n",
       "      <th>83</th>\n",
       "      <td>2016-12</td>\n",
       "      <td>1.33</td>\n",
       "      <td>1.56</td>\n",
       "      <td>1.62</td>\n",
       "      <td>0.86</td>\n",
       "      <td>2.93</td>\n",
       "      <td>2016-12-01</td>\n",
       "      <td>-2.52</td>\n",
       "      <td>0.851</td>\n",
       "    </tr>\n",
       "    <tr>\n",
       "      <th>84</th>\n",
       "      <td>2017-01</td>\n",
       "      <td>1.37</td>\n",
       "      <td>0.69</td>\n",
       "      <td>4.43</td>\n",
       "      <td>2.21</td>\n",
       "      <td>0.98</td>\n",
       "      <td>2017-01-01</td>\n",
       "      <td>1.53</td>\n",
       "      <td>0.407</td>\n",
       "    </tr>\n",
       "    <tr>\n",
       "      <th>85</th>\n",
       "      <td>2017-02</td>\n",
       "      <td>2.99</td>\n",
       "      <td>2.26</td>\n",
       "      <td>3.94</td>\n",
       "      <td>7.10</td>\n",
       "      <td>3.74</td>\n",
       "      <td>2017-02-01</td>\n",
       "      <td>1.33</td>\n",
       "      <td>0.719</td>\n",
       "    </tr>\n",
       "    <tr>\n",
       "      <th>86</th>\n",
       "      <td>2017-03</td>\n",
       "      <td>0.78</td>\n",
       "      <td>-0.18</td>\n",
       "      <td>1.91</td>\n",
       "      <td>-0.16</td>\n",
       "      <td>-1.68</td>\n",
       "      <td>2017-03-01</td>\n",
       "      <td>1.37</td>\n",
       "      <td>0.723</td>\n",
       "    </tr>\n",
       "    <tr>\n",
       "      <th>87</th>\n",
       "      <td>2017-04</td>\n",
       "      <td>1.81</td>\n",
       "      <td>0.32</td>\n",
       "      <td>2.22</td>\n",
       "      <td>1.09</td>\n",
       "      <td>0.24</td>\n",
       "      <td>2017-04-01</td>\n",
       "      <td>2.99</td>\n",
       "      <td>0.731</td>\n",
       "    </tr>\n",
       "    <tr>\n",
       "      <th>88</th>\n",
       "      <td>2017-05</td>\n",
       "      <td>2.00</td>\n",
       "      <td>0.32</td>\n",
       "      <td>3.10</td>\n",
       "      <td>-0.43</td>\n",
       "      <td>-0.43</td>\n",
       "      <td>2017-05-01</td>\n",
       "      <td>0.78</td>\n",
       "      <td>0.685</td>\n",
       "    </tr>\n",
       "    <tr>\n",
       "      <th>89</th>\n",
       "      <td>2017-06</td>\n",
       "      <td>-1.18</td>\n",
       "      <td>0.29</td>\n",
       "      <td>-2.13</td>\n",
       "      <td>5.56</td>\n",
       "      <td>4.20</td>\n",
       "      <td>2017-06-01</td>\n",
       "      <td>1.81</td>\n",
       "      <td>0.667</td>\n",
       "    </tr>\n",
       "    <tr>\n",
       "      <th>90</th>\n",
       "      <td>2017-07</td>\n",
       "      <td>-0.10</td>\n",
       "      <td>2.30</td>\n",
       "      <td>4.07</td>\n",
       "      <td>0.53</td>\n",
       "      <td>1.44</td>\n",
       "      <td>2017-07-01</td>\n",
       "      <td>2.00</td>\n",
       "      <td>0.801</td>\n",
       "    </tr>\n",
       "    <tr>\n",
       "      <th>91</th>\n",
       "      <td>2017-08</td>\n",
       "      <td>-1.55</td>\n",
       "      <td>-0.81</td>\n",
       "      <td>1.98</td>\n",
       "      <td>1.78</td>\n",
       "      <td>-0.39</td>\n",
       "      <td>2017-08-01</td>\n",
       "      <td>-1.18</td>\n",
       "      <td>0.898</td>\n",
       "    </tr>\n",
       "    <tr>\n",
       "      <th>92</th>\n",
       "      <td>2017-09</td>\n",
       "      <td>1.73</td>\n",
       "      <td>4.68</td>\n",
       "      <td>0.17</td>\n",
       "      <td>1.50</td>\n",
       "      <td>4.31</td>\n",
       "      <td>2017-09-01</td>\n",
       "      <td>-0.10</td>\n",
       "      <td>0.918</td>\n",
       "    </tr>\n",
       "    <tr>\n",
       "      <th>93</th>\n",
       "      <td>2017-10</td>\n",
       "      <td>1.66</td>\n",
       "      <td>2.21</td>\n",
       "      <td>4.61</td>\n",
       "      <td>-2.24</td>\n",
       "      <td>2.04</td>\n",
       "      <td>2017-10-01</td>\n",
       "      <td>-1.55</td>\n",
       "      <td>0.951</td>\n",
       "    </tr>\n",
       "    <tr>\n",
       "      <th>94</th>\n",
       "      <td>2017-11</td>\n",
       "      <td>5.90</td>\n",
       "      <td>3.14</td>\n",
       "      <td>1.46</td>\n",
       "      <td>2.36</td>\n",
       "      <td>3.77</td>\n",
       "      <td>2017-11-01</td>\n",
       "      <td>1.73</td>\n",
       "      <td>1.404</td>\n",
       "    </tr>\n",
       "    <tr>\n",
       "      <th>95</th>\n",
       "      <td>2017-12</td>\n",
       "      <td>2.02</td>\n",
       "      <td>1.60</td>\n",
       "      <td>0.56</td>\n",
       "      <td>-0.23</td>\n",
       "      <td>1.42</td>\n",
       "      <td>2017-12-01</td>\n",
       "      <td>1.66</td>\n",
       "      <td>1.307</td>\n",
       "    </tr>\n",
       "    <tr>\n",
       "      <th>96</th>\n",
       "      <td>2018-01</td>\n",
       "      <td>6.32</td>\n",
       "      <td>2.55</td>\n",
       "      <td>6.84</td>\n",
       "      <td>6.38</td>\n",
       "      <td>5.90</td>\n",
       "      <td>2018-01-01</td>\n",
       "      <td>5.90</td>\n",
       "      <td>1.861</td>\n",
       "    </tr>\n",
       "    <tr>\n",
       "      <th>97</th>\n",
       "      <td>2018-02</td>\n",
       "      <td>-5.31</td>\n",
       "      <td>-5.94</td>\n",
       "      <td>-1.21</td>\n",
       "      <td>-3.90</td>\n",
       "      <td>-3.31</td>\n",
       "      <td>2018-02-01</td>\n",
       "      <td>2.02</td>\n",
       "      <td>1.149</td>\n",
       "    </tr>\n",
       "    <tr>\n",
       "      <th>98</th>\n",
       "      <td>2018-03</td>\n",
       "      <td>-2.31</td>\n",
       "      <td>0.11</td>\n",
       "      <td>-3.18</td>\n",
       "      <td>-2.00</td>\n",
       "      <td>-2.65</td>\n",
       "      <td>2018-03-01</td>\n",
       "      <td>6.32</td>\n",
       "      <td>0.718</td>\n",
       "    </tr>\n",
       "    <tr>\n",
       "      <th>99</th>\n",
       "      <td>2018-04</td>\n",
       "      <td>1.07</td>\n",
       "      <td>1.32</td>\n",
       "      <td>-0.48</td>\n",
       "      <td>-0.28</td>\n",
       "      <td>0.44</td>\n",
       "      <td>2018-04-01</td>\n",
       "      <td>-5.31</td>\n",
       "      <td>0.943</td>\n",
       "    </tr>\n",
       "    <tr>\n",
       "      <th>100</th>\n",
       "      <td>2018-05</td>\n",
       "      <td>0.59</td>\n",
       "      <td>2.40</td>\n",
       "      <td>5.76</td>\n",
       "      <td>2.43</td>\n",
       "      <td>1.20</td>\n",
       "      <td>2018-05-01</td>\n",
       "      <td>-2.31</td>\n",
       "      <td>1.012</td>\n",
       "    </tr>\n",
       "    <tr>\n",
       "      <th>101</th>\n",
       "      <td>2018-06</td>\n",
       "      <td>3.30</td>\n",
       "      <td>0.12</td>\n",
       "      <td>0.52</td>\n",
       "      <td>1.52</td>\n",
       "      <td>-1.02</td>\n",
       "      <td>2018-06-01</td>\n",
       "      <td>1.07</td>\n",
       "      <td>1.497</td>\n",
       "    </tr>\n",
       "    <tr>\n",
       "      <th>102</th>\n",
       "      <td>2018-07</td>\n",
       "      <td>2.70</td>\n",
       "      <td>3.38</td>\n",
       "      <td>2.36</td>\n",
       "      <td>6.12</td>\n",
       "      <td>3.98</td>\n",
       "      <td>2018-07-01</td>\n",
       "      <td>0.59</td>\n",
       "      <td>1.594</td>\n",
       "    </tr>\n",
       "    <tr>\n",
       "      <th>103</th>\n",
       "      <td>2018-08</td>\n",
       "      <td>4.71</td>\n",
       "      <td>-0.80</td>\n",
       "      <td>6.73</td>\n",
       "      <td>4.46</td>\n",
       "      <td>2.45</td>\n",
       "      <td>2018-08-01</td>\n",
       "      <td>3.30</td>\n",
       "      <td>1.899</td>\n",
       "    </tr>\n",
       "    <tr>\n",
       "      <th>104</th>\n",
       "      <td>2018-09</td>\n",
       "      <td>0.32</td>\n",
       "      <td>1.60</td>\n",
       "      <td>0.02</td>\n",
       "      <td>1.99</td>\n",
       "      <td>-1.22</td>\n",
       "      <td>2018-09-01</td>\n",
       "      <td>2.70</td>\n",
       "      <td>1.341</td>\n",
       "    </tr>\n",
       "    <tr>\n",
       "      <th>105</th>\n",
       "      <td>2018-10</td>\n",
       "      <td>-5.95</td>\n",
       "      <td>-8.81</td>\n",
       "      <td>-7.66</td>\n",
       "      <td>-8.84</td>\n",
       "      <td>-6.60</td>\n",
       "      <td>2018-10-01</td>\n",
       "      <td>4.71</td>\n",
       "      <td>0.544</td>\n",
       "    </tr>\n",
       "    <tr>\n",
       "      <th>106</th>\n",
       "      <td>2018-11</td>\n",
       "      <td>2.06</td>\n",
       "      <td>2.44</td>\n",
       "      <td>-1.03</td>\n",
       "      <td>6.32</td>\n",
       "      <td>3.07</td>\n",
       "      <td>2018-11-01</td>\n",
       "      <td>0.32</td>\n",
       "      <td>0.118</td>\n",
       "    </tr>\n",
       "    <tr>\n",
       "      <th>107</th>\n",
       "      <td>2018-12</td>\n",
       "      <td>-9.86</td>\n",
       "      <td>-9.08</td>\n",
       "      <td>-8.23</td>\n",
       "      <td>-8.40</td>\n",
       "      <td>-10.62</td>\n",
       "      <td>2018-12-01</td>\n",
       "      <td>-5.95</td>\n",
       "      <td>-0.337</td>\n",
       "    </tr>\n",
       "    <tr>\n",
       "      <th>108</th>\n",
       "      <td>2019-01</td>\n",
       "      <td>8.10</td>\n",
       "      <td>9.04</td>\n",
       "      <td>8.97</td>\n",
       "      <td>5.04</td>\n",
       "      <td>9.16</td>\n",
       "      <td>2019-01-01</td>\n",
       "      <td>2.06</td>\n",
       "      <td>0.704</td>\n",
       "    </tr>\n",
       "    <tr>\n",
       "      <th>109</th>\n",
       "      <td>2019-02</td>\n",
       "      <td>1.23</td>\n",
       "      <td>4.18</td>\n",
       "      <td>5.23</td>\n",
       "      <td>3.04</td>\n",
       "      <td>2.80</td>\n",
       "      <td>2019-02-01</td>\n",
       "      <td>-9.86</td>\n",
       "      <td>0.720</td>\n",
       "    </tr>\n",
       "    <tr>\n",
       "      <th>110</th>\n",
       "      <td>2019-03</td>\n",
       "      <td>2.84</td>\n",
       "      <td>0.70</td>\n",
       "      <td>3.30</td>\n",
       "      <td>0.60</td>\n",
       "      <td>-1.27</td>\n",
       "      <td>2019-03-01</td>\n",
       "      <td>8.10</td>\n",
       "      <td>0.945</td>\n",
       "    </tr>\n",
       "  </tbody>\n",
       "</table>\n",
       "<p>111 rows × 9 columns</p>\n",
       "</div>"
      ],
      "text/plain": [
       "        Date  Cnsmr  Manuf  HiTec  Hlth   Other         DT  Cnsmr+2  \\\n",
       "0    2010-01  -1.98  -4.02  -7.63   0.00  -1.65 2010-01-01      NaN   \n",
       "1    2010-02   3.86   3.23   4.37   0.38   3.38 2010-02-01      NaN   \n",
       "2    2010-03   6.33   4.74   6.92   3.61   8.43 2010-03-01    -1.98   \n",
       "3    2010-04   1.53   3.31   2.50  -2.22   2.15 2010-04-01     3.86   \n",
       "4    2010-05  -5.71  -8.88  -7.31  -8.01  -8.82 2010-05-01     6.33   \n",
       "5    2010-06  -6.47  -5.19  -5.77  -1.63  -7.65 2010-06-01     1.53   \n",
       "6    2010-07   6.44   8.48   7.98   2.15   7.48 2010-07-01    -5.71   \n",
       "7    2010-08  -3.32  -3.79  -5.54  -1.66  -7.55 2010-08-01    -6.47   \n",
       "8    2010-09   9.85   8.83  11.41   9.01   8.82 2010-09-01     6.44   \n",
       "9    2010-10   3.62   4.33   6.04   2.00   2.60 2010-10-01    -3.32   \n",
       "10   2010-11   2.84   2.46  -1.04  -3.34   0.52 2010-11-01     9.85   \n",
       "11   2010-12   4.12   7.27   6.18   5.40   9.73 2010-12-01     3.62   \n",
       "12   2011-01  -1.31   4.25   3.10  -0.71   1.97 2011-01-01     2.84   \n",
       "13   2011-02   2.91   4.88   3.40   3.33   2.66 2011-02-01     4.12   \n",
       "14   2011-03   1.89   1.73  -0.86   2.30  -0.87 2011-03-01    -1.31   \n",
       "15   2011-04   4.36   2.47   3.19   6.38   1.11 2011-04-01     2.91   \n",
       "16   2011-05   0.88  -2.59  -1.15   1.96  -2.38 2011-05-01     1.89   \n",
       "17   2011-06  -0.96  -1.27  -2.09  -1.83  -2.06 2011-06-01     4.36   \n",
       "18   2011-07  -1.39  -2.04  -1.38  -3.65  -3.76 2011-07-01     0.88   \n",
       "19   2011-08  -2.85  -6.70  -6.59  -3.09  -7.59 2011-08-01    -0.96   \n",
       "20   2011-09  -5.11 -10.00  -5.10  -3.96 -10.29 2011-09-01    -1.39   \n",
       "21   2011-10   9.46  13.57  11.01   5.54  13.30 2011-10-01    -2.85   \n",
       "22   2011-11   0.45   1.45  -1.58   1.27  -1.60 2011-11-01    -5.11   \n",
       "23   2011-12   1.11  -0.08  -0.48   3.53   1.07 2011-12-01     9.46   \n",
       "24   2012-01   3.35   3.10   6.90   3.38   6.76 2012-01-01     0.45   \n",
       "25   2012-02   3.72   4.41   6.35   1.23   3.87 2012-02-01     1.11   \n",
       "26   2012-03   4.03  -0.67   4.25   3.97   4.76 2012-03-01     3.35   \n",
       "27   2012-04   0.27  -0.66  -1.35   0.61  -1.69 2012-04-01     3.72   \n",
       "28   2012-05  -3.31  -7.78  -6.46  -3.28  -7.19 2012-05-01     4.03   \n",
       "29   2012-06   2.04   3.23   3.77   6.80   4.75 2012-06-01     0.27   \n",
       "..       ...    ...    ...    ...    ...    ...        ...      ...   \n",
       "81   2016-10  -2.52  -2.30  -1.46  -7.44   0.61 2016-10-01    -1.00   \n",
       "82   2016-11   1.53   5.29   1.65   1.38  11.30 2016-11-01    -1.44   \n",
       "83   2016-12   1.33   1.56   1.62   0.86   2.93 2016-12-01    -2.52   \n",
       "84   2017-01   1.37   0.69   4.43   2.21   0.98 2017-01-01     1.53   \n",
       "85   2017-02   2.99   2.26   3.94   7.10   3.74 2017-02-01     1.33   \n",
       "86   2017-03   0.78  -0.18   1.91  -0.16  -1.68 2017-03-01     1.37   \n",
       "87   2017-04   1.81   0.32   2.22   1.09   0.24 2017-04-01     2.99   \n",
       "88   2017-05   2.00   0.32   3.10  -0.43  -0.43 2017-05-01     0.78   \n",
       "89   2017-06  -1.18   0.29  -2.13   5.56   4.20 2017-06-01     1.81   \n",
       "90   2017-07  -0.10   2.30   4.07   0.53   1.44 2017-07-01     2.00   \n",
       "91   2017-08  -1.55  -0.81   1.98   1.78  -0.39 2017-08-01    -1.18   \n",
       "92   2017-09   1.73   4.68   0.17   1.50   4.31 2017-09-01    -0.10   \n",
       "93   2017-10   1.66   2.21   4.61  -2.24   2.04 2017-10-01    -1.55   \n",
       "94   2017-11   5.90   3.14   1.46   2.36   3.77 2017-11-01     1.73   \n",
       "95   2017-12   2.02   1.60   0.56  -0.23   1.42 2017-12-01     1.66   \n",
       "96   2018-01   6.32   2.55   6.84   6.38   5.90 2018-01-01     5.90   \n",
       "97   2018-02  -5.31  -5.94  -1.21  -3.90  -3.31 2018-02-01     2.02   \n",
       "98   2018-03  -2.31   0.11  -3.18  -2.00  -2.65 2018-03-01     6.32   \n",
       "99   2018-04   1.07   1.32  -0.48  -0.28   0.44 2018-04-01    -5.31   \n",
       "100  2018-05   0.59   2.40   5.76   2.43   1.20 2018-05-01    -2.31   \n",
       "101  2018-06   3.30   0.12   0.52   1.52  -1.02 2018-06-01     1.07   \n",
       "102  2018-07   2.70   3.38   2.36   6.12   3.98 2018-07-01     0.59   \n",
       "103  2018-08   4.71  -0.80   6.73   4.46   2.45 2018-08-01     3.30   \n",
       "104  2018-09   0.32   1.60   0.02   1.99  -1.22 2018-09-01     2.70   \n",
       "105  2018-10  -5.95  -8.81  -7.66  -8.84  -6.60 2018-10-01     4.71   \n",
       "106  2018-11   2.06   2.44  -1.03   6.32   3.07 2018-11-01     0.32   \n",
       "107  2018-12  -9.86  -9.08  -8.23  -8.40 -10.62 2018-12-01    -5.95   \n",
       "108  2019-01   8.10   9.04   8.97   5.04   9.16 2019-01-01     2.06   \n",
       "109  2019-02   1.23   4.18   5.23   3.04   2.80 2019-02-01    -9.86   \n",
       "110  2019-03   2.84   0.70   3.30   0.60  -1.27 2019-03-01     8.10   \n",
       "\n",
       "     Cnsmr_rolling_av  \n",
       "0                 NaN  \n",
       "1                 NaN  \n",
       "2                 NaN  \n",
       "3                 NaN  \n",
       "4                 NaN  \n",
       "5                 NaN  \n",
       "6                 NaN  \n",
       "7                 NaN  \n",
       "8                 NaN  \n",
       "9               1.415  \n",
       "10              1.897  \n",
       "11              1.923  \n",
       "12              1.159  \n",
       "13              1.297  \n",
       "14              2.057  \n",
       "15              3.140  \n",
       "16              2.584  \n",
       "17              2.820  \n",
       "18              1.696  \n",
       "19              1.049  \n",
       "20              0.254  \n",
       "21              0.788  \n",
       "22              0.964  \n",
       "23              0.784  \n",
       "24              0.930  \n",
       "25              0.866  \n",
       "26              1.181  \n",
       "27              1.304  \n",
       "28              1.112  \n",
       "29              1.601  \n",
       "..                ...  \n",
       "81              0.286  \n",
       "82              0.769  \n",
       "83              0.851  \n",
       "84              0.407  \n",
       "85              0.719  \n",
       "86              0.723  \n",
       "87              0.731  \n",
       "88              0.685  \n",
       "89              0.667  \n",
       "90              0.801  \n",
       "91              0.898  \n",
       "92              0.918  \n",
       "93              0.951  \n",
       "94              1.404  \n",
       "95              1.307  \n",
       "96              1.861  \n",
       "97              1.149  \n",
       "98              0.718  \n",
       "99              0.943  \n",
       "100             1.012  \n",
       "101             1.497  \n",
       "102             1.594  \n",
       "103             1.899  \n",
       "104             1.341  \n",
       "105             0.544  \n",
       "106             0.118  \n",
       "107            -0.337  \n",
       "108             0.704  \n",
       "109             0.720  \n",
       "110             0.945  \n",
       "\n",
       "[111 rows x 9 columns]"
      ]
     },
     "execution_count": 18,
     "metadata": {},
     "output_type": "execute_result"
    }
   ],
   "source": [
    "df['Cnsmr_rolling_av'] = df['Cnsmr'].rolling(10).mean()\n",
    "df"
   ]
  },
  {
   "cell_type": "code",
   "execution_count": 19,
   "metadata": {
    "scrolled": true
   },
   "outputs": [
    {
     "data": {
      "text/plain": [
       "<Figure size 432x288 with 0 Axes>"
      ]
     },
     "metadata": {},
     "output_type": "display_data"
    },
    {
     "data": {
      "image/png": "[encoded data removed]",
      "text/plain": [
       "<Figure size 432x288 with 1 Axes>"
      ]
     },
     "metadata": {
      "needs_background": "light"
     },
     "output_type": "display_data"
    }
   ],
   "source": [
    "plt.figure()\n",
    "df[['Cnsmr', 'Cnsmr_rolling_av']].plot()\n",
    "plt.legend()\n",
    "plt.show()"
   ]
  },
  {
   "cell_type": "code",
   "execution_count": 20,
   "metadata": {},
   "outputs": [
    {
     "data": {
      "text/plain": [
       "<matplotlib.axes._subplots.AxesSubplot at 0x115bb4c88>"
      ]
     },
     "execution_count": 20,
     "metadata": {},
     "output_type": "execute_result"
    },
    {
     "data": {
      "image/png": "[encoded data removed]",
      "text/plain": [
       "<Figure size 432x288 with 1 Axes>"
      ]
     },
     "metadata": {
      "needs_background": "light"
     },
     "output_type": "display_data"
    }
   ],
   "source": [
    "df[df['DT'].dt.month == 1][['Cnsmr', 'Cnsmr_rolling_av']].plot()"
   ]
  },
  {
   "cell_type": "code",
   "execution_count": 21,
   "metadata": {},
   "outputs": [
    {
     "data": {
      "text/plain": [
       "<matplotlib.axes._subplots.AxesSubplot at 0x115bfec18>"
      ]
     },
     "execution_count": 21,
     "metadata": {},
     "output_type": "execute_result"
    },
    {
     "data": {
      "image/png": "[encoded data removed]",
      "text/plain": [
       "<Figure size 432x288 with 1 Axes>"
      ]
     },
     "metadata": {
      "needs_background": "light"
     },
     "output_type": "display_data"
    }
   ],
   "source": [
    "df[df['DT'].dt.quarter == 1][['Cnsmr', 'Cnsmr_rolling_av']].plot()"
   ]
  },
  {
   "cell_type": "code",
   "execution_count": 22,
   "metadata": {},
   "outputs": [
    {
     "data": {
      "text/plain": [
       "<matplotlib.axes._subplots.AxesSubplot at 0x115cca8d0>"
      ]
     },
     "execution_count": 22,
     "metadata": {},
     "output_type": "execute_result"
    },
    {
     "data": {
      "image/png": "[encoded data removed]",
      "text/plain": [
       "<Figure size 432x288 with 1 Axes>"
      ]
     },
     "metadata": {
      "needs_background": "light"
     },
     "output_type": "display_data"
    }
   ],
   "source": [
    "df[df['DT'].dt.month.between(0,6)][['Cnsmr', 'Cnsmr_rolling_av']].plot()"
   ]
  },
  {
   "cell_type": "markdown",
   "metadata": {},
   "source": [
    "**Notice the window size, and the missing values we create - we can fill them in using fillna(method='')**"
   ]
  },
  {
   "cell_type": "markdown",
   "metadata": {},
   "source": [
    "**But notice we only have monthly data...**\n",
    "\n",
    "**Can we fill in more granular information?**\n",
    "\n",
    "**Can we get weekly data from monthly?**\n",
    "\n",
    "***(Spoiler: YES! using resample, and interpolate) - See later***"
   ]
  },
  {
   "cell_type": "code",
   "execution_count": null,
   "metadata": {},
   "outputs": [],
   "source": []
  },
  {
   "cell_type": "markdown",
   "metadata": {},
   "source": [
    "### The datetime module\n",
    "The standard module datetime manages timestamps. Providing a list of timestamps can be used by pandas to create a DateTimeIndex:\n"
   ]
  },
  {
   "cell_type": "code",
   "execution_count": 23,
   "metadata": {},
   "outputs": [],
   "source": [
    "import pandas as pd\n",
    "import numpy as np\n",
    "from datetime import datetime\n",
    "\n",
    "# define a list of timestamps\n",
    "dates = [datetime(2011, 1, 2), datetime(2011, 1, 5), datetime(2011, 1, 7),\n",
    "         datetime(2011, 1, 8), datetime(2011, 1, 10), datetime(2011, 1, 12),\n",
    "         datetime(2011, 1, 14), datetime(2011, 1, 16), datetime(2011, 1, 17)]"
   ]
  },
  {
   "cell_type": "code",
   "execution_count": 24,
   "metadata": {
    "scrolled": true
   },
   "outputs": [
    {
     "data": {
      "text/plain": [
       "[datetime.datetime(2011, 1, 2, 0, 0),\n",
       " datetime.datetime(2011, 1, 5, 0, 0),\n",
       " datetime.datetime(2011, 1, 7, 0, 0),\n",
       " datetime.datetime(2011, 1, 8, 0, 0),\n",
       " datetime.datetime(2011, 1, 10, 0, 0),\n",
       " datetime.datetime(2011, 1, 12, 0, 0),\n",
       " datetime.datetime(2011, 1, 14, 0, 0),\n",
       " datetime.datetime(2011, 1, 16, 0, 0),\n",
       " datetime.datetime(2011, 1, 17, 0, 0)]"
      ]
     },
     "execution_count": 24,
     "metadata": {},
     "output_type": "execute_result"
    }
   ],
   "source": [
    "dates"
   ]
  },
  {
   "cell_type": "code",
   "execution_count": 25,
   "metadata": {},
   "outputs": [],
   "source": [
    "# use timestamps as an index\n",
    "ts = pd.Series(np.random.randn(9), index=dates)"
   ]
  },
  {
   "cell_type": "code",
   "execution_count": 26,
   "metadata": {},
   "outputs": [
    {
     "data": {
      "text/plain": [
       "2011-01-02   -1.410046\n",
       "2011-01-05    0.139667\n",
       "2011-01-07    0.905215\n",
       "2011-01-08   -2.447770\n",
       "2011-01-10   -0.760145\n",
       "2011-01-12   -0.450071\n",
       "2011-01-14   -0.371709\n",
       "2011-01-16    0.467901\n",
       "2011-01-17    1.075581\n",
       "dtype: float64"
      ]
     },
     "execution_count": 26,
     "metadata": {},
     "output_type": "execute_result"
    }
   ],
   "source": [
    "ts"
   ]
  },
  {
   "cell_type": "markdown",
   "metadata": {},
   "source": [
    "### Converting to timestamps\n",
    "It is usually easier to use the pandas function as_timestamp. It parses the timestamps from many different notations:"
   ]
  },
  {
   "cell_type": "code",
   "execution_count": 27,
   "metadata": {},
   "outputs": [],
   "source": [
    "dates = ['2011-01-2', '2011-01-5', '2011-01-7',\n",
    "         '2011-01-8', '2011-01-10', '2011-01-12',\n",
    "         '2011-01-14', '2011-01-16', '2011-01-17']\n",
    "\n",
    "ts = pd.Series(np.random.randn(9), index=dates)"
   ]
  },
  {
   "cell_type": "markdown",
   "metadata": {},
   "source": [
    "### Using DateTime indices\n",
    "Time indices can be accessed very flexibly"
   ]
  },
  {
   "cell_type": "code",
   "execution_count": 43,
   "metadata": {},
   "outputs": [
    {
     "data": {
      "text/plain": [
       "2011-01-2    -0.570071\n",
       "2011-01-7    -0.510992\n",
       "2011-01-10   -0.381581\n",
       "2011-01-14    0.012997\n",
       "2011-01-17   -0.296845\n",
       "dtype: float64"
      ]
     },
     "execution_count": 43,
     "metadata": {},
     "output_type": "execute_result"
    }
   ],
   "source": [
    "ts[::2]"
   ]
  },
  {
   "cell_type": "code",
   "execution_count": null,
   "metadata": {},
   "outputs": [],
   "source": [
    "# ts['1/10/2011']\n",
    "# ts['20110110']\n",
    "# ts[datetime(2011, 1, 7):]\n",
    "# ts['1/6/2011':'1/11/2011']"
   ]
  },
  {
   "cell_type": "markdown",
   "metadata": {},
   "source": [
    "### Date Ranges\n",
    "With pandas.date_range( ) you can create timestamp indices from scratch:"
   ]
  },
  {
   "cell_type": "markdown",
   "metadata": {},
   "source": [
    "#### Create your own datetime series using pd.date_range()\n",
    "* Start Date - specify your start date\n",
    "* End Date - specify your end date\n",
    "* Periods - specify the number of elements in the result\n",
    "* Frequency - do you want days, weeks, seconds?\n",
    "\n",
    "***N.B You can only input 3 of the 4***"
   ]
  },
  {
   "cell_type": "code",
   "execution_count": 44,
   "metadata": {},
   "outputs": [
    {
     "data": {
      "text/plain": [
       "DatetimeIndex(['2012-04-01', '2012-04-02', '2012-04-03', '2012-04-04',\n",
       "               '2012-04-05', '2012-04-06', '2012-04-07', '2012-04-08',\n",
       "               '2012-04-09', '2012-04-10', '2012-04-11', '2012-04-12',\n",
       "               '2012-04-13', '2012-04-14', '2012-04-15', '2012-04-16',\n",
       "               '2012-04-17', '2012-04-18', '2012-04-19', '2012-04-20',\n",
       "               '2012-04-21', '2012-04-22', '2012-04-23', '2012-04-24',\n",
       "               '2012-04-25', '2012-04-26', '2012-04-27', '2012-04-28',\n",
       "               '2012-04-29', '2012-04-30', '2012-05-01', '2012-05-02',\n",
       "               '2012-05-03', '2012-05-04', '2012-05-05', '2012-05-06',\n",
       "               '2012-05-07', '2012-05-08', '2012-05-09', '2012-05-10',\n",
       "               '2012-05-11', '2012-05-12', '2012-05-13', '2012-05-14',\n",
       "               '2012-05-15', '2012-05-16', '2012-05-17', '2012-05-18',\n",
       "               '2012-05-19', '2012-05-20', '2012-05-21', '2012-05-22',\n",
       "               '2012-05-23', '2012-05-24', '2012-05-25', '2012-05-26',\n",
       "               '2012-05-27', '2012-05-28', '2012-05-29', '2012-05-30',\n",
       "               '2012-05-31', '2012-06-01'],\n",
       "              dtype='datetime64[ns]', freq='D')"
      ]
     },
     "execution_count": 44,
     "metadata": {},
     "output_type": "execute_result"
    }
   ],
   "source": [
    "pd.date_range('4/1/2012', '6/1/2012')"
   ]
  },
  {
   "cell_type": "code",
   "execution_count": 45,
   "metadata": {},
   "outputs": [
    {
     "data": {
      "text/plain": [
       "DatetimeIndex(['2012-04-01', '2012-04-02', '2012-04-03', '2012-04-04',\n",
       "               '2012-04-05', '2012-04-06', '2012-04-07', '2012-04-08',\n",
       "               '2012-04-09', '2012-04-10', '2012-04-11', '2012-04-12',\n",
       "               '2012-04-13', '2012-04-14', '2012-04-15', '2012-04-16',\n",
       "               '2012-04-17', '2012-04-18', '2012-04-19', '2012-04-20'],\n",
       "              dtype='datetime64[ns]', freq='D')"
      ]
     },
     "execution_count": 45,
     "metadata": {},
     "output_type": "execute_result"
    }
   ],
   "source": [
    "pd.date_range(start='4/1/2012', periods=20)"
   ]
  },
  {
   "cell_type": "code",
   "execution_count": 46,
   "metadata": {},
   "outputs": [
    {
     "data": {
      "text/plain": [
       "DatetimeIndex(['2000-01-31', '2000-02-29', '2000-03-31', '2000-04-28',\n",
       "               '2000-05-31', '2000-06-30', '2000-07-31', '2000-08-31',\n",
       "               '2000-09-29', '2000-10-31', '2000-11-30'],\n",
       "              dtype='datetime64[ns]', freq='BM')"
      ]
     },
     "execution_count": 46,
     "metadata": {},
     "output_type": "execute_result"
    }
   ],
   "source": [
    "pd.date_range('1/1/2000', '12/1/2000', freq='BM')"
   ]
  },
  {
   "cell_type": "code",
   "execution_count": 47,
   "metadata": {},
   "outputs": [
    {
     "data": {
      "text/plain": [
       "DatetimeIndex(['2012-05-02 12:56:31', '2012-05-03 12:56:31',\n",
       "               '2012-05-04 12:56:31', '2012-05-05 12:56:31',\n",
       "               '2012-05-06 12:56:31'],\n",
       "              dtype='datetime64[ns]', freq='D')"
      ]
     },
     "execution_count": 47,
     "metadata": {},
     "output_type": "execute_result"
    }
   ],
   "source": [
    "pd.date_range('5/2/2012 12:56:31', periods=5)"
   ]
  },
  {
   "cell_type": "code",
   "execution_count": 48,
   "metadata": {},
   "outputs": [
    {
     "data": {
      "text/plain": [
       "DatetimeIndex(['2000-01-01 00:00:00', '2000-01-01 04:00:00',\n",
       "               '2000-01-01 08:00:00', '2000-01-01 12:00:00',\n",
       "               '2000-01-01 16:00:00', '2000-01-01 20:00:00',\n",
       "               '2000-01-02 00:00:00', '2000-01-02 04:00:00',\n",
       "               '2000-01-02 08:00:00', '2000-01-02 12:00:00',\n",
       "               '2000-01-02 16:00:00', '2000-01-02 20:00:00',\n",
       "               '2000-01-03 00:00:00', '2000-01-03 04:00:00',\n",
       "               '2000-01-03 08:00:00', '2000-01-03 12:00:00',\n",
       "               '2000-01-03 16:00:00', '2000-01-03 20:00:00'],\n",
       "              dtype='datetime64[ns]', freq='4H')"
      ]
     },
     "execution_count": 48,
     "metadata": {},
     "output_type": "execute_result"
    }
   ],
   "source": [
    "pd.date_range('1/1/2000', '1/3/2000 23:59', freq='4h')"
   ]
  },
  {
   "cell_type": "code",
   "execution_count": 49,
   "metadata": {},
   "outputs": [
    {
     "data": {
      "text/plain": [
       "DatetimeIndex(['2000-01-01 00:00:00', '2000-01-01 01:30:00',\n",
       "               '2000-01-01 03:00:00', '2000-01-01 04:30:00',\n",
       "               '2000-01-01 06:00:00', '2000-01-01 07:30:00',\n",
       "               '2000-01-01 09:00:00', '2000-01-01 10:30:00',\n",
       "               '2000-01-01 12:00:00', '2000-01-01 13:30:00'],\n",
       "              dtype='datetime64[ns]', freq='90T')"
      ]
     },
     "execution_count": 49,
     "metadata": {},
     "output_type": "execute_result"
    }
   ],
   "source": [
    "pd.date_range('1/1/2000', periods=10, freq='1h30min')"
   ]
  },
  {
   "cell_type": "markdown",
   "metadata": {},
   "source": [
    "### Example data\n",
    "Here we load stock data from stock_px.csv"
   ]
  },
  {
   "cell_type": "code",
   "execution_count": 51,
   "metadata": {},
   "outputs": [],
   "source": [
    "stocks_all = pd.read_csv('stock_px.csv', parse_dates=True, index_col=0)"
   ]
  },
  {
   "cell_type": "code",
   "execution_count": 52,
   "metadata": {},
   "outputs": [],
   "source": [
    "stocks = stocks_all[['AAPL', 'MSFT', 'XOM']]"
   ]
  },
  {
   "cell_type": "code",
   "execution_count": 54,
   "metadata": {
    "scrolled": true
   },
   "outputs": [
    {
     "data": {
      "text/html": [
       "<div>\n",
       "<style scoped>\n",
       "    .dataframe tbody tr th:only-of-type {\n",
       "        vertical-align: middle;\n",
       "    }\n",
       "\n",
       "    .dataframe tbody tr th {\n",
       "        vertical-align: top;\n",
       "    }\n",
       "\n",
       "    .dataframe thead th {\n",
       "        text-align: right;\n",
       "    }\n",
       "</style>\n",
       "<table border=\"1\" class=\"dataframe\">\n",
       "  <thead>\n",
       "    <tr style=\"text-align: right;\">\n",
       "      <th></th>\n",
       "      <th>AAPL</th>\n",
       "      <th>MSFT</th>\n",
       "      <th>XOM</th>\n",
       "    </tr>\n",
       "  </thead>\n",
       "  <tbody>\n",
       "    <tr>\n",
       "      <th>2003-01-02</th>\n",
       "      <td>7.40</td>\n",
       "      <td>21.11</td>\n",
       "      <td>29.22</td>\n",
       "    </tr>\n",
       "    <tr>\n",
       "      <th>2003-01-03</th>\n",
       "      <td>7.45</td>\n",
       "      <td>21.14</td>\n",
       "      <td>29.24</td>\n",
       "    </tr>\n",
       "    <tr>\n",
       "      <th>2003-01-06</th>\n",
       "      <td>7.45</td>\n",
       "      <td>21.52</td>\n",
       "      <td>29.96</td>\n",
       "    </tr>\n",
       "    <tr>\n",
       "      <th>2003-01-07</th>\n",
       "      <td>7.43</td>\n",
       "      <td>21.93</td>\n",
       "      <td>28.95</td>\n",
       "    </tr>\n",
       "    <tr>\n",
       "      <th>2003-01-08</th>\n",
       "      <td>7.28</td>\n",
       "      <td>21.31</td>\n",
       "      <td>28.83</td>\n",
       "    </tr>\n",
       "  </tbody>\n",
       "</table>\n",
       "</div>"
      ],
      "text/plain": [
       "            AAPL   MSFT    XOM\n",
       "2003-01-02  7.40  21.11  29.22\n",
       "2003-01-03  7.45  21.14  29.24\n",
       "2003-01-06  7.45  21.52  29.96\n",
       "2003-01-07  7.43  21.93  28.95\n",
       "2003-01-08  7.28  21.31  28.83"
      ]
     },
     "execution_count": 54,
     "metadata": {},
     "output_type": "execute_result"
    }
   ],
   "source": [
    "stocks.head()"
   ]
  },
  {
   "cell_type": "markdown",
   "metadata": {},
   "source": [
    "##  Resampling\n",
    "\n",
    "### change to a weekly timescale (downsampling)"
   ]
  },
  {
   "cell_type": "code",
   "execution_count": 61,
   "metadata": {},
   "outputs": [
    {
     "data": {
      "text/html": [
       "<div>\n",
       "<style scoped>\n",
       "    .dataframe tbody tr th:only-of-type {\n",
       "        vertical-align: middle;\n",
       "    }\n",
       "\n",
       "    .dataframe tbody tr th {\n",
       "        vertical-align: top;\n",
       "    }\n",
       "\n",
       "    .dataframe thead th {\n",
       "        text-align: right;\n",
       "    }\n",
       "</style>\n",
       "<table border=\"1\" class=\"dataframe\">\n",
       "  <thead>\n",
       "    <tr style=\"text-align: right;\">\n",
       "      <th></th>\n",
       "      <th>AAPL</th>\n",
       "      <th>MSFT</th>\n",
       "      <th>XOM</th>\n",
       "    </tr>\n",
       "  </thead>\n",
       "  <tbody>\n",
       "    <tr>\n",
       "      <th>2003-01-05</th>\n",
       "      <td>7.40</td>\n",
       "      <td>21.11</td>\n",
       "      <td>29.22</td>\n",
       "    </tr>\n",
       "    <tr>\n",
       "      <th>2003-01-12</th>\n",
       "      <td>7.45</td>\n",
       "      <td>21.52</td>\n",
       "      <td>29.96</td>\n",
       "    </tr>\n",
       "    <tr>\n",
       "      <th>2003-01-19</th>\n",
       "      <td>7.32</td>\n",
       "      <td>22.16</td>\n",
       "      <td>28.91</td>\n",
       "    </tr>\n",
       "    <tr>\n",
       "      <th>2003-01-26</th>\n",
       "      <td>7.01</td>\n",
       "      <td>20.17</td>\n",
       "      <td>27.94</td>\n",
       "    </tr>\n",
       "    <tr>\n",
       "      <th>2003-02-02</th>\n",
       "      <td>7.07</td>\n",
       "      <td>19.32</td>\n",
       "      <td>26.21</td>\n",
       "    </tr>\n",
       "  </tbody>\n",
       "</table>\n",
       "</div>"
      ],
      "text/plain": [
       "            AAPL   MSFT    XOM\n",
       "2003-01-05  7.40  21.11  29.22\n",
       "2003-01-12  7.45  21.52  29.96\n",
       "2003-01-19  7.32  22.16  28.91\n",
       "2003-01-26  7.01  20.17  27.94\n",
       "2003-02-02  7.07  19.32  26.21"
      ]
     },
     "execution_count": 61,
     "metadata": {},
     "output_type": "execute_result"
    }
   ],
   "source": [
    "stocks.resample('W').first().head()"
   ]
  },
  {
   "cell_type": "code",
   "execution_count": 63,
   "metadata": {},
   "outputs": [
    {
     "data": {
      "text/html": [
       "<div>\n",
       "<style scoped>\n",
       "    .dataframe tbody tr th:only-of-type {\n",
       "        vertical-align: middle;\n",
       "    }\n",
       "\n",
       "    .dataframe tbody tr th {\n",
       "        vertical-align: top;\n",
       "    }\n",
       "\n",
       "    .dataframe thead th {\n",
       "        text-align: right;\n",
       "    }\n",
       "</style>\n",
       "<table border=\"1\" class=\"dataframe\">\n",
       "  <thead>\n",
       "    <tr style=\"text-align: right;\">\n",
       "      <th></th>\n",
       "      <th>AAPL</th>\n",
       "      <th>MSFT</th>\n",
       "      <th>XOM</th>\n",
       "    </tr>\n",
       "  </thead>\n",
       "  <tbody>\n",
       "    <tr>\n",
       "      <th>2003-01-05</th>\n",
       "      <td>7.425000</td>\n",
       "      <td>21.125000</td>\n",
       "      <td>29.230000</td>\n",
       "    </tr>\n",
       "    <tr>\n",
       "      <th>2003-01-19</th>\n",
       "      <td>7.306000</td>\n",
       "      <td>21.729000</td>\n",
       "      <td>29.056000</td>\n",
       "    </tr>\n",
       "    <tr>\n",
       "      <th>2003-02-02</th>\n",
       "      <td>7.123333</td>\n",
       "      <td>19.561111</td>\n",
       "      <td>27.384444</td>\n",
       "    </tr>\n",
       "    <tr>\n",
       "      <th>2003-02-16</th>\n",
       "      <td>7.231000</td>\n",
       "      <td>18.561000</td>\n",
       "      <td>27.854000</td>\n",
       "    </tr>\n",
       "    <tr>\n",
       "      <th>2003-03-02</th>\n",
       "      <td>7.447778</td>\n",
       "      <td>19.036667</td>\n",
       "      <td>28.131111</td>\n",
       "    </tr>\n",
       "  </tbody>\n",
       "</table>\n",
       "</div>"
      ],
      "text/plain": [
       "                AAPL       MSFT        XOM\n",
       "2003-01-05  7.425000  21.125000  29.230000\n",
       "2003-01-19  7.306000  21.729000  29.056000\n",
       "2003-02-02  7.123333  19.561111  27.384444\n",
       "2003-02-16  7.231000  18.561000  27.854000\n",
       "2003-03-02  7.447778  19.036667  28.131111"
      ]
     },
     "execution_count": 63,
     "metadata": {},
     "output_type": "execute_result"
    }
   ],
   "source": [
    "stocks.resample('2W').mean().head()"
   ]
  },
  {
   "cell_type": "code",
   "execution_count": 65,
   "metadata": {
    "scrolled": true
   },
   "outputs": [
    {
     "data": {
      "text/html": [
       "<div>\n",
       "<style scoped>\n",
       "    .dataframe tbody tr th:only-of-type {\n",
       "        vertical-align: middle;\n",
       "    }\n",
       "\n",
       "    .dataframe tbody tr th {\n",
       "        vertical-align: top;\n",
       "    }\n",
       "\n",
       "    .dataframe thead th {\n",
       "        text-align: right;\n",
       "    }\n",
       "</style>\n",
       "<table border=\"1\" class=\"dataframe\">\n",
       "  <thead>\n",
       "    <tr style=\"text-align: right;\">\n",
       "      <th></th>\n",
       "      <th>AAPL</th>\n",
       "      <th>MSFT</th>\n",
       "      <th>XOM</th>\n",
       "    </tr>\n",
       "  </thead>\n",
       "  <tbody>\n",
       "    <tr>\n",
       "      <th>2003-01-31</th>\n",
       "      <td>152.02</td>\n",
       "      <td>435.59</td>\n",
       "      <td>595.48</td>\n",
       "    </tr>\n",
       "    <tr>\n",
       "      <th>2003-02-28</th>\n",
       "      <td>139.34</td>\n",
       "      <td>356.94</td>\n",
       "      <td>531.72</td>\n",
       "    </tr>\n",
       "    <tr>\n",
       "      <th>2003-03-31</th>\n",
       "      <td>153.28</td>\n",
       "      <td>407.30</td>\n",
       "      <td>610.37</td>\n",
       "    </tr>\n",
       "    <tr>\n",
       "      <th>2003-04-30</th>\n",
       "      <td>145.40</td>\n",
       "      <td>417.30</td>\n",
       "      <td>610.06</td>\n",
       "    </tr>\n",
       "    <tr>\n",
       "      <th>2003-05-31</th>\n",
       "      <td>186.59</td>\n",
       "      <td>418.88</td>\n",
       "      <td>624.30</td>\n",
       "    </tr>\n",
       "  </tbody>\n",
       "</table>\n",
       "</div>"
      ],
      "text/plain": [
       "              AAPL    MSFT     XOM\n",
       "2003-01-31  152.02  435.59  595.48\n",
       "2003-02-28  139.34  356.94  531.72\n",
       "2003-03-31  153.28  407.30  610.37\n",
       "2003-04-30  145.40  417.30  610.06\n",
       "2003-05-31  186.59  418.88  624.30"
      ]
     },
     "execution_count": 65,
     "metadata": {},
     "output_type": "execute_result"
    }
   ],
   "source": [
    "stocks.resample('M').sum().head()"
   ]
  },
  {
   "cell_type": "markdown",
   "metadata": {},
   "source": [
    "### change to a wider timescale (upsampling)"
   ]
  },
  {
   "cell_type": "code",
   "execution_count": 67,
   "metadata": {},
   "outputs": [
    {
     "data": {
      "text/html": [
       "<div>\n",
       "<style scoped>\n",
       "    .dataframe tbody tr th:only-of-type {\n",
       "        vertical-align: middle;\n",
       "    }\n",
       "\n",
       "    .dataframe tbody tr th {\n",
       "        vertical-align: top;\n",
       "    }\n",
       "\n",
       "    .dataframe thead th {\n",
       "        text-align: right;\n",
       "    }\n",
       "</style>\n",
       "<table border=\"1\" class=\"dataframe\">\n",
       "  <thead>\n",
       "    <tr style=\"text-align: right;\">\n",
       "      <th></th>\n",
       "      <th>AAPL</th>\n",
       "      <th>MSFT</th>\n",
       "      <th>XOM</th>\n",
       "    </tr>\n",
       "  </thead>\n",
       "  <tbody>\n",
       "    <tr>\n",
       "      <th>2003-01-02 00:00:00</th>\n",
       "      <td>7.40</td>\n",
       "      <td>21.11</td>\n",
       "      <td>29.22</td>\n",
       "    </tr>\n",
       "    <tr>\n",
       "      <th>2003-01-02 06:00:00</th>\n",
       "      <td>0.00</td>\n",
       "      <td>0.00</td>\n",
       "      <td>0.00</td>\n",
       "    </tr>\n",
       "    <tr>\n",
       "      <th>2003-01-02 12:00:00</th>\n",
       "      <td>0.00</td>\n",
       "      <td>0.00</td>\n",
       "      <td>0.00</td>\n",
       "    </tr>\n",
       "    <tr>\n",
       "      <th>2003-01-02 18:00:00</th>\n",
       "      <td>0.00</td>\n",
       "      <td>0.00</td>\n",
       "      <td>0.00</td>\n",
       "    </tr>\n",
       "    <tr>\n",
       "      <th>2003-01-03 00:00:00</th>\n",
       "      <td>7.45</td>\n",
       "      <td>21.14</td>\n",
       "      <td>29.24</td>\n",
       "    </tr>\n",
       "  </tbody>\n",
       "</table>\n",
       "</div>"
      ],
      "text/plain": [
       "                     AAPL   MSFT    XOM\n",
       "2003-01-02 00:00:00  7.40  21.11  29.22\n",
       "2003-01-02 06:00:00  0.00   0.00   0.00\n",
       "2003-01-02 12:00:00  0.00   0.00   0.00\n",
       "2003-01-02 18:00:00  0.00   0.00   0.00\n",
       "2003-01-03 00:00:00  7.45  21.14  29.24"
      ]
     },
     "execution_count": 67,
     "metadata": {},
     "output_type": "execute_result"
    }
   ],
   "source": [
    "stocks.resample('6h').sum().head()"
   ]
  },
  {
   "cell_type": "code",
   "execution_count": 69,
   "metadata": {},
   "outputs": [
    {
     "data": {
      "text/html": [
       "<div>\n",
       "<style scoped>\n",
       "    .dataframe tbody tr th:only-of-type {\n",
       "        vertical-align: middle;\n",
       "    }\n",
       "\n",
       "    .dataframe tbody tr th {\n",
       "        vertical-align: top;\n",
       "    }\n",
       "\n",
       "    .dataframe thead th {\n",
       "        text-align: right;\n",
       "    }\n",
       "</style>\n",
       "<table border=\"1\" class=\"dataframe\">\n",
       "  <thead>\n",
       "    <tr style=\"text-align: right;\">\n",
       "      <th></th>\n",
       "      <th>AAPL</th>\n",
       "      <th>MSFT</th>\n",
       "      <th>XOM</th>\n",
       "    </tr>\n",
       "  </thead>\n",
       "  <tbody>\n",
       "    <tr>\n",
       "      <th>2003-01-02 00:00:00</th>\n",
       "      <td>7.40</td>\n",
       "      <td>21.11</td>\n",
       "      <td>29.22</td>\n",
       "    </tr>\n",
       "    <tr>\n",
       "      <th>2003-01-02 06:00:00</th>\n",
       "      <td>7.40</td>\n",
       "      <td>21.11</td>\n",
       "      <td>29.22</td>\n",
       "    </tr>\n",
       "    <tr>\n",
       "      <th>2003-01-02 12:00:00</th>\n",
       "      <td>7.40</td>\n",
       "      <td>21.11</td>\n",
       "      <td>29.22</td>\n",
       "    </tr>\n",
       "    <tr>\n",
       "      <th>2003-01-02 18:00:00</th>\n",
       "      <td>7.40</td>\n",
       "      <td>21.11</td>\n",
       "      <td>29.22</td>\n",
       "    </tr>\n",
       "    <tr>\n",
       "      <th>2003-01-03 00:00:00</th>\n",
       "      <td>7.45</td>\n",
       "      <td>21.14</td>\n",
       "      <td>29.24</td>\n",
       "    </tr>\n",
       "  </tbody>\n",
       "</table>\n",
       "</div>"
      ],
      "text/plain": [
       "                     AAPL   MSFT    XOM\n",
       "2003-01-02 00:00:00  7.40  21.11  29.22\n",
       "2003-01-02 06:00:00  7.40  21.11  29.22\n",
       "2003-01-02 12:00:00  7.40  21.11  29.22\n",
       "2003-01-02 18:00:00  7.40  21.11  29.22\n",
       "2003-01-03 00:00:00  7.45  21.14  29.24"
      ]
     },
     "execution_count": 69,
     "metadata": {},
     "output_type": "execute_result"
    }
   ],
   "source": [
    "stocks.resample('6h').ffill().head()"
   ]
  },
  {
   "cell_type": "markdown",
   "metadata": {},
   "source": [
    "### Plotting time series\n",
    "When plotting a time series, the time index is automatically used as an x-axis:"
   ]
  },
  {
   "cell_type": "code",
   "execution_count": 70,
   "metadata": {},
   "outputs": [
    {
     "data": {
      "text/plain": [
       "<matplotlib.axes._subplots.AxesSubplot at 0x11618ab70>"
      ]
     },
     "execution_count": 70,
     "metadata": {},
     "output_type": "execute_result"
    },
    {
     "data": {
      "image/png": "[encoded data removed]",
      "text/plain": [
       "<Figure size 432x288 with 1 Axes>"
      ]
     },
     "metadata": {
      "needs_background": "light"
     },
     "output_type": "display_data"
    }
   ],
   "source": [
    "stocks['AAPL'].plot()"
   ]
  },
  {
   "cell_type": "code",
   "execution_count": 72,
   "metadata": {},
   "outputs": [
    {
     "name": "stderr",
     "output_type": "stream",
     "text": [
      "/Users/maximcondon/anaconda3/lib/python3.7/site-packages/ipykernel_launcher.py:1: DeprecationWarning: \n",
      ".ix is deprecated. Please use\n",
      ".loc for label based indexing or\n",
      ".iloc for positional indexing\n",
      "\n",
      "See the documentation here:\n",
      "http://pandas.pydata.org/pandas-docs/stable/indexing.html#ix-indexer-is-deprecated\n",
      "  \"\"\"Entry point for launching an IPython kernel.\n"
     ]
    },
    {
     "data": {
      "text/plain": [
       "<matplotlib.axes._subplots.AxesSubplot at 0x1165fdac8>"
      ]
     },
     "execution_count": 72,
     "metadata": {},
     "output_type": "execute_result"
    },
    {
     "data": {
      "image/png": "[encoded data removed]",
      "text/plain": [
       "<Figure size 432x288 with 1 Axes>"
      ]
     },
     "metadata": {
      "needs_background": "light"
     },
     "output_type": "display_data"
    }
   ],
   "source": [
    "stocks.ix['2009'].plot()"
   ]
  },
  {
   "cell_type": "code",
   "execution_count": 75,
   "metadata": {},
   "outputs": [
    {
     "data": {
      "text/plain": [
       "<matplotlib.axes._subplots.AxesSubplot at 0x11636a940>"
      ]
     },
     "execution_count": 75,
     "metadata": {},
     "output_type": "execute_result"
    },
    {
     "data": {
      "image/png": "[encoded data removed]",
      "text/plain": [
       "<Figure size 432x288 with 1 Axes>"
      ]
     },
     "metadata": {
      "needs_background": "light"
     },
     "output_type": "display_data"
    }
   ],
   "source": [
    "appl_q = stocks['AAPL'].resample('Q-DEC').ffill()\n",
    "appl_q.loc['2009':].plot()"
   ]
  },
  {
   "cell_type": "markdown",
   "metadata": {},
   "source": [
    "### Rolling windows"
   ]
  },
  {
   "cell_type": "code",
   "execution_count": 78,
   "metadata": {},
   "outputs": [
    {
     "data": {
      "text/html": [
       "<div>\n",
       "<style scoped>\n",
       "    .dataframe tbody tr th:only-of-type {\n",
       "        vertical-align: middle;\n",
       "    }\n",
       "\n",
       "    .dataframe tbody tr th {\n",
       "        vertical-align: top;\n",
       "    }\n",
       "\n",
       "    .dataframe thead th {\n",
       "        text-align: right;\n",
       "    }\n",
       "</style>\n",
       "<table border=\"1\" class=\"dataframe\">\n",
       "  <thead>\n",
       "    <tr style=\"text-align: right;\">\n",
       "      <th></th>\n",
       "      <th>AAPL</th>\n",
       "      <th>MSFT</th>\n",
       "      <th>XOM</th>\n",
       "    </tr>\n",
       "  </thead>\n",
       "  <tbody>\n",
       "    <tr>\n",
       "      <th>2003-01-02</th>\n",
       "      <td>7.40</td>\n",
       "      <td>21.11</td>\n",
       "      <td>29.22</td>\n",
       "    </tr>\n",
       "    <tr>\n",
       "      <th>2003-01-03</th>\n",
       "      <td>7.45</td>\n",
       "      <td>21.14</td>\n",
       "      <td>29.24</td>\n",
       "    </tr>\n",
       "    <tr>\n",
       "      <th>2003-01-06</th>\n",
       "      <td>7.45</td>\n",
       "      <td>21.52</td>\n",
       "      <td>29.96</td>\n",
       "    </tr>\n",
       "    <tr>\n",
       "      <th>2003-01-07</th>\n",
       "      <td>7.43</td>\n",
       "      <td>21.93</td>\n",
       "      <td>28.95</td>\n",
       "    </tr>\n",
       "    <tr>\n",
       "      <th>2003-01-08</th>\n",
       "      <td>7.28</td>\n",
       "      <td>21.31</td>\n",
       "      <td>28.83</td>\n",
       "    </tr>\n",
       "  </tbody>\n",
       "</table>\n",
       "</div>"
      ],
      "text/plain": [
       "            AAPL   MSFT    XOM\n",
       "2003-01-02  7.40  21.11  29.22\n",
       "2003-01-03  7.45  21.14  29.24\n",
       "2003-01-06  7.45  21.52  29.96\n",
       "2003-01-07  7.43  21.93  28.95\n",
       "2003-01-08  7.28  21.31  28.83"
      ]
     },
     "execution_count": 78,
     "metadata": {},
     "output_type": "execute_result"
    }
   ],
   "source": [
    "stocks = stocks.asfreq('B').fillna(method='ffill')\n",
    "stocks.head()"
   ]
  },
  {
   "cell_type": "code",
   "execution_count": 79,
   "metadata": {},
   "outputs": [
    {
     "data": {
      "text/plain": [
       "<matplotlib.axes._subplots.AxesSubplot at 0x116d7c4e0>"
      ]
     },
     "execution_count": 79,
     "metadata": {},
     "output_type": "execute_result"
    },
    {
     "data": {
      "image/png": "[encoded data removed]",
      "text/plain": [
       "<Figure size 432x288 with 1 Axes>"
      ]
     },
     "metadata": {
      "needs_background": "light"
     },
     "output_type": "display_data"
    }
   ],
   "source": [
    "stocks['AAPL'].rolling(250).mean().plot()"
   ]
  },
  {
   "cell_type": "code",
   "execution_count": 80,
   "metadata": {},
   "outputs": [
    {
     "data": {
      "text/plain": [
       "<matplotlib.axes._subplots.AxesSubplot at 0x11707c198>"
      ]
     },
     "execution_count": 80,
     "metadata": {},
     "output_type": "execute_result"
    },
    {
     "data": {
      "image/png": "[encoded data removed]",
      "text/plain": [
       "<Figure size 432x288 with 1 Axes>"
      ]
     },
     "metadata": {
      "needs_background": "light"
     },
     "output_type": "display_data"
    }
   ],
   "source": [
    "stocks['AAPL'].rolling(250, min_periods=10).std().plot()"
   ]
  },
  {
   "cell_type": "markdown",
   "metadata": {},
   "source": [
    "**Question**: What does the parameter 250 do?\n"
   ]
  },
  {
   "cell_type": "markdown",
   "metadata": {},
   "source": [
    "### Difference grouped by weekday"
   ]
  },
  {
   "cell_type": "code",
   "execution_count": 84,
   "metadata": {},
   "outputs": [
    {
     "data": {
      "text/html": [
       "<div>\n",
       "<style scoped>\n",
       "    .dataframe tbody tr th:only-of-type {\n",
       "        vertical-align: middle;\n",
       "    }\n",
       "\n",
       "    .dataframe tbody tr th {\n",
       "        vertical-align: top;\n",
       "    }\n",
       "\n",
       "    .dataframe thead th {\n",
       "        text-align: right;\n",
       "    }\n",
       "</style>\n",
       "<table border=\"1\" class=\"dataframe\">\n",
       "  <thead>\n",
       "    <tr style=\"text-align: right;\">\n",
       "      <th></th>\n",
       "      <th>AAPL</th>\n",
       "      <th>MSFT</th>\n",
       "      <th>XOM</th>\n",
       "    </tr>\n",
       "  </thead>\n",
       "  <tbody>\n",
       "    <tr>\n",
       "      <th>2003-01-02</th>\n",
       "      <td>NaN</td>\n",
       "      <td>NaN</td>\n",
       "      <td>NaN</td>\n",
       "    </tr>\n",
       "    <tr>\n",
       "      <th>2003-01-03</th>\n",
       "      <td>0.05</td>\n",
       "      <td>0.03</td>\n",
       "      <td>0.02</td>\n",
       "    </tr>\n",
       "    <tr>\n",
       "      <th>2003-01-06</th>\n",
       "      <td>0.00</td>\n",
       "      <td>0.38</td>\n",
       "      <td>0.72</td>\n",
       "    </tr>\n",
       "    <tr>\n",
       "      <th>2003-01-07</th>\n",
       "      <td>-0.02</td>\n",
       "      <td>0.41</td>\n",
       "      <td>-1.01</td>\n",
       "    </tr>\n",
       "    <tr>\n",
       "      <th>2003-01-08</th>\n",
       "      <td>-0.15</td>\n",
       "      <td>-0.62</td>\n",
       "      <td>-0.12</td>\n",
       "    </tr>\n",
       "  </tbody>\n",
       "</table>\n",
       "</div>"
      ],
      "text/plain": [
       "            AAPL  MSFT   XOM\n",
       "2003-01-02   NaN   NaN   NaN\n",
       "2003-01-03  0.05  0.03  0.02\n",
       "2003-01-06  0.00  0.38  0.72\n",
       "2003-01-07 -0.02  0.41 -1.01\n",
       "2003-01-08 -0.15 -0.62 -0.12"
      ]
     },
     "execution_count": 84,
     "metadata": {},
     "output_type": "execute_result"
    }
   ],
   "source": [
    "DAYS = ['0 Mon', '1 Tue', '2 Wed', '3 Thu', '4 Fri']\n",
    "\n",
    "diff = stocks - stocks.shift(1)\n",
    "diff.head()"
   ]
  },
  {
   "cell_type": "code",
   "execution_count": 85,
   "metadata": {},
   "outputs": [],
   "source": [
    "diff['weekday'] = diff.index.weekday"
   ]
  },
  {
   "cell_type": "code",
   "execution_count": 86,
   "metadata": {},
   "outputs": [
    {
     "data": {
      "text/html": [
       "<div>\n",
       "<style scoped>\n",
       "    .dataframe tbody tr th:only-of-type {\n",
       "        vertical-align: middle;\n",
       "    }\n",
       "\n",
       "    .dataframe tbody tr th {\n",
       "        vertical-align: top;\n",
       "    }\n",
       "\n",
       "    .dataframe thead th {\n",
       "        text-align: right;\n",
       "    }\n",
       "</style>\n",
       "<table border=\"1\" class=\"dataframe\">\n",
       "  <thead>\n",
       "    <tr style=\"text-align: right;\">\n",
       "      <th></th>\n",
       "      <th>AAPL</th>\n",
       "      <th>MSFT</th>\n",
       "      <th>XOM</th>\n",
       "      <th>weekday</th>\n",
       "    </tr>\n",
       "  </thead>\n",
       "  <tbody>\n",
       "    <tr>\n",
       "      <th>2003-01-02</th>\n",
       "      <td>NaN</td>\n",
       "      <td>NaN</td>\n",
       "      <td>NaN</td>\n",
       "      <td>3 Thu</td>\n",
       "    </tr>\n",
       "  </tbody>\n",
       "</table>\n",
       "</div>"
      ],
      "text/plain": [
       "            AAPL  MSFT  XOM weekday\n",
       "2003-01-02   NaN   NaN  NaN   3 Thu"
      ]
     },
     "execution_count": 86,
     "metadata": {},
     "output_type": "execute_result"
    }
   ],
   "source": [
    "diff['weekday'].replace(dict(zip(range(5), DAYS)), inplace=True)\n",
    "\n",
    "diff.head(1)"
   ]
  },
  {
   "cell_type": "code",
   "execution_count": 87,
   "metadata": {},
   "outputs": [
    {
     "data": {
      "text/plain": [
       "<matplotlib.axes._subplots.AxesSubplot at 0x116e1d588>"
      ]
     },
     "execution_count": 87,
     "metadata": {},
     "output_type": "execute_result"
    },
    {
     "data": {
      "image/png": "[encoded data removed]",
      "text/plain": [
       "<Figure size 432x288 with 1 Axes>"
      ]
     },
     "metadata": {
      "needs_background": "light"
     },
     "output_type": "display_data"
    }
   ],
   "source": [
    "diff.groupby('weekday').mean().transpose().plot.bar()"
   ]
  },
  {
   "cell_type": "markdown",
   "metadata": {},
   "source": [
    "More detailed examples are available in the pandas documentation: https://pandas.pydata.org/pandas-docs/stable/user_guide/timeseries.html"
   ]
  },
  {
   "cell_type": "code",
   "execution_count": null,
   "metadata": {},
   "outputs": [],
   "source": []
  }
 ],
 "metadata": {
  "kernelspec": {
   "display_name": "Python 3",
   "language": "python",
   "name": "python3"
  },
  "language_info": {
   "codemirror_mode": {
    "name": "ipython",
    "version": 3
   },
   "file_extension": ".py",
   "mimetype": "text/x-python",
   "name": "python",
   "nbconvert_exporter": "python",
   "pygments_lexer": "ipython3",
   "version": "3.7.1"
  }
 },
 "nbformat": 4,
 "nbformat_minor": 2
}
