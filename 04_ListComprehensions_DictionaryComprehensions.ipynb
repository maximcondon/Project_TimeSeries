{
 "cells": [
  {
   "cell_type": "markdown",
   "metadata": {},
   "source": [
    "# Comprehensions:\n",
    "##### The objective for this morning is to better understand the power of comprehensions\n",
    "* Not all for loops can be written as comprehension\n",
    "* But all comprehensions can be written as for loops\n",
    "* The syntax is much cleaner\n",
    "* So lets do a few!!\n",
    "* (If you're already comfortable with list comps, have a look at the dict or set comps further down)\n",
    "* Lambda functions coming next week!!"
   ]
  },
  {
   "cell_type": "markdown",
   "metadata": {},
   "source": [
    "#### List comprehension: \n",
    "* syntax: \n",
    "        \n",
    "                            [var for var in list]"
   ]
  },
  {
   "cell_type": "markdown",
   "metadata": {},
   "source": [
    "* create a simple list comphrehension"
   ]
  },
  {
   "cell_type": "code",
   "execution_count": 1,
   "metadata": {
    "scrolled": true
   },
   "outputs": [
    {
     "data": {
      "text/plain": [
       "[0, 1, 2, 3, 4, 5, 6, 7, 8, 9]"
      ]
     },
     "execution_count": 1,
     "metadata": {},
     "output_type": "execute_result"
    }
   ],
   "source": [
    "list(range(10))"
   ]
  },
  {
   "cell_type": "markdown",
   "metadata": {},
   "source": [
    "This is how it would be written for a for loop - a bit of a mouthful!"
   ]
  },
  {
   "cell_type": "code",
   "execution_count": 2,
   "metadata": {},
   "outputs": [
    {
     "data": {
      "text/plain": [
       "[0, 1, 2, 3, 4, 5, 6, 7, 8, 9]"
      ]
     },
     "execution_count": 2,
     "metadata": {},
     "output_type": "execute_result"
    }
   ],
   "source": [
    "y = []\n",
    "for var in range(10):\n",
    "    y.append(var)\n",
    "    \n",
    "y"
   ]
  },
  {
   "cell_type": "markdown",
   "metadata": {},
   "source": [
    "#### Alternatively, using a list comprehension:"
   ]
  },
  {
   "cell_type": "code",
   "execution_count": 3,
   "metadata": {},
   "outputs": [
    {
     "data": {
      "text/plain": [
       "[0, 1, 2, 3, 4, 5, 6, 7, 8, 9]"
      ]
     },
     "execution_count": 3,
     "metadata": {},
     "output_type": "execute_result"
    }
   ],
   "source": [
    "[var for var in range(10)]"
   ]
  },
  {
   "cell_type": "markdown",
   "metadata": {},
   "source": [
    "* now transform all vars in some way"
   ]
  },
  {
   "cell_type": "code",
   "execution_count": 6,
   "metadata": {},
   "outputs": [
    {
     "data": {
      "text/plain": [
       "['bob', 'bob', 'bob', 'bob', 'bob', 'bob', 'bob', 'bob', 'bob', 'bob']"
      ]
     },
     "execution_count": 6,
     "metadata": {},
     "output_type": "execute_result"
    }
   ],
   "source": [
    "['bob' for var in range(10)]"
   ]
  },
  {
   "cell_type": "markdown",
   "metadata": {},
   "source": [
    "* now add a conditional statement to var"
   ]
  },
  {
   "cell_type": "code",
   "execution_count": 7,
   "metadata": {
    "scrolled": true
   },
   "outputs": [
    {
     "name": "stdout",
     "output_type": "stream",
     "text": [
      "0\n",
      "odd\n",
      "2\n",
      "odd\n",
      "4\n",
      "odd\n",
      "6\n",
      "odd\n",
      "8\n",
      "odd\n"
     ]
    }
   ],
   "source": [
    "for var in range(10):\n",
    "    if var%2==0:\n",
    "        print(var)\n",
    "    else:\n",
    "        print('odd')\n",
    "        \n",
    "# our code is much longer now"
   ]
  },
  {
   "cell_type": "code",
   "execution_count": 7,
   "metadata": {},
   "outputs": [
    {
     "data": {
      "text/plain": [
       "[0, 'odd', 2, 'odd', 4, 'odd', 6, 'odd', 8, 'odd']"
      ]
     },
     "execution_count": 7,
     "metadata": {},
     "output_type": "execute_result"
    }
   ],
   "source": [
    "[var if var%2==0 else 'odd' for var in range(10)]"
   ]
  },
  {
   "cell_type": "markdown",
   "metadata": {},
   "source": [
    "#### Can even transform var whilst searching for a conditional statement!"
   ]
  },
  {
   "cell_type": "code",
   "execution_count": 8,
   "metadata": {},
   "outputs": [
    {
     "data": {
      "text/plain": [
       "[0, 'odd', 4, 'odd', 16, 'odd', 36, 'odd', 64, 'odd']"
      ]
     },
     "execution_count": 8,
     "metadata": {},
     "output_type": "execute_result"
    }
   ],
   "source": [
    "[var**2 if var%2==0 else 'odd' for var in range(10)]"
   ]
  },
  {
   "cell_type": "markdown",
   "metadata": {},
   "source": [
    "### Nested comprehensions"
   ]
  },
  {
   "cell_type": "code",
   "execution_count": 6,
   "metadata": {
    "scrolled": true
   },
   "outputs": [
    {
     "data": {
      "text/plain": [
       "[0, 1, 2, 3, 4, 5, 6, 7, 8, 9]"
      ]
     },
     "execution_count": 6,
     "metadata": {},
     "output_type": "execute_result"
    }
   ],
   "source": [
    "[var for var in range(10)]"
   ]
  },
  {
   "cell_type": "code",
   "execution_count": 7,
   "metadata": {},
   "outputs": [
    {
     "data": {
      "text/plain": [
       "['bob', 'bob', 'bob', 'bob', 'bob', 'bob', 'bob', 'bob', 'bob', 'bob']"
      ]
     },
     "execution_count": 7,
     "metadata": {},
     "output_type": "execute_result"
    }
   ],
   "source": [
    "['bob' for var in range(10)]"
   ]
  },
  {
   "cell_type": "markdown",
   "metadata": {},
   "source": [
    "#### Could be a function, or could be a list!"
   ]
  },
  {
   "cell_type": "code",
   "execution_count": 8,
   "metadata": {
    "scrolled": true
   },
   "outputs": [
    {
     "data": {
      "text/plain": [
       "[[0, 1, 2],\n",
       " [0, 1, 2],\n",
       " [0, 1, 2],\n",
       " [0, 1, 2],\n",
       " [0, 1, 2],\n",
       " [0, 1, 2],\n",
       " [0, 1, 2],\n",
       " [0, 1, 2],\n",
       " [0, 1, 2],\n",
       " [0, 1, 2]]"
      ]
     },
     "execution_count": 8,
     "metadata": {},
     "output_type": "execute_result"
    }
   ],
   "source": [
    "[[0,1,2] for var in range(10)]"
   ]
  },
  {
   "cell_type": "code",
   "execution_count": 9,
   "metadata": {
    "scrolled": true
   },
   "outputs": [
    {
     "data": {
      "text/plain": [
       "[[0, 1, 2, 3, 4, 5, 6, 7, 8, 9],\n",
       " [0, 1, 2, 3, 4, 5, 6, 7, 8, 9],\n",
       " [0, 1, 2, 3, 4, 5, 6, 7, 8, 9],\n",
       " [0, 1, 2, 3, 4, 5, 6, 7, 8, 9],\n",
       " [0, 1, 2, 3, 4, 5, 6, 7, 8, 9],\n",
       " [0, 1, 2, 3, 4, 5, 6, 7, 8, 9],\n",
       " [0, 1, 2, 3, 4, 5, 6, 7, 8, 9],\n",
       " [0, 1, 2, 3, 4, 5, 6, 7, 8, 9],\n",
       " [0, 1, 2, 3, 4, 5, 6, 7, 8, 9],\n",
       " [0, 1, 2, 3, 4, 5, 6, 7, 8, 9]]"
      ]
     },
     "execution_count": 9,
     "metadata": {},
     "output_type": "execute_result"
    }
   ],
   "source": [
    "[[var for var in range(10)] for var in range(10)]"
   ]
  },
  {
   "cell_type": "code",
   "execution_count": 10,
   "metadata": {},
   "outputs": [],
   "source": [
    "# [[[var for var in range(10)] for var in range(10)] for var in range(10)]"
   ]
  },
  {
   "cell_type": "markdown",
   "metadata": {},
   "source": [
    "If you used just a for loop to do this:"
   ]
  },
  {
   "cell_type": "code",
   "execution_count": 10,
   "metadata": {},
   "outputs": [],
   "source": [
    "i_list = []\n",
    "\n",
    "for i in range(10):\n",
    "    j_list = []\n",
    "    for j in range(10):\n",
    "        k_list = []\n",
    "        for k in range(10):\n",
    "            k_list.append(k)\n",
    "        j_list.append(k_list)\n",
    "    i_list.append(j_list)"
   ]
  },
  {
   "cell_type": "code",
   "execution_count": 11,
   "metadata": {},
   "outputs": [
    {
     "data": {
      "text/plain": [
       "[[[0, 1, 2, 3, 4, 5, 6, 7, 8, 9],\n",
       "  [0, 1, 2, 3, 4, 5, 6, 7, 8, 9],\n",
       "  [0, 1, 2, 3, 4, 5, 6, 7, 8, 9],\n",
       "  [0, 1, 2, 3, 4, 5, 6, 7, 8, 9],\n",
       "  [0, 1, 2, 3, 4, 5, 6, 7, 8, 9],\n",
       "  [0, 1, 2, 3, 4, 5, 6, 7, 8, 9],\n",
       "  [0, 1, 2, 3, 4, 5, 6, 7, 8, 9],\n",
       "  [0, 1, 2, 3, 4, 5, 6, 7, 8, 9],\n",
       "  [0, 1, 2, 3, 4, 5, 6, 7, 8, 9],\n",
       "  [0, 1, 2, 3, 4, 5, 6, 7, 8, 9]],\n",
       " [[0, 1, 2, 3, 4, 5, 6, 7, 8, 9],\n",
       "  [0, 1, 2, 3, 4, 5, 6, 7, 8, 9],\n",
       "  [0, 1, 2, 3, 4, 5, 6, 7, 8, 9],\n",
       "  [0, 1, 2, 3, 4, 5, 6, 7, 8, 9],\n",
       "  [0, 1, 2, 3, 4, 5, 6, 7, 8, 9],\n",
       "  [0, 1, 2, 3, 4, 5, 6, 7, 8, 9],\n",
       "  [0, 1, 2, 3, 4, 5, 6, 7, 8, 9],\n",
       "  [0, 1, 2, 3, 4, 5, 6, 7, 8, 9],\n",
       "  [0, 1, 2, 3, 4, 5, 6, 7, 8, 9],\n",
       "  [0, 1, 2, 3, 4, 5, 6, 7, 8, 9]],\n",
       " [[0, 1, 2, 3, 4, 5, 6, 7, 8, 9],\n",
       "  [0, 1, 2, 3, 4, 5, 6, 7, 8, 9],\n",
       "  [0, 1, 2, 3, 4, 5, 6, 7, 8, 9],\n",
       "  [0, 1, 2, 3, 4, 5, 6, 7, 8, 9],\n",
       "  [0, 1, 2, 3, 4, 5, 6, 7, 8, 9],\n",
       "  [0, 1, 2, 3, 4, 5, 6, 7, 8, 9],\n",
       "  [0, 1, 2, 3, 4, 5, 6, 7, 8, 9],\n",
       "  [0, 1, 2, 3, 4, 5, 6, 7, 8, 9],\n",
       "  [0, 1, 2, 3, 4, 5, 6, 7, 8, 9],\n",
       "  [0, 1, 2, 3, 4, 5, 6, 7, 8, 9]],\n",
       " [[0, 1, 2, 3, 4, 5, 6, 7, 8, 9],\n",
       "  [0, 1, 2, 3, 4, 5, 6, 7, 8, 9],\n",
       "  [0, 1, 2, 3, 4, 5, 6, 7, 8, 9],\n",
       "  [0, 1, 2, 3, 4, 5, 6, 7, 8, 9],\n",
       "  [0, 1, 2, 3, 4, 5, 6, 7, 8, 9],\n",
       "  [0, 1, 2, 3, 4, 5, 6, 7, 8, 9],\n",
       "  [0, 1, 2, 3, 4, 5, 6, 7, 8, 9],\n",
       "  [0, 1, 2, 3, 4, 5, 6, 7, 8, 9],\n",
       "  [0, 1, 2, 3, 4, 5, 6, 7, 8, 9],\n",
       "  [0, 1, 2, 3, 4, 5, 6, 7, 8, 9]],\n",
       " [[0, 1, 2, 3, 4, 5, 6, 7, 8, 9],\n",
       "  [0, 1, 2, 3, 4, 5, 6, 7, 8, 9],\n",
       "  [0, 1, 2, 3, 4, 5, 6, 7, 8, 9],\n",
       "  [0, 1, 2, 3, 4, 5, 6, 7, 8, 9],\n",
       "  [0, 1, 2, 3, 4, 5, 6, 7, 8, 9],\n",
       "  [0, 1, 2, 3, 4, 5, 6, 7, 8, 9],\n",
       "  [0, 1, 2, 3, 4, 5, 6, 7, 8, 9],\n",
       "  [0, 1, 2, 3, 4, 5, 6, 7, 8, 9],\n",
       "  [0, 1, 2, 3, 4, 5, 6, 7, 8, 9],\n",
       "  [0, 1, 2, 3, 4, 5, 6, 7, 8, 9]],\n",
       " [[0, 1, 2, 3, 4, 5, 6, 7, 8, 9],\n",
       "  [0, 1, 2, 3, 4, 5, 6, 7, 8, 9],\n",
       "  [0, 1, 2, 3, 4, 5, 6, 7, 8, 9],\n",
       "  [0, 1, 2, 3, 4, 5, 6, 7, 8, 9],\n",
       "  [0, 1, 2, 3, 4, 5, 6, 7, 8, 9],\n",
       "  [0, 1, 2, 3, 4, 5, 6, 7, 8, 9],\n",
       "  [0, 1, 2, 3, 4, 5, 6, 7, 8, 9],\n",
       "  [0, 1, 2, 3, 4, 5, 6, 7, 8, 9],\n",
       "  [0, 1, 2, 3, 4, 5, 6, 7, 8, 9],\n",
       "  [0, 1, 2, 3, 4, 5, 6, 7, 8, 9]],\n",
       " [[0, 1, 2, 3, 4, 5, 6, 7, 8, 9],\n",
       "  [0, 1, 2, 3, 4, 5, 6, 7, 8, 9],\n",
       "  [0, 1, 2, 3, 4, 5, 6, 7, 8, 9],\n",
       "  [0, 1, 2, 3, 4, 5, 6, 7, 8, 9],\n",
       "  [0, 1, 2, 3, 4, 5, 6, 7, 8, 9],\n",
       "  [0, 1, 2, 3, 4, 5, 6, 7, 8, 9],\n",
       "  [0, 1, 2, 3, 4, 5, 6, 7, 8, 9],\n",
       "  [0, 1, 2, 3, 4, 5, 6, 7, 8, 9],\n",
       "  [0, 1, 2, 3, 4, 5, 6, 7, 8, 9],\n",
       "  [0, 1, 2, 3, 4, 5, 6, 7, 8, 9]],\n",
       " [[0, 1, 2, 3, 4, 5, 6, 7, 8, 9],\n",
       "  [0, 1, 2, 3, 4, 5, 6, 7, 8, 9],\n",
       "  [0, 1, 2, 3, 4, 5, 6, 7, 8, 9],\n",
       "  [0, 1, 2, 3, 4, 5, 6, 7, 8, 9],\n",
       "  [0, 1, 2, 3, 4, 5, 6, 7, 8, 9],\n",
       "  [0, 1, 2, 3, 4, 5, 6, 7, 8, 9],\n",
       "  [0, 1, 2, 3, 4, 5, 6, 7, 8, 9],\n",
       "  [0, 1, 2, 3, 4, 5, 6, 7, 8, 9],\n",
       "  [0, 1, 2, 3, 4, 5, 6, 7, 8, 9],\n",
       "  [0, 1, 2, 3, 4, 5, 6, 7, 8, 9]],\n",
       " [[0, 1, 2, 3, 4, 5, 6, 7, 8, 9],\n",
       "  [0, 1, 2, 3, 4, 5, 6, 7, 8, 9],\n",
       "  [0, 1, 2, 3, 4, 5, 6, 7, 8, 9],\n",
       "  [0, 1, 2, 3, 4, 5, 6, 7, 8, 9],\n",
       "  [0, 1, 2, 3, 4, 5, 6, 7, 8, 9],\n",
       "  [0, 1, 2, 3, 4, 5, 6, 7, 8, 9],\n",
       "  [0, 1, 2, 3, 4, 5, 6, 7, 8, 9],\n",
       "  [0, 1, 2, 3, 4, 5, 6, 7, 8, 9],\n",
       "  [0, 1, 2, 3, 4, 5, 6, 7, 8, 9],\n",
       "  [0, 1, 2, 3, 4, 5, 6, 7, 8, 9]],\n",
       " [[0, 1, 2, 3, 4, 5, 6, 7, 8, 9],\n",
       "  [0, 1, 2, 3, 4, 5, 6, 7, 8, 9],\n",
       "  [0, 1, 2, 3, 4, 5, 6, 7, 8, 9],\n",
       "  [0, 1, 2, 3, 4, 5, 6, 7, 8, 9],\n",
       "  [0, 1, 2, 3, 4, 5, 6, 7, 8, 9],\n",
       "  [0, 1, 2, 3, 4, 5, 6, 7, 8, 9],\n",
       "  [0, 1, 2, 3, 4, 5, 6, 7, 8, 9],\n",
       "  [0, 1, 2, 3, 4, 5, 6, 7, 8, 9],\n",
       "  [0, 1, 2, 3, 4, 5, 6, 7, 8, 9],\n",
       "  [0, 1, 2, 3, 4, 5, 6, 7, 8, 9]]]"
      ]
     },
     "execution_count": 11,
     "metadata": {},
     "output_type": "execute_result"
    }
   ],
   "source": [
    "i_list"
   ]
  },
  {
   "cell_type": "markdown",
   "metadata": {},
   "source": [
    "## Dictonary Comprehension:\n",
    "* Syntax is similar to list comprehensions"
   ]
  },
  {
   "cell_type": "markdown",
   "metadata": {},
   "source": [
    "            { key : value for (key, value) in d.items( )}"
   ]
  },
  {
   "cell_type": "code",
   "execution_count": 12,
   "metadata": {
    "scrolled": true
   },
   "outputs": [
    {
     "data": {
      "text/plain": [
       "dict_items([('one', 1), ('two', 2), ('three', 3), ('four', 4)])"
      ]
     },
     "execution_count": 12,
     "metadata": {},
     "output_type": "execute_result"
    }
   ],
   "source": [
    "d = {'one': 1, 'two': 2, 'three': 3, 'four': 4}\n",
    "d.items()"
   ]
  },
  {
   "cell_type": "markdown",
   "metadata": {},
   "source": [
    "* Creating a new dictionary"
   ]
  },
  {
   "cell_type": "code",
   "execution_count": 13,
   "metadata": {},
   "outputs": [
    {
     "data": {
      "text/plain": [
       "{'0': 0, '1': 1, '2': 2, '3': 3}"
      ]
     },
     "execution_count": 13,
     "metadata": {},
     "output_type": "execute_result"
    }
   ],
   "source": [
    "{str(i):i for (i,i) in enumerate(range(4))}"
   ]
  },
  {
   "cell_type": "markdown",
   "metadata": {},
   "source": [
    "* try to transform all the keys in a dictionary"
   ]
  },
  {
   "cell_type": "code",
   "execution_count": 14,
   "metadata": {},
   "outputs": [
    {
     "data": {
      "text/plain": [
       "{\"Max's one\": 1, \"Max's two\": 2, \"Max's three\": 3, \"Max's four\": 4}"
      ]
     },
     "execution_count": 14,
     "metadata": {},
     "output_type": "execute_result"
    }
   ],
   "source": [
    "{\"Max's \" + key:value for (key,value) in d.items()}"
   ]
  },
  {
   "cell_type": "markdown",
   "metadata": {},
   "source": [
    "* now transform all the values in a dictionary"
   ]
  },
  {
   "cell_type": "code",
   "execution_count": 15,
   "metadata": {},
   "outputs": [
    {
     "data": {
      "text/plain": [
       "{'one': 1, 'two': 4, 'three': 9, 'four': 16}"
      ]
     },
     "execution_count": 15,
     "metadata": {},
     "output_type": "execute_result"
    }
   ],
   "source": [
    "{key:value**2 for (key,value) in d.items()}"
   ]
  },
  {
   "cell_type": "markdown",
   "metadata": {},
   "source": [
    "* transform key, value pairs based on a conditional"
   ]
  },
  {
   "cell_type": "code",
   "execution_count": 16,
   "metadata": {},
   "outputs": [
    {
     "data": {
      "text/plain": [
       "{'one': 1, 'two': 4, 'three': 3, 'four': 16}"
      ]
     },
     "execution_count": 16,
     "metadata": {},
     "output_type": "execute_result"
    }
   ],
   "source": [
    "{key:(value**2 if value%2==0 else value) for (key,value) in d.items()}"
   ]
  },
  {
   "cell_type": "markdown",
   "metadata": {},
   "source": [
    "#### Now let's use the zip function!"
   ]
  },
  {
   "cell_type": "code",
   "execution_count": 17,
   "metadata": {
    "scrolled": true
   },
   "outputs": [
    {
     "name": "stdout",
     "output_type": "stream",
     "text": [
      "[0, 1, 2, 3, 4, 5, 6, 7, 8, 9] [100, 101, 102, 103, 104, 105, 106, 107, 108, 109]\n"
     ]
    }
   ],
   "source": [
    "a = list(range(10))\n",
    "b = list(range(100,110))\n",
    "\n",
    "print(a,b) # prints side by side lists"
   ]
  },
  {
   "cell_type": "code",
   "execution_count": 18,
   "metadata": {},
   "outputs": [
    {
     "data": {
      "text/plain": [
       "[(0, 100),\n",
       " (1, 101),\n",
       " (2, 102),\n",
       " (3, 103),\n",
       " (4, 104),\n",
       " (5, 105),\n",
       " (6, 106),\n",
       " (7, 107),\n",
       " (8, 108),\n",
       " (9, 109)]"
      ]
     },
     "execution_count": 18,
     "metadata": {},
     "output_type": "execute_result"
    }
   ],
   "source": [
    "c = list(zip(a,b))\n",
    "c # prints a zipped list"
   ]
  },
  {
   "cell_type": "code",
   "execution_count": 19,
   "metadata": {},
   "outputs": [
    {
     "data": {
      "text/plain": [
       "{0: 100,\n",
       " 1: 101,\n",
       " 2: 102,\n",
       " 3: 103,\n",
       " 4: 104,\n",
       " 5: 105,\n",
       " 6: 106,\n",
       " 7: 107,\n",
       " 8: 108,\n",
       " 9: 109}"
      ]
     },
     "execution_count": 19,
     "metadata": {},
     "output_type": "execute_result"
    }
   ],
   "source": [
    "d = dict(zip(a,b))\n",
    "d # prints a zipped dictionary!"
   ]
  },
  {
   "cell_type": "code",
   "execution_count": 20,
   "metadata": {},
   "outputs": [
    {
     "data": {
      "text/plain": [
       "{0: 10.0,\n",
       " 1: 101,\n",
       " 2: 10.2,\n",
       " 3: 103,\n",
       " 4: 10.4,\n",
       " 5: 105,\n",
       " 6: 10.6,\n",
       " 7: 107,\n",
       " 8: 10.8,\n",
       " 9: 109}"
      ]
     },
     "execution_count": 20,
     "metadata": {},
     "output_type": "execute_result"
    }
   ],
   "source": [
    "{(key):(value/10 if value%2==0 else value) for (key, value) in d.items()}"
   ]
  },
  {
   "cell_type": "code",
   "execution_count": 21,
   "metadata": {},
   "outputs": [
    {
     "name": "stdout",
     "output_type": "stream",
     "text": [
      "[('a', 1), ('b', 2), ('c', 3), ('d', 4)]\n",
      "{'a': 1, 'b': 2, 'c': 3, 'd': 4}\n"
     ]
    }
   ],
   "source": [
    "a=['a','b','c','d']\n",
    "b= [1,2,3,4]\n",
    "\n",
    "print(list(zip(a,b)))\n",
    "print(dict(zip(a,b)))"
   ]
  },
  {
   "cell_type": "markdown",
   "metadata": {},
   "source": [
    "* try and transform all the key, value pairs in the dictionary"
   ]
  },
  {
   "cell_type": "code",
   "execution_count": 22,
   "metadata": {},
   "outputs": [],
   "source": [
    "d = dict(zip(a,b))"
   ]
  },
  {
   "cell_type": "code",
   "execution_count": 23,
   "metadata": {},
   "outputs": [
    {
     "data": {
      "text/plain": [
       "{'a': 1, 'b': 2, 'c': 3, 'd': 4}"
      ]
     },
     "execution_count": 23,
     "metadata": {},
     "output_type": "execute_result"
    }
   ],
   "source": [
    "d"
   ]
  },
  {
   "cell_type": "code",
   "execution_count": 28,
   "metadata": {},
   "outputs": [
    {
     "data": {
      "text/plain": [
       "{'aa': 1, 'bb': 8, 'cc': 3, 'dd': 64}"
      ]
     },
     "execution_count": 28,
     "metadata": {},
     "output_type": "execute_result"
    }
   ],
   "source": [
    "{(key*2):(value**3 if value%2==0 else value) for (key, value) in d.items()}"
   ]
  }
 ],
 "metadata": {
  "kernelspec": {
   "display_name": "Python 3",
   "language": "python",
   "name": "python3"
  },
  "language_info": {
   "codemirror_mode": {
    "name": "ipython",
    "version": 3
   },
   "file_extension": ".py",
   "mimetype": "text/x-python",
   "name": "python",
   "nbconvert_exporter": "python",
   "pygments_lexer": "ipython3",
   "version": "3.7.1"
  }
 },
 "nbformat": 4,
 "nbformat_minor": 2
}
