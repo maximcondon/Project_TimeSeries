{
 "cells": [
  {
   "cell_type": "markdown",
   "metadata": {},
   "source": [
    "# Project \n",
    "\n",
    "## Bitcoin Predictor"
   ]
  },
  {
   "cell_type": "markdown",
   "metadata": {},
   "source": [
    "### Now we'll grab the bitcoin market data and price history!"
   ]
  },
  {
   "cell_type": "code",
   "execution_count": 1,
   "metadata": {},
   "outputs": [],
   "source": [
    "import requests\n",
    "import pandas as pd\n",
    "from fbprophet import Prophet\n",
    "from matplotlib import pyplot as plt\n",
    "%matplotlib inline"
   ]
  },
  {
   "cell_type": "code",
   "execution_count": 2,
   "metadata": {},
   "outputs": [],
   "source": [
    "bitcoin = 'https://api.coingecko.com/api/v3/coins/bitcoin/market_chart?vs_currency=USD&days=365'"
   ]
  },
  {
   "cell_type": "code",
   "execution_count": 3,
   "metadata": {},
   "outputs": [
    {
     "data": {
      "text/plain": [
       "dict"
      ]
     },
     "execution_count": 3,
     "metadata": {},
     "output_type": "execute_result"
    }
   ],
   "source": [
    "bit_coin = requests.get(bitcoin)\n",
    "bit_json = bit_coin.json()\n",
    "type(bit_json)"
   ]
  },
  {
   "cell_type": "code",
   "execution_count": 4,
   "metadata": {},
   "outputs": [],
   "source": [
    "bitcoin_prices = bit_json['prices']"
   ]
  },
  {
   "cell_type": "code",
   "execution_count": 5,
   "metadata": {},
   "outputs": [
    {
     "data": {
      "text/html": [
       "<div>\n",
       "<style scoped>\n",
       "    .dataframe tbody tr th:only-of-type {\n",
       "        vertical-align: middle;\n",
       "    }\n",
       "\n",
       "    .dataframe tbody tr th {\n",
       "        vertical-align: top;\n",
       "    }\n",
       "\n",
       "    .dataframe thead th {\n",
       "        text-align: right;\n",
       "    }\n",
       "</style>\n",
       "<table border=\"1\" class=\"dataframe\">\n",
       "  <thead>\n",
       "    <tr style=\"text-align: right;\">\n",
       "      <th></th>\n",
       "      <th>DateTime</th>\n",
       "      <th>Prices</th>\n",
       "    </tr>\n",
       "  </thead>\n",
       "  <tbody>\n",
       "    <tr>\n",
       "      <th>0</th>\n",
       "      <td>1525392000000</td>\n",
       "      <td>9551.135184</td>\n",
       "    </tr>\n",
       "    <tr>\n",
       "      <th>1</th>\n",
       "      <td>1525478400000</td>\n",
       "      <td>9634.538226</td>\n",
       "    </tr>\n",
       "    <tr>\n",
       "      <th>2</th>\n",
       "      <td>1525564800000</td>\n",
       "      <td>9766.244485</td>\n",
       "    </tr>\n",
       "    <tr>\n",
       "      <th>3</th>\n",
       "      <td>1525651200000</td>\n",
       "      <td>9583.871746</td>\n",
       "    </tr>\n",
       "    <tr>\n",
       "      <th>4</th>\n",
       "      <td>1525737600000</td>\n",
       "      <td>9308.265026</td>\n",
       "    </tr>\n",
       "  </tbody>\n",
       "</table>\n",
       "</div>"
      ],
      "text/plain": [
       "        DateTime       Prices\n",
       "0  1525392000000  9551.135184\n",
       "1  1525478400000  9634.538226\n",
       "2  1525564800000  9766.244485\n",
       "3  1525651200000  9583.871746\n",
       "4  1525737600000  9308.265026"
      ]
     },
     "execution_count": 5,
     "metadata": {},
     "output_type": "execute_result"
    }
   ],
   "source": [
    "bitcoin_df = pd.DataFrame(bitcoin_prices, columns=['DateTime', 'Prices'])\n",
    "bitcoin_df.head()"
   ]
  },
  {
   "cell_type": "code",
   "execution_count": 6,
   "metadata": {
    "scrolled": true
   },
   "outputs": [
    {
     "data": {
      "text/plain": [
       "(366, 2)"
      ]
     },
     "execution_count": 6,
     "metadata": {},
     "output_type": "execute_result"
    }
   ],
   "source": [
    "bitcoin_df.shape"
   ]
  },
  {
   "cell_type": "markdown",
   "metadata": {},
   "source": [
    "First column is probably a raw data time column! and the other is price"
   ]
  },
  {
   "cell_type": "code",
   "execution_count": 7,
   "metadata": {
    "scrolled": true
   },
   "outputs": [
    {
     "data": {
      "text/html": [
       "<div>\n",
       "<style scoped>\n",
       "    .dataframe tbody tr th:only-of-type {\n",
       "        vertical-align: middle;\n",
       "    }\n",
       "\n",
       "    .dataframe tbody tr th {\n",
       "        vertical-align: top;\n",
       "    }\n",
       "\n",
       "    .dataframe thead th {\n",
       "        text-align: right;\n",
       "    }\n",
       "</style>\n",
       "<table border=\"1\" class=\"dataframe\">\n",
       "  <thead>\n",
       "    <tr style=\"text-align: right;\">\n",
       "      <th></th>\n",
       "      <th>DateTime</th>\n",
       "      <th>Prices</th>\n",
       "    </tr>\n",
       "  </thead>\n",
       "  <tbody>\n",
       "    <tr>\n",
       "      <th>361</th>\n",
       "      <td>2019-04-30 00:00:00</td>\n",
       "      <td>5199.755009</td>\n",
       "    </tr>\n",
       "    <tr>\n",
       "      <th>362</th>\n",
       "      <td>2019-05-01 00:00:00</td>\n",
       "      <td>5292.803975</td>\n",
       "    </tr>\n",
       "    <tr>\n",
       "      <th>363</th>\n",
       "      <td>2019-05-02 00:00:00</td>\n",
       "      <td>5354.586800</td>\n",
       "    </tr>\n",
       "    <tr>\n",
       "      <th>364</th>\n",
       "      <td>2019-05-03 00:00:00</td>\n",
       "      <td>5450.706620</td>\n",
       "    </tr>\n",
       "    <tr>\n",
       "      <th>365</th>\n",
       "      <td>2019-05-03 03:58:52</td>\n",
       "      <td>5530.453499</td>\n",
       "    </tr>\n",
       "  </tbody>\n",
       "</table>\n",
       "</div>"
      ],
      "text/plain": [
       "               DateTime       Prices\n",
       "361 2019-04-30 00:00:00  5199.755009\n",
       "362 2019-05-01 00:00:00  5292.803975\n",
       "363 2019-05-02 00:00:00  5354.586800\n",
       "364 2019-05-03 00:00:00  5450.706620\n",
       "365 2019-05-03 03:58:52  5530.453499"
      ]
     },
     "execution_count": 7,
     "metadata": {},
     "output_type": "execute_result"
    }
   ],
   "source": [
    "bitcoin_df['DateTime'] = pd.to_datetime(bitcoin_df['DateTime'], unit='ms') \n",
    "bitcoin_df.tail()"
   ]
  },
  {
   "cell_type": "code",
   "execution_count": 8,
   "metadata": {},
   "outputs": [
    {
     "name": "stdout",
     "output_type": "stream",
     "text": [
      "<class 'pandas.core.frame.DataFrame'>\n",
      "RangeIndex: 366 entries, 0 to 365\n",
      "Data columns (total 2 columns):\n",
      "DateTime    366 non-null datetime64[ns]\n",
      "Prices      366 non-null float64\n",
      "dtypes: datetime64[ns](1), float64(1)\n",
      "memory usage: 5.8 KB\n"
     ]
    }
   ],
   "source": [
    "bitcoin_df.info()"
   ]
  },
  {
   "cell_type": "markdown",
   "metadata": {},
   "source": [
    "Calculate a rolling mean value by taking the prices column, the last 28 values(days), and calculating the average for those 28 values, finally filling the first 28 (blank) values with the value from the first mean value"
   ]
  },
  {
   "cell_type": "code",
   "execution_count": 9,
   "metadata": {},
   "outputs": [],
   "source": [
    "bitcoin_df['rolling_mean_price'] = bitcoin_df['Prices'].rolling(28).mean().fillna(method='bfill')"
   ]
  },
  {
   "cell_type": "code",
   "execution_count": 10,
   "metadata": {},
   "outputs": [
    {
     "data": {
      "text/html": [
       "<div>\n",
       "<style scoped>\n",
       "    .dataframe tbody tr th:only-of-type {\n",
       "        vertical-align: middle;\n",
       "    }\n",
       "\n",
       "    .dataframe tbody tr th {\n",
       "        vertical-align: top;\n",
       "    }\n",
       "\n",
       "    .dataframe thead th {\n",
       "        text-align: right;\n",
       "    }\n",
       "</style>\n",
       "<table border=\"1\" class=\"dataframe\">\n",
       "  <thead>\n",
       "    <tr style=\"text-align: right;\">\n",
       "      <th></th>\n",
       "      <th>DateTime</th>\n",
       "      <th>Prices</th>\n",
       "      <th>rolling_mean_price</th>\n",
       "    </tr>\n",
       "  </thead>\n",
       "  <tbody>\n",
       "    <tr>\n",
       "      <th>0</th>\n",
       "      <td>2018-05-04</td>\n",
       "      <td>9551.135184</td>\n",
       "      <td>8383.341108</td>\n",
       "    </tr>\n",
       "    <tr>\n",
       "      <th>1</th>\n",
       "      <td>2018-05-05</td>\n",
       "      <td>9634.538226</td>\n",
       "      <td>8383.341108</td>\n",
       "    </tr>\n",
       "    <tr>\n",
       "      <th>2</th>\n",
       "      <td>2018-05-06</td>\n",
       "      <td>9766.244485</td>\n",
       "      <td>8383.341108</td>\n",
       "    </tr>\n",
       "    <tr>\n",
       "      <th>3</th>\n",
       "      <td>2018-05-07</td>\n",
       "      <td>9583.871746</td>\n",
       "      <td>8383.341108</td>\n",
       "    </tr>\n",
       "    <tr>\n",
       "      <th>4</th>\n",
       "      <td>2018-05-08</td>\n",
       "      <td>9308.265026</td>\n",
       "      <td>8383.341108</td>\n",
       "    </tr>\n",
       "  </tbody>\n",
       "</table>\n",
       "</div>"
      ],
      "text/plain": [
       "    DateTime       Prices  rolling_mean_price\n",
       "0 2018-05-04  9551.135184         8383.341108\n",
       "1 2018-05-05  9634.538226         8383.341108\n",
       "2 2018-05-06  9766.244485         8383.341108\n",
       "3 2018-05-07  9583.871746         8383.341108\n",
       "4 2018-05-08  9308.265026         8383.341108"
      ]
     },
     "execution_count": 10,
     "metadata": {},
     "output_type": "execute_result"
    }
   ],
   "source": [
    "bitcoin_df.head()"
   ]
  },
  {
   "cell_type": "code",
   "execution_count": 11,
   "metadata": {},
   "outputs": [
    {
     "data": {
      "text/plain": [
       "<matplotlib.legend.Legend at 0x1a19a95f28>"
      ]
     },
     "execution_count": 11,
     "metadata": {},
     "output_type": "execute_result"
    },
    {
     "data": {
      "image/png": "[encoded data removed]",
      "text/plain": [
       "<Figure size 720x576 with 1 Axes>"
      ]
     },
     "metadata": {
      "needs_background": "light"
     },
     "output_type": "display_data"
    }
   ],
   "source": [
    "plt.figure(figsize=(10,8))\n",
    "plt.plot(bitcoin_df['DateTime'], bitcoin_df['Prices'])\n",
    "plt.plot(bitcoin_df['DateTime'], bitcoin_df['rolling_mean_price'])\n",
    "\n",
    "plt.xticks(rotation=-45)\n",
    "plt.legend()"
   ]
  },
  {
   "cell_type": "markdown",
   "metadata": {},
   "source": [
    "## Let's upscale\n",
    "\n",
    "## Compare to train data\n",
    "\n",
    "## Predict future values\n",
    "\n",
    "## Play around with how many days "
   ]
  },
  {
   "cell_type": "code",
   "execution_count": 12,
   "metadata": {},
   "outputs": [],
   "source": [
    "bitcoin_df = bitcoin_df.set_index('DateTime').drop(columns='rolling_mean_price')"
   ]
  },
  {
   "cell_type": "code",
   "execution_count": 13,
   "metadata": {},
   "outputs": [
    {
     "data": {
      "text/html": [
       "<div>\n",
       "<style scoped>\n",
       "    .dataframe tbody tr th:only-of-type {\n",
       "        vertical-align: middle;\n",
       "    }\n",
       "\n",
       "    .dataframe tbody tr th {\n",
       "        vertical-align: top;\n",
       "    }\n",
       "\n",
       "    .dataframe thead th {\n",
       "        text-align: right;\n",
       "    }\n",
       "</style>\n",
       "<table border=\"1\" class=\"dataframe\">\n",
       "  <thead>\n",
       "    <tr style=\"text-align: right;\">\n",
       "      <th></th>\n",
       "      <th>Prices</th>\n",
       "    </tr>\n",
       "    <tr>\n",
       "      <th>DateTime</th>\n",
       "      <th></th>\n",
       "    </tr>\n",
       "  </thead>\n",
       "  <tbody>\n",
       "    <tr>\n",
       "      <th>2018-05-04</th>\n",
       "      <td>9551.135184</td>\n",
       "    </tr>\n",
       "    <tr>\n",
       "      <th>2018-05-05</th>\n",
       "      <td>9634.538226</td>\n",
       "    </tr>\n",
       "    <tr>\n",
       "      <th>2018-05-06</th>\n",
       "      <td>9766.244485</td>\n",
       "    </tr>\n",
       "    <tr>\n",
       "      <th>2018-05-07</th>\n",
       "      <td>9583.871746</td>\n",
       "    </tr>\n",
       "    <tr>\n",
       "      <th>2018-05-08</th>\n",
       "      <td>9308.265026</td>\n",
       "    </tr>\n",
       "  </tbody>\n",
       "</table>\n",
       "</div>"
      ],
      "text/plain": [
       "                 Prices\n",
       "DateTime               \n",
       "2018-05-04  9551.135184\n",
       "2018-05-05  9634.538226\n",
       "2018-05-06  9766.244485\n",
       "2018-05-07  9583.871746\n",
       "2018-05-08  9308.265026"
      ]
     },
     "execution_count": 13,
     "metadata": {},
     "output_type": "execute_result"
    }
   ],
   "source": [
    "bitcoin_df.head()"
   ]
  },
  {
   "cell_type": "code",
   "execution_count": 14,
   "metadata": {},
   "outputs": [],
   "source": [
    "upsample_series = bitcoin_df['Prices'].resample('H')"
   ]
  },
  {
   "cell_type": "code",
   "execution_count": 15,
   "metadata": {},
   "outputs": [
    {
     "data": {
      "text/plain": [
       "DateTime\n",
       "2018-05-04 00:00:00    9551.135184\n",
       "2018-05-04 01:00:00    9554.610311\n",
       "2018-05-04 02:00:00    9558.085437\n",
       "Freq: H, Name: Prices, dtype: float64"
      ]
     },
     "execution_count": 15,
     "metadata": {},
     "output_type": "execute_result"
    }
   ],
   "source": [
    "linear_upsample = upsample_series.interpolate()\n",
    "cubic_upsample = upsample_series.interpolate(method='cubic')\n",
    "quadratic_upsample = upsample_series.interpolate(method='quadratic')\n",
    "\n",
    "linear_upsample.head(3)"
   ]
  },
  {
   "cell_type": "code",
   "execution_count": 16,
   "metadata": {},
   "outputs": [
    {
     "data": {
      "text/plain": [
       "DateTime\n",
       "2018-05-04 00:00:00    9551.135184\n",
       "2018-05-04 01:00:00    9546.834019\n",
       "2018-05-04 02:00:00    9543.486319\n",
       "Freq: H, Name: Prices, dtype: float64"
      ]
     },
     "execution_count": 16,
     "metadata": {},
     "output_type": "execute_result"
    }
   ],
   "source": [
    "cubic_upsample.head(3)"
   ]
  },
  {
   "cell_type": "code",
   "execution_count": 17,
   "metadata": {
    "scrolled": true
   },
   "outputs": [
    {
     "data": {
      "text/plain": [
       "DateTime\n",
       "2018-05-04 00:00:00    9551.135184\n",
       "2018-05-04 01:00:00    9552.291678\n",
       "2018-05-04 02:00:00    9553.649792\n",
       "Freq: H, Name: Prices, dtype: float64"
      ]
     },
     "execution_count": 17,
     "metadata": {},
     "output_type": "execute_result"
    }
   ],
   "source": [
    "quadratic_upsample.head(3)"
   ]
  },
  {
   "cell_type": "code",
   "execution_count": 18,
   "metadata": {},
   "outputs": [
    {
     "data": {
      "text/plain": [
       "(8740,)"
      ]
     },
     "execution_count": 18,
     "metadata": {},
     "output_type": "execute_result"
    }
   ],
   "source": [
    "linear_upsample.shape"
   ]
  },
  {
   "cell_type": "code",
   "execution_count": 19,
   "metadata": {},
   "outputs": [
    {
     "data": {
      "image/png": "[encoded data removed]",
      "text/plain": [
       "<Figure size 1152x720 with 1 Axes>"
      ]
     },
     "metadata": {
      "needs_background": "light"
     },
     "output_type": "display_data"
    }
   ],
   "source": [
    "plt.figure(figsize=(16,10))\n",
    "\n",
    "plt.plot(bitcoin_df.index[:20], bitcoin_df['Prices'][:20])\n",
    "plt.plot(linear_upsample.index[:480], linear_upsample[:480])\n",
    "plt.plot(cubic_upsample.index[:480], cubic_upsample[:480])\n",
    "plt.plot(quadratic_upsample.index[:480], quadratic_upsample[:480])\n",
    "\n",
    "plt.legend(['Normal Prices', 'Linear Upsample', 'Cubic Upsample', 'Quadratic Upsample'])\n",
    "plt.show()"
   ]
  },
  {
   "cell_type": "markdown",
   "metadata": {},
   "source": [
    "## Separate some of the final rows of our hourly predictions for test data"
   ]
  },
  {
   "cell_type": "code",
   "execution_count": 20,
   "metadata": {},
   "outputs": [],
   "source": [
    "linear_df = linear_upsample.to_frame()\n",
    "cubic_df = cubic_upsample.to_frame()\n",
    "quadratic_df = quadratic_upsample.to_frame()"
   ]
  },
  {
   "cell_type": "code",
   "execution_count": 21,
   "metadata": {
    "scrolled": true
   },
   "outputs": [],
   "source": [
    "linear_prophet = linear_df.reset_index().rename(columns={'DateTime': 'ds', 'Prices': 'y'}).iloc[:8689]\n",
    "cubic_prophet = cubic_df.reset_index().rename(columns={'DateTime': 'ds', 'Prices': 'y'}).iloc[:8689]\n",
    "quadratic_prophet = quadratic_df.reset_index().rename(columns={'DateTime': 'ds', 'Prices': 'y'}).iloc[:8689]"
   ]
  },
  {
   "cell_type": "markdown",
   "metadata": {},
   "source": [
    "#### I have here deleted the final 51 hourly values for my bitcoin data - I can now use Prophet to detect which of the models is best: linear, cubic, or quadratic!\n",
    "\n",
    "## Now, let's use Prophet on our Test Data!\n",
    "\n",
    "#### First, for linear model:"
   ]
  },
  {
   "cell_type": "code",
   "execution_count": 22,
   "metadata": {},
   "outputs": [],
   "source": [
    "mlin = Prophet()"
   ]
  },
  {
   "cell_type": "code",
   "execution_count": 23,
   "metadata": {
    "scrolled": true
   },
   "outputs": [
    {
     "name": "stderr",
     "output_type": "stream",
     "text": [
      "INFO:fbprophet:Disabling yearly seasonality. Run prophet with yearly_seasonality=True to override this.\n",
      "/Users/maximcondon/anaconda3/lib/python3.7/site-packages/pystan/misc.py:399: FutureWarning: Conversion of the second argument of issubdtype from `float` to `np.floating` is deprecated. In future, it will be treated as `np.float64 == np.dtype(float).type`.\n",
      "  elif np.issubdtype(np.asarray(v).dtype, float):\n"
     ]
    },
    {
     "data": {
      "text/plain": [
       "<fbprophet.forecaster.Prophet at 0x10518ca20>"
      ]
     },
     "execution_count": 23,
     "metadata": {},
     "output_type": "execute_result"
    }
   ],
   "source": [
    "mlin.fit(linear_prophet)"
   ]
  },
  {
   "cell_type": "code",
   "execution_count": 24,
   "metadata": {},
   "outputs": [],
   "source": [
    "linear_test = mlin.make_future_dataframe(periods=51, freq = 'H', include_history=False)"
   ]
  },
  {
   "cell_type": "code",
   "execution_count": 25,
   "metadata": {},
   "outputs": [],
   "source": [
    "forecast_linear_test = mlin.predict(linear_test)"
   ]
  },
  {
   "cell_type": "code",
   "execution_count": 27,
   "metadata": {
    "scrolled": false
   },
   "outputs": [
    {
     "data": {
      "text/html": [
       "<div>\n",
       "<style scoped>\n",
       "    .dataframe tbody tr th:only-of-type {\n",
       "        vertical-align: middle;\n",
       "    }\n",
       "\n",
       "    .dataframe tbody tr th {\n",
       "        vertical-align: top;\n",
       "    }\n",
       "\n",
       "    .dataframe thead th {\n",
       "        text-align: right;\n",
       "    }\n",
       "</style>\n",
       "<table border=\"1\" class=\"dataframe\">\n",
       "  <thead>\n",
       "    <tr style=\"text-align: right;\">\n",
       "      <th></th>\n",
       "      <th>ds</th>\n",
       "      <th>yhat</th>\n",
       "      <th>yhat_lower</th>\n",
       "      <th>yhat_upper</th>\n",
       "    </tr>\n",
       "  </thead>\n",
       "  <tbody>\n",
       "    <tr>\n",
       "      <th>0</th>\n",
       "      <td>2019-05-01 01:00:00</td>\n",
       "      <td>5407.125483</td>\n",
       "      <td>5093.058372</td>\n",
       "      <td>5673.433752</td>\n",
       "    </tr>\n",
       "    <tr>\n",
       "      <th>1</th>\n",
       "      <td>2019-05-01 02:00:00</td>\n",
       "      <td>5408.716248</td>\n",
       "      <td>5142.292641</td>\n",
       "      <td>5703.532735</td>\n",
       "    </tr>\n",
       "    <tr>\n",
       "      <th>2</th>\n",
       "      <td>2019-05-01 03:00:00</td>\n",
       "      <td>5410.247998</td>\n",
       "      <td>5116.169087</td>\n",
       "      <td>5706.021051</td>\n",
       "    </tr>\n",
       "    <tr>\n",
       "      <th>3</th>\n",
       "      <td>2019-05-01 04:00:00</td>\n",
       "      <td>5411.670654</td>\n",
       "      <td>5109.161252</td>\n",
       "      <td>5700.653898</td>\n",
       "    </tr>\n",
       "    <tr>\n",
       "      <th>4</th>\n",
       "      <td>2019-05-01 05:00:00</td>\n",
       "      <td>5412.964797</td>\n",
       "      <td>5126.709784</td>\n",
       "      <td>5706.496894</td>\n",
       "    </tr>\n",
       "  </tbody>\n",
       "</table>\n",
       "</div>"
      ],
      "text/plain": [
       "                   ds         yhat   yhat_lower   yhat_upper\n",
       "0 2019-05-01 01:00:00  5407.125483  5093.058372  5673.433752\n",
       "1 2019-05-01 02:00:00  5408.716248  5142.292641  5703.532735\n",
       "2 2019-05-01 03:00:00  5410.247998  5116.169087  5706.021051\n",
       "3 2019-05-01 04:00:00  5411.670654  5109.161252  5700.653898\n",
       "4 2019-05-01 05:00:00  5412.964797  5126.709784  5706.496894"
      ]
     },
     "execution_count": 27,
     "metadata": {},
     "output_type": "execute_result"
    }
   ],
   "source": [
    "forecast_linear_test[['ds', 'yhat', 'yhat_lower', 'yhat_upper']].head()"
   ]
  },
  {
   "cell_type": "code",
   "execution_count": 32,
   "metadata": {},
   "outputs": [
    {
     "data": {
      "text/html": [
       "<div>\n",
       "<style scoped>\n",
       "    .dataframe tbody tr th:only-of-type {\n",
       "        vertical-align: middle;\n",
       "    }\n",
       "\n",
       "    .dataframe tbody tr th {\n",
       "        vertical-align: top;\n",
       "    }\n",
       "\n",
       "    .dataframe thead th {\n",
       "        text-align: right;\n",
       "    }\n",
       "</style>\n",
       "<table border=\"1\" class=\"dataframe\">\n",
       "  <thead>\n",
       "    <tr style=\"text-align: right;\">\n",
       "      <th></th>\n",
       "      <th>ds</th>\n",
       "      <th>yhat</th>\n",
       "    </tr>\n",
       "  </thead>\n",
       "  <tbody>\n",
       "    <tr>\n",
       "      <th>0</th>\n",
       "      <td>2019-05-01 01:00:00</td>\n",
       "      <td>5407.125483</td>\n",
       "    </tr>\n",
       "    <tr>\n",
       "      <th>1</th>\n",
       "      <td>2019-05-01 02:00:00</td>\n",
       "      <td>5408.716248</td>\n",
       "    </tr>\n",
       "    <tr>\n",
       "      <th>2</th>\n",
       "      <td>2019-05-01 03:00:00</td>\n",
       "      <td>5410.247998</td>\n",
       "    </tr>\n",
       "    <tr>\n",
       "      <th>3</th>\n",
       "      <td>2019-05-01 04:00:00</td>\n",
       "      <td>5411.670654</td>\n",
       "    </tr>\n",
       "    <tr>\n",
       "      <th>4</th>\n",
       "      <td>2019-05-01 05:00:00</td>\n",
       "      <td>5412.964797</td>\n",
       "    </tr>\n",
       "  </tbody>\n",
       "</table>\n",
       "</div>"
      ],
      "text/plain": [
       "                   ds         yhat\n",
       "0 2019-05-01 01:00:00  5407.125483\n",
       "1 2019-05-01 02:00:00  5408.716248\n",
       "2 2019-05-01 03:00:00  5410.247998\n",
       "3 2019-05-01 04:00:00  5411.670654\n",
       "4 2019-05-01 05:00:00  5412.964797"
      ]
     },
     "execution_count": 32,
     "metadata": {},
     "output_type": "execute_result"
    }
   ],
   "source": [
    "forecast_linear_test[['ds','yhat']].head()"
   ]
  },
  {
   "cell_type": "code",
   "execution_count": 29,
   "metadata": {},
   "outputs": [
    {
     "data": {
      "image/png": "[encoded data removed]",
      "text/plain": [
       "<Figure size 720x432 with 1 Axes>"
      ]
     },
     "metadata": {},
     "output_type": "display_data"
    }
   ],
   "source": [
    "fig_lin = mlin.plot(forecast_linear_test) # The blue part is the actual forecast\n",
    "None"
   ]
  },
  {
   "cell_type": "markdown",
   "metadata": {},
   "source": [
    "#### Second, the cubic model:"
   ]
  },
  {
   "cell_type": "code",
   "execution_count": 30,
   "metadata": {},
   "outputs": [
    {
     "name": "stderr",
     "output_type": "stream",
     "text": [
      "INFO:fbprophet:Disabling yearly seasonality. Run prophet with yearly_seasonality=True to override this.\n"
     ]
    }
   ],
   "source": [
    "mcub = Prophet()\n",
    "\n",
    "mcub.fit(cubic_prophet)\n",
    "\n",
    "cubic_test = mcub.make_future_dataframe(periods=51, freq = 'H', include_history=False)\n",
    "\n",
    "forecast_cubic_test = mcub.predict(cubic_test)"
   ]
  },
  {
   "cell_type": "code",
   "execution_count": 31,
   "metadata": {
    "scrolled": true
   },
   "outputs": [
    {
     "data": {
      "text/html": [
       "<div>\n",
       "<style scoped>\n",
       "    .dataframe tbody tr th:only-of-type {\n",
       "        vertical-align: middle;\n",
       "    }\n",
       "\n",
       "    .dataframe tbody tr th {\n",
       "        vertical-align: top;\n",
       "    }\n",
       "\n",
       "    .dataframe thead th {\n",
       "        text-align: right;\n",
       "    }\n",
       "</style>\n",
       "<table border=\"1\" class=\"dataframe\">\n",
       "  <thead>\n",
       "    <tr style=\"text-align: right;\">\n",
       "      <th></th>\n",
       "      <th>ds</th>\n",
       "      <th>yhat</th>\n",
       "      <th>yhat_lower</th>\n",
       "      <th>yhat_upper</th>\n",
       "    </tr>\n",
       "  </thead>\n",
       "  <tbody>\n",
       "    <tr>\n",
       "      <th>0</th>\n",
       "      <td>2019-05-01 01:00:00</td>\n",
       "      <td>5410.048027</td>\n",
       "      <td>5092.460690</td>\n",
       "      <td>5701.265945</td>\n",
       "    </tr>\n",
       "    <tr>\n",
       "      <th>1</th>\n",
       "      <td>2019-05-01 02:00:00</td>\n",
       "      <td>5411.778469</td>\n",
       "      <td>5099.148170</td>\n",
       "      <td>5705.418573</td>\n",
       "    </tr>\n",
       "    <tr>\n",
       "      <th>2</th>\n",
       "      <td>2019-05-01 03:00:00</td>\n",
       "      <td>5413.426615</td>\n",
       "      <td>5073.867763</td>\n",
       "      <td>5706.158575</td>\n",
       "    </tr>\n",
       "    <tr>\n",
       "      <th>3</th>\n",
       "      <td>2019-05-01 04:00:00</td>\n",
       "      <td>5414.945582</td>\n",
       "      <td>5111.818888</td>\n",
       "      <td>5719.452360</td>\n",
       "    </tr>\n",
       "    <tr>\n",
       "      <th>4</th>\n",
       "      <td>2019-05-01 05:00:00</td>\n",
       "      <td>5416.317745</td>\n",
       "      <td>5124.713021</td>\n",
       "      <td>5716.288062</td>\n",
       "    </tr>\n",
       "  </tbody>\n",
       "</table>\n",
       "</div>"
      ],
      "text/plain": [
       "                   ds         yhat   yhat_lower   yhat_upper\n",
       "0 2019-05-01 01:00:00  5410.048027  5092.460690  5701.265945\n",
       "1 2019-05-01 02:00:00  5411.778469  5099.148170  5705.418573\n",
       "2 2019-05-01 03:00:00  5413.426615  5073.867763  5706.158575\n",
       "3 2019-05-01 04:00:00  5414.945582  5111.818888  5719.452360\n",
       "4 2019-05-01 05:00:00  5416.317745  5124.713021  5716.288062"
      ]
     },
     "execution_count": 31,
     "metadata": {},
     "output_type": "execute_result"
    }
   ],
   "source": [
    "forecast_cubic_test[['ds', 'yhat', 'yhat_lower', 'yhat_upper']].head()"
   ]
  },
  {
   "cell_type": "code",
   "execution_count": 33,
   "metadata": {},
   "outputs": [
    {
     "data": {
      "image/png": "[encoded data removed]",
      "text/plain": [
       "<Figure size 720x432 with 1 Axes>"
      ]
     },
     "metadata": {},
     "output_type": "display_data"
    }
   ],
   "source": [
    "fig_cub = mlin.plot(forecast_linear_test) # The blue part is the actual forecast\n",
    "None"
   ]
  },
  {
   "cell_type": "markdown",
   "metadata": {},
   "source": [
    "#### Finally, for the quadratic model:"
   ]
  },
  {
   "cell_type": "code",
   "execution_count": 34,
   "metadata": {},
   "outputs": [
    {
     "name": "stderr",
     "output_type": "stream",
     "text": [
      "INFO:fbprophet:Disabling yearly seasonality. Run prophet with yearly_seasonality=True to override this.\n"
     ]
    }
   ],
   "source": [
    "mquad = Prophet()\n",
    "\n",
    "mquad.fit(quadratic_prophet)\n",
    "\n",
    "quadratic_test = mquad.make_future_dataframe(periods=51, freq = 'H', include_history=False)\n",
    "\n",
    "forecast_quadratic_test = mquad.predict(quadratic_test)"
   ]
  },
  {
   "cell_type": "code",
   "execution_count": 35,
   "metadata": {
    "scrolled": true
   },
   "outputs": [
    {
     "data": {
      "text/html": [
       "<div>\n",
       "<style scoped>\n",
       "    .dataframe tbody tr th:only-of-type {\n",
       "        vertical-align: middle;\n",
       "    }\n",
       "\n",
       "    .dataframe tbody tr th {\n",
       "        vertical-align: top;\n",
       "    }\n",
       "\n",
       "    .dataframe thead th {\n",
       "        text-align: right;\n",
       "    }\n",
       "</style>\n",
       "<table border=\"1\" class=\"dataframe\">\n",
       "  <thead>\n",
       "    <tr style=\"text-align: right;\">\n",
       "      <th></th>\n",
       "      <th>ds</th>\n",
       "      <th>yhat</th>\n",
       "      <th>yhat_lower</th>\n",
       "      <th>yhat_upper</th>\n",
       "    </tr>\n",
       "  </thead>\n",
       "  <tbody>\n",
       "    <tr>\n",
       "      <th>0</th>\n",
       "      <td>2019-05-01 01:00:00</td>\n",
       "      <td>5408.401084</td>\n",
       "      <td>5110.023030</td>\n",
       "      <td>5694.810775</td>\n",
       "    </tr>\n",
       "    <tr>\n",
       "      <th>1</th>\n",
       "      <td>2019-05-01 02:00:00</td>\n",
       "      <td>5410.115112</td>\n",
       "      <td>5105.016914</td>\n",
       "      <td>5692.841867</td>\n",
       "    </tr>\n",
       "    <tr>\n",
       "      <th>2</th>\n",
       "      <td>2019-05-01 03:00:00</td>\n",
       "      <td>5411.747275</td>\n",
       "      <td>5111.578103</td>\n",
       "      <td>5710.568826</td>\n",
       "    </tr>\n",
       "    <tr>\n",
       "      <th>3</th>\n",
       "      <td>2019-05-01 04:00:00</td>\n",
       "      <td>5413.248634</td>\n",
       "      <td>5126.512804</td>\n",
       "      <td>5732.416811</td>\n",
       "    </tr>\n",
       "    <tr>\n",
       "      <th>4</th>\n",
       "      <td>2019-05-01 05:00:00</td>\n",
       "      <td>5414.602106</td>\n",
       "      <td>5121.358465</td>\n",
       "      <td>5733.187207</td>\n",
       "    </tr>\n",
       "  </tbody>\n",
       "</table>\n",
       "</div>"
      ],
      "text/plain": [
       "                   ds         yhat   yhat_lower   yhat_upper\n",
       "0 2019-05-01 01:00:00  5408.401084  5110.023030  5694.810775\n",
       "1 2019-05-01 02:00:00  5410.115112  5105.016914  5692.841867\n",
       "2 2019-05-01 03:00:00  5411.747275  5111.578103  5710.568826\n",
       "3 2019-05-01 04:00:00  5413.248634  5126.512804  5732.416811\n",
       "4 2019-05-01 05:00:00  5414.602106  5121.358465  5733.187207"
      ]
     },
     "execution_count": 35,
     "metadata": {},
     "output_type": "execute_result"
    }
   ],
   "source": [
    "forecast_quadratic_test[['ds', 'yhat', 'yhat_lower', 'yhat_upper']].head()"
   ]
  },
  {
   "cell_type": "code",
   "execution_count": 36,
   "metadata": {
    "scrolled": true
   },
   "outputs": [
    {
     "data": {
      "image/png": "[encoded data removed]",
      "text/plain": [
       "<Figure size 720x432 with 1 Axes>"
      ]
     },
     "metadata": {},
     "output_type": "display_data"
    }
   ],
   "source": [
    "fig_quad = mquad.plot(forecast_quadratic_test) # The blue part is the actual forecast\n",
    "None"
   ]
  },
  {
   "cell_type": "markdown",
   "metadata": {},
   "source": [
    "## Now we can compare this to our actual data in the original bitcoin dataframe!\n",
    "\n",
    "### We can see which is the best predictor\n"
   ]
  },
  {
   "cell_type": "markdown",
   "metadata": {},
   "source": [
    "#### Now let's plot it with ALL the data and find out what the predictions will be for the next 2 days!"
   ]
  },
  {
   "cell_type": "code",
   "execution_count": 37,
   "metadata": {
    "scrolled": true
   },
   "outputs": [
    {
     "data": {
      "text/html": [
       "<div>\n",
       "<style scoped>\n",
       "    .dataframe tbody tr th:only-of-type {\n",
       "        vertical-align: middle;\n",
       "    }\n",
       "\n",
       "    .dataframe tbody tr th {\n",
       "        vertical-align: top;\n",
       "    }\n",
       "\n",
       "    .dataframe thead th {\n",
       "        text-align: right;\n",
       "    }\n",
       "</style>\n",
       "<table border=\"1\" class=\"dataframe\">\n",
       "  <thead>\n",
       "    <tr style=\"text-align: right;\">\n",
       "      <th></th>\n",
       "      <th>Prices</th>\n",
       "    </tr>\n",
       "    <tr>\n",
       "      <th>DateTime</th>\n",
       "      <th></th>\n",
       "    </tr>\n",
       "  </thead>\n",
       "  <tbody>\n",
       "    <tr>\n",
       "      <th>2019-05-02 00:00:00</th>\n",
       "      <td>5354.586800</td>\n",
       "    </tr>\n",
       "    <tr>\n",
       "      <th>2019-05-03 00:00:00</th>\n",
       "      <td>5450.706620</td>\n",
       "    </tr>\n",
       "    <tr>\n",
       "      <th>2019-05-03 03:58:52</th>\n",
       "      <td>5530.453499</td>\n",
       "    </tr>\n",
       "  </tbody>\n",
       "</table>\n",
       "</div>"
      ],
      "text/plain": [
       "                          Prices\n",
       "DateTime                        \n",
       "2019-05-02 00:00:00  5354.586800\n",
       "2019-05-03 00:00:00  5450.706620\n",
       "2019-05-03 03:58:52  5530.453499"
      ]
     },
     "execution_count": 37,
     "metadata": {},
     "output_type": "execute_result"
    }
   ],
   "source": [
    "bitcoin_df.tail(3)"
   ]
  },
  {
   "cell_type": "code",
   "execution_count": 38,
   "metadata": {
    "scrolled": true
   },
   "outputs": [
    {
     "name": "stdout",
     "output_type": "stream",
     "text": [
      "ds      2019-05-02 00:00:00\n",
      "yhat                5419.65\n",
      "Name: 23, dtype: object\n",
      "ds      2019-05-03 00:00:00\n",
      "yhat                5414.68\n",
      "Name: 47, dtype: object\n"
     ]
    }
   ],
   "source": [
    "print(forecast_linear_test[['ds', 'yhat']].iloc[23])\n",
    "print(forecast_linear_test[['ds', 'yhat']].iloc[47])"
   ]
  },
  {
   "cell_type": "code",
   "execution_count": 39,
   "metadata": {},
   "outputs": [
    {
     "name": "stdout",
     "output_type": "stream",
     "text": [
      "ds      2019-05-02 00:00:00\n",
      "yhat                5420.52\n",
      "Name: 23, dtype: object\n",
      "ds      2019-05-03 00:00:00\n",
      "yhat                5411.02\n",
      "Name: 47, dtype: object\n"
     ]
    }
   ],
   "source": [
    "print(forecast_cubic_test[['ds', 'yhat']].iloc[23])\n",
    "print(forecast_cubic_test[['ds', 'yhat']].iloc[47])"
   ]
  },
  {
   "cell_type": "code",
   "execution_count": 41,
   "metadata": {},
   "outputs": [
    {
     "name": "stdout",
     "output_type": "stream",
     "text": [
      "ds      2019-05-02 00:00:00\n",
      "yhat                5418.79\n",
      "Name: 23, dtype: object\n",
      "ds      2019-05-03 00:00:00\n",
      "yhat                5409.87\n",
      "Name: 47, dtype: object\n"
     ]
    }
   ],
   "source": [
    "print(forecast_quadratic_test[['ds', 'yhat']].iloc[23])\n",
    "print(forecast_quadratic_test[['ds', 'yhat']].iloc[47])"
   ]
  },
  {
   "cell_type": "markdown",
   "metadata": {},
   "source": [
    "### It seems like just about the linear prediction for prophet is marginally better than the rest so let's run our prediction on that!"
   ]
  },
  {
   "cell_type": "code",
   "execution_count": 67,
   "metadata": {},
   "outputs": [],
   "source": [
    "linear_model = linear_df.reset_index().rename(columns={'DateTime': 'ds', 'Prices': 'y'})"
   ]
  },
  {
   "cell_type": "code",
   "execution_count": 76,
   "metadata": {},
   "outputs": [
    {
     "name": "stderr",
     "output_type": "stream",
     "text": [
      "INFO:fbprophet:Disabling yearly seasonality. Run prophet with yearly_seasonality=True to override this.\n"
     ]
    }
   ],
   "source": [
    "m = Prophet()\n",
    "\n",
    "m.fit(linear_model)\n",
    "\n",
    "linear_future = m.make_future_dataframe(periods=70, freq = 'H', include_history=False)\n",
    "\n",
    "forecast_linear = m.predict(linear_future)"
   ]
  },
  {
   "cell_type": "code",
   "execution_count": 84,
   "metadata": {
    "scrolled": true
   },
   "outputs": [
    {
     "data": {
      "text/html": [
       "<div>\n",
       "<style scoped>\n",
       "    .dataframe tbody tr th:only-of-type {\n",
       "        vertical-align: middle;\n",
       "    }\n",
       "\n",
       "    .dataframe tbody tr th {\n",
       "        vertical-align: top;\n",
       "    }\n",
       "\n",
       "    .dataframe thead th {\n",
       "        text-align: right;\n",
       "    }\n",
       "</style>\n",
       "<table border=\"1\" class=\"dataframe\">\n",
       "  <thead>\n",
       "    <tr style=\"text-align: right;\">\n",
       "      <th></th>\n",
       "      <th>ds</th>\n",
       "      <th>yhat</th>\n",
       "      <th>yhat_lower</th>\n",
       "      <th>yhat_upper</th>\n",
       "    </tr>\n",
       "  </thead>\n",
       "  <tbody>\n",
       "    <tr>\n",
       "      <th>50</th>\n",
       "      <td>2019-05-05 06:00:00</td>\n",
       "      <td>5495.761233</td>\n",
       "      <td>5219.427579</td>\n",
       "      <td>5771.791322</td>\n",
       "    </tr>\n",
       "    <tr>\n",
       "      <th>51</th>\n",
       "      <td>2019-05-05 07:00:00</td>\n",
       "      <td>5497.396298</td>\n",
       "      <td>5206.090285</td>\n",
       "      <td>5768.271935</td>\n",
       "    </tr>\n",
       "    <tr>\n",
       "      <th>52</th>\n",
       "      <td>2019-05-05 08:00:00</td>\n",
       "      <td>5499.026937</td>\n",
       "      <td>5208.620030</td>\n",
       "      <td>5789.155800</td>\n",
       "    </tr>\n",
       "    <tr>\n",
       "      <th>53</th>\n",
       "      <td>2019-05-05 09:00:00</td>\n",
       "      <td>5500.638631</td>\n",
       "      <td>5224.171313</td>\n",
       "      <td>5796.841023</td>\n",
       "    </tr>\n",
       "    <tr>\n",
       "      <th>54</th>\n",
       "      <td>2019-05-05 10:00:00</td>\n",
       "      <td>5502.205732</td>\n",
       "      <td>5225.862405</td>\n",
       "      <td>5791.905264</td>\n",
       "    </tr>\n",
       "    <tr>\n",
       "      <th>55</th>\n",
       "      <td>2019-05-05 11:00:00</td>\n",
       "      <td>5503.721511</td>\n",
       "      <td>5216.874153</td>\n",
       "      <td>5803.341215</td>\n",
       "    </tr>\n",
       "    <tr>\n",
       "      <th>56</th>\n",
       "      <td>2019-05-05 12:00:00</td>\n",
       "      <td>5505.207416</td>\n",
       "      <td>5211.216160</td>\n",
       "      <td>5814.223527</td>\n",
       "    </tr>\n",
       "    <tr>\n",
       "      <th>57</th>\n",
       "      <td>2019-05-05 13:00:00</td>\n",
       "      <td>5506.690620</td>\n",
       "      <td>5226.238571</td>\n",
       "      <td>5800.643346</td>\n",
       "    </tr>\n",
       "    <tr>\n",
       "      <th>58</th>\n",
       "      <td>2019-05-05 14:00:00</td>\n",
       "      <td>5508.173434</td>\n",
       "      <td>5215.595385</td>\n",
       "      <td>5808.602151</td>\n",
       "    </tr>\n",
       "    <tr>\n",
       "      <th>59</th>\n",
       "      <td>2019-05-05 15:00:00</td>\n",
       "      <td>5509.627784</td>\n",
       "      <td>5198.410846</td>\n",
       "      <td>5806.716197</td>\n",
       "    </tr>\n",
       "    <tr>\n",
       "      <th>60</th>\n",
       "      <td>2019-05-05 16:00:00</td>\n",
       "      <td>5511.022265</td>\n",
       "      <td>5240.317845</td>\n",
       "      <td>5799.909640</td>\n",
       "    </tr>\n",
       "    <tr>\n",
       "      <th>61</th>\n",
       "      <td>2019-05-05 17:00:00</td>\n",
       "      <td>5512.354435</td>\n",
       "      <td>5220.639735</td>\n",
       "      <td>5820.006295</td>\n",
       "    </tr>\n",
       "    <tr>\n",
       "      <th>62</th>\n",
       "      <td>2019-05-05 18:00:00</td>\n",
       "      <td>5513.653527</td>\n",
       "      <td>5215.335851</td>\n",
       "      <td>5807.637978</td>\n",
       "    </tr>\n",
       "    <tr>\n",
       "      <th>63</th>\n",
       "      <td>2019-05-05 19:00:00</td>\n",
       "      <td>5514.947740</td>\n",
       "      <td>5226.229712</td>\n",
       "      <td>5829.359834</td>\n",
       "    </tr>\n",
       "    <tr>\n",
       "      <th>64</th>\n",
       "      <td>2019-05-05 20:00:00</td>\n",
       "      <td>5516.227515</td>\n",
       "      <td>5230.862337</td>\n",
       "      <td>5810.854280</td>\n",
       "    </tr>\n",
       "    <tr>\n",
       "      <th>65</th>\n",
       "      <td>2019-05-05 21:00:00</td>\n",
       "      <td>5517.443523</td>\n",
       "      <td>5218.570558</td>\n",
       "      <td>5818.099177</td>\n",
       "    </tr>\n",
       "    <tr>\n",
       "      <th>66</th>\n",
       "      <td>2019-05-05 22:00:00</td>\n",
       "      <td>5518.546286</td>\n",
       "      <td>5216.155234</td>\n",
       "      <td>5803.725755</td>\n",
       "    </tr>\n",
       "    <tr>\n",
       "      <th>67</th>\n",
       "      <td>2019-05-05 23:00:00</td>\n",
       "      <td>5519.533375</td>\n",
       "      <td>5233.315661</td>\n",
       "      <td>5800.597777</td>\n",
       "    </tr>\n",
       "    <tr>\n",
       "      <th>68</th>\n",
       "      <td>2019-05-06 00:00:00</td>\n",
       "      <td>5520.460179</td>\n",
       "      <td>5231.322071</td>\n",
       "      <td>5821.902713</td>\n",
       "    </tr>\n",
       "    <tr>\n",
       "      <th>69</th>\n",
       "      <td>2019-05-06 01:00:00</td>\n",
       "      <td>5521.402320</td>\n",
       "      <td>5236.777881</td>\n",
       "      <td>5806.697198</td>\n",
       "    </tr>\n",
       "  </tbody>\n",
       "</table>\n",
       "</div>"
      ],
      "text/plain": [
       "                    ds         yhat   yhat_lower   yhat_upper\n",
       "50 2019-05-05 06:00:00  5495.761233  5219.427579  5771.791322\n",
       "51 2019-05-05 07:00:00  5497.396298  5206.090285  5768.271935\n",
       "52 2019-05-05 08:00:00  5499.026937  5208.620030  5789.155800\n",
       "53 2019-05-05 09:00:00  5500.638631  5224.171313  5796.841023\n",
       "54 2019-05-05 10:00:00  5502.205732  5225.862405  5791.905264\n",
       "55 2019-05-05 11:00:00  5503.721511  5216.874153  5803.341215\n",
       "56 2019-05-05 12:00:00  5505.207416  5211.216160  5814.223527\n",
       "57 2019-05-05 13:00:00  5506.690620  5226.238571  5800.643346\n",
       "58 2019-05-05 14:00:00  5508.173434  5215.595385  5808.602151\n",
       "59 2019-05-05 15:00:00  5509.627784  5198.410846  5806.716197\n",
       "60 2019-05-05 16:00:00  5511.022265  5240.317845  5799.909640\n",
       "61 2019-05-05 17:00:00  5512.354435  5220.639735  5820.006295\n",
       "62 2019-05-05 18:00:00  5513.653527  5215.335851  5807.637978\n",
       "63 2019-05-05 19:00:00  5514.947740  5226.229712  5829.359834\n",
       "64 2019-05-05 20:00:00  5516.227515  5230.862337  5810.854280\n",
       "65 2019-05-05 21:00:00  5517.443523  5218.570558  5818.099177\n",
       "66 2019-05-05 22:00:00  5518.546286  5216.155234  5803.725755\n",
       "67 2019-05-05 23:00:00  5519.533375  5233.315661  5800.597777\n",
       "68 2019-05-06 00:00:00  5520.460179  5231.322071  5821.902713\n",
       "69 2019-05-06 01:00:00  5521.402320  5236.777881  5806.697198"
      ]
     },
     "execution_count": 84,
     "metadata": {},
     "output_type": "execute_result"
    }
   ],
   "source": [
    "forecast_linear[['ds','yhat', 'yhat_lower', 'yhat_upper']].tail(20)"
   ]
  },
  {
   "cell_type": "code",
   "execution_count": 74,
   "metadata": {
    "scrolled": true
   },
   "outputs": [
    {
     "data": {
      "image/png": "[encoded data removed]",
      "text/plain": [
       "<Figure size 720x432 with 1 Axes>"
      ]
     },
     "metadata": {},
     "output_type": "display_data"
    }
   ],
   "source": [
    "fig_linear_future = m.plot(forecast_linear) # The blue part is the actual forecast\n",
    "None"
   ]
  },
  {
   "cell_type": "markdown",
   "metadata": {},
   "source": [
    "### Cubic prediction"
   ]
  },
  {
   "cell_type": "code",
   "execution_count": 78,
   "metadata": {},
   "outputs": [],
   "source": [
    "cubic_model = cubic_df.reset_index().rename(columns={'DateTime': 'ds', 'Prices': 'y'})"
   ]
  },
  {
   "cell_type": "code",
   "execution_count": 79,
   "metadata": {},
   "outputs": [
    {
     "name": "stderr",
     "output_type": "stream",
     "text": [
      "INFO:fbprophet:Disabling yearly seasonality. Run prophet with yearly_seasonality=True to override this.\n",
      "/Users/maximcondon/anaconda3/lib/python3.7/site-packages/pystan/misc.py:399: FutureWarning: Conversion of the second argument of issubdtype from `float` to `np.floating` is deprecated. In future, it will be treated as `np.float64 == np.dtype(float).type`.\n",
      "  elif np.issubdtype(np.asarray(v).dtype, float):\n"
     ]
    }
   ],
   "source": [
    "m = Prophet()\n",
    "\n",
    "m.fit(cubic_model)\n",
    "\n",
    "cubic_future = m.make_future_dataframe(periods=70, freq = 'H', include_history=False)\n",
    "\n",
    "forecast_cubic = m.predict(cubic_future)"
   ]
  },
  {
   "cell_type": "code",
   "execution_count": 91,
   "metadata": {
    "scrolled": false
   },
   "outputs": [
    {
     "data": {
      "text/plain": [
       "ds            2019-05-04 18:00:00\n",
       "yhat                      5475.88\n",
       "yhat_lower                5173.41\n",
       "yhat_upper                 5759.4\n",
       "Name: 38, dtype: object"
      ]
     },
     "execution_count": 91,
     "metadata": {},
     "output_type": "execute_result"
    }
   ],
   "source": [
    "forecast_cubic[['ds','yhat', 'yhat_lower', 'yhat_upper']].iloc[38]"
   ]
  },
  {
   "cell_type": "code",
   "execution_count": 92,
   "metadata": {},
   "outputs": [
    {
     "data": {
      "text/plain": [
       "ds            2019-05-05 18:00:00\n",
       "yhat                      5515.55\n",
       "yhat_lower                 5214.6\n",
       "yhat_upper                5838.84\n",
       "Name: 62, dtype: object"
      ]
     },
     "execution_count": 92,
     "metadata": {},
     "output_type": "execute_result"
    }
   ],
   "source": [
    "forecast_cubic[['ds','yhat', 'yhat_lower', 'yhat_upper']].iloc[62]"
   ]
  },
  {
   "cell_type": "markdown",
   "metadata": {},
   "source": [
    "### Quadratic Model"
   ]
  },
  {
   "cell_type": "code",
   "execution_count": 85,
   "metadata": {},
   "outputs": [],
   "source": [
    "quadratic_model = quadratic_df.reset_index().rename(columns={'DateTime': 'ds', 'Prices': 'y'})"
   ]
  },
  {
   "cell_type": "code",
   "execution_count": 87,
   "metadata": {},
   "outputs": [
    {
     "name": "stderr",
     "output_type": "stream",
     "text": [
      "INFO:fbprophet:Disabling yearly seasonality. Run prophet with yearly_seasonality=True to override this.\n",
      "/Users/maximcondon/anaconda3/lib/python3.7/site-packages/pystan/misc.py:399: FutureWarning: Conversion of the second argument of issubdtype from `float` to `np.floating` is deprecated. In future, it will be treated as `np.float64 == np.dtype(float).type`.\n",
      "  elif np.issubdtype(np.asarray(v).dtype, float):\n"
     ]
    }
   ],
   "source": [
    "m = Prophet()\n",
    "\n",
    "m.fit(quadratic_model)\n",
    "\n",
    "quadratic_future = m.make_future_dataframe(periods=70, freq = 'H', include_history=False)\n",
    "\n",
    "forecast_quadratic = m.predict(quadratic_future)"
   ]
  },
  {
   "cell_type": "code",
   "execution_count": 93,
   "metadata": {
    "scrolled": true
   },
   "outputs": [
    {
     "data": {
      "text/plain": [
       "ds            2019-05-04 18:00:00\n",
       "yhat                       5475.2\n",
       "yhat_lower                5170.73\n",
       "yhat_upper                5779.42\n",
       "Name: 38, dtype: object"
      ]
     },
     "execution_count": 93,
     "metadata": {},
     "output_type": "execute_result"
    }
   ],
   "source": [
    "forecast_quadratic[['ds','yhat', 'yhat_lower', 'yhat_upper']].iloc[38]"
   ]
  },
  {
   "cell_type": "code",
   "execution_count": 94,
   "metadata": {},
   "outputs": [
    {
     "data": {
      "text/plain": [
       "ds            2019-05-05 18:00:00\n",
       "yhat                       5514.9\n",
       "yhat_lower                5209.67\n",
       "yhat_upper                5824.78\n",
       "Name: 62, dtype: object"
      ]
     },
     "execution_count": 94,
     "metadata": {},
     "output_type": "execute_result"
    }
   ],
   "source": [
    "forecast_quadratic[['ds','yhat', 'yhat_lower', 'yhat_upper']].iloc[62]"
   ]
  },
  {
   "cell_type": "markdown",
   "metadata": {},
   "source": [
    "### Other work trying to make a big ol' dataframe"
   ]
  },
  {
   "cell_type": "code",
   "execution_count": 44,
   "metadata": {},
   "outputs": [],
   "source": [
    "test_df = pd.concat([linear_df, cubic_df, quadratic_df], axis=1)"
   ]
  },
  {
   "cell_type": "code",
   "execution_count": 56,
   "metadata": {},
   "outputs": [],
   "source": [
    "symbols = ['Linear Prices','Cubic Prices', 'Quadratic Prices']"
   ]
  },
  {
   "cell_type": "code",
   "execution_count": 57,
   "metadata": {},
   "outputs": [],
   "source": [
    "test_df.columns = symbols"
   ]
  },
  {
   "cell_type": "code",
   "execution_count": 59,
   "metadata": {
    "scrolled": false
   },
   "outputs": [
    {
     "data": {
      "text/html": [
       "<div>\n",
       "<style scoped>\n",
       "    .dataframe tbody tr th:only-of-type {\n",
       "        vertical-align: middle;\n",
       "    }\n",
       "\n",
       "    .dataframe tbody tr th {\n",
       "        vertical-align: top;\n",
       "    }\n",
       "\n",
       "    .dataframe thead th {\n",
       "        text-align: right;\n",
       "    }\n",
       "</style>\n",
       "<table border=\"1\" class=\"dataframe\">\n",
       "  <thead>\n",
       "    <tr style=\"text-align: right;\">\n",
       "      <th></th>\n",
       "      <th>Linear Prices</th>\n",
       "      <th>Cubic Prices</th>\n",
       "      <th>Quadratic Prices</th>\n",
       "    </tr>\n",
       "    <tr>\n",
       "      <th>DateTime</th>\n",
       "      <th></th>\n",
       "      <th></th>\n",
       "      <th></th>\n",
       "    </tr>\n",
       "  </thead>\n",
       "  <tbody>\n",
       "    <tr>\n",
       "      <th>2018-05-04 00:00:00</th>\n",
       "      <td>9551.135184</td>\n",
       "      <td>9551.135184</td>\n",
       "      <td>9551.135184</td>\n",
       "    </tr>\n",
       "    <tr>\n",
       "      <th>2018-05-04 01:00:00</th>\n",
       "      <td>9554.610311</td>\n",
       "      <td>9546.834019</td>\n",
       "      <td>9552.291678</td>\n",
       "    </tr>\n",
       "    <tr>\n",
       "      <th>2018-05-04 02:00:00</th>\n",
       "      <td>9558.085437</td>\n",
       "      <td>9543.486319</td>\n",
       "      <td>9553.649792</td>\n",
       "    </tr>\n",
       "    <tr>\n",
       "      <th>2018-05-04 03:00:00</th>\n",
       "      <td>9561.560564</td>\n",
       "      <td>9541.054274</td>\n",
       "      <td>9555.209527</td>\n",
       "    </tr>\n",
       "    <tr>\n",
       "      <th>2018-05-04 04:00:00</th>\n",
       "      <td>9565.035691</td>\n",
       "      <td>9539.500077</td>\n",
       "      <td>9556.970882</td>\n",
       "    </tr>\n",
       "  </tbody>\n",
       "</table>\n",
       "</div>"
      ],
      "text/plain": [
       "                     Linear Prices  Cubic Prices  Quadratic Prices\n",
       "DateTime                                                          \n",
       "2018-05-04 00:00:00    9551.135184   9551.135184       9551.135184\n",
       "2018-05-04 01:00:00    9554.610311   9546.834019       9552.291678\n",
       "2018-05-04 02:00:00    9558.085437   9543.486319       9553.649792\n",
       "2018-05-04 03:00:00    9561.560564   9541.054274       9555.209527\n",
       "2018-05-04 04:00:00    9565.035691   9539.500077       9556.970882"
      ]
     },
     "execution_count": 59,
     "metadata": {},
     "output_type": "execute_result"
    }
   ],
   "source": [
    "test_df.head()"
   ]
  },
  {
   "cell_type": "code",
   "execution_count": 62,
   "metadata": {},
   "outputs": [],
   "source": [
    "df = test_df.reset_index().iloc[8688:]"
   ]
  },
  {
   "cell_type": "code",
   "execution_count": 63,
   "metadata": {},
   "outputs": [
    {
     "data": {
      "text/html": [
       "<div>\n",
       "<style scoped>\n",
       "    .dataframe tbody tr th:only-of-type {\n",
       "        vertical-align: middle;\n",
       "    }\n",
       "\n",
       "    .dataframe tbody tr th {\n",
       "        vertical-align: top;\n",
       "    }\n",
       "\n",
       "    .dataframe thead th {\n",
       "        text-align: right;\n",
       "    }\n",
       "</style>\n",
       "<table border=\"1\" class=\"dataframe\">\n",
       "  <thead>\n",
       "    <tr style=\"text-align: right;\">\n",
       "      <th></th>\n",
       "      <th>DateTime</th>\n",
       "      <th>Linear Prices</th>\n",
       "      <th>Cubic Prices</th>\n",
       "      <th>Quadratic Prices</th>\n",
       "    </tr>\n",
       "  </thead>\n",
       "  <tbody>\n",
       "    <tr>\n",
       "      <th>8688</th>\n",
       "      <td>2019-05-01 00:00:00</td>\n",
       "      <td>5292.803975</td>\n",
       "      <td>5292.803975</td>\n",
       "      <td>5292.803975</td>\n",
       "    </tr>\n",
       "    <tr>\n",
       "      <th>8689</th>\n",
       "      <td>2019-05-01 01:00:00</td>\n",
       "      <td>5295.378259</td>\n",
       "      <td>5296.892705</td>\n",
       "      <td>5296.439641</td>\n",
       "    </tr>\n",
       "    <tr>\n",
       "      <th>8690</th>\n",
       "      <td>2019-05-01 02:00:00</td>\n",
       "      <td>5297.952543</td>\n",
       "      <td>5300.760199</td>\n",
       "      <td>5299.918487</td>\n",
       "    </tr>\n",
       "    <tr>\n",
       "      <th>8691</th>\n",
       "      <td>2019-05-01 03:00:00</td>\n",
       "      <td>5300.526828</td>\n",
       "      <td>5304.418666</td>\n",
       "      <td>5303.240512</td>\n",
       "    </tr>\n",
       "    <tr>\n",
       "      <th>8692</th>\n",
       "      <td>2019-05-01 04:00:00</td>\n",
       "      <td>5303.101112</td>\n",
       "      <td>5307.880317</td>\n",
       "      <td>5306.405716</td>\n",
       "    </tr>\n",
       "    <tr>\n",
       "      <th>8693</th>\n",
       "      <td>2019-05-01 05:00:00</td>\n",
       "      <td>5305.675397</td>\n",
       "      <td>5311.157363</td>\n",
       "      <td>5309.414099</td>\n",
       "    </tr>\n",
       "    <tr>\n",
       "      <th>8694</th>\n",
       "      <td>2019-05-01 06:00:00</td>\n",
       "      <td>5308.249681</td>\n",
       "      <td>5314.262015</td>\n",
       "      <td>5312.265660</td>\n",
       "    </tr>\n",
       "    <tr>\n",
       "      <th>8695</th>\n",
       "      <td>2019-05-01 07:00:00</td>\n",
       "      <td>5310.823965</td>\n",
       "      <td>5317.206485</td>\n",
       "      <td>5314.960401</td>\n",
       "    </tr>\n",
       "    <tr>\n",
       "      <th>8696</th>\n",
       "      <td>2019-05-01 08:00:00</td>\n",
       "      <td>5313.398250</td>\n",
       "      <td>5320.002982</td>\n",
       "      <td>5317.498321</td>\n",
       "    </tr>\n",
       "    <tr>\n",
       "      <th>8697</th>\n",
       "      <td>2019-05-01 09:00:00</td>\n",
       "      <td>5315.972534</td>\n",
       "      <td>5322.663718</td>\n",
       "      <td>5319.879420</td>\n",
       "    </tr>\n",
       "    <tr>\n",
       "      <th>8698</th>\n",
       "      <td>2019-05-01 10:00:00</td>\n",
       "      <td>5318.546819</td>\n",
       "      <td>5325.200903</td>\n",
       "      <td>5322.103698</td>\n",
       "    </tr>\n",
       "    <tr>\n",
       "      <th>8699</th>\n",
       "      <td>2019-05-01 11:00:00</td>\n",
       "      <td>5321.121103</td>\n",
       "      <td>5327.626749</td>\n",
       "      <td>5324.171156</td>\n",
       "    </tr>\n",
       "    <tr>\n",
       "      <th>8700</th>\n",
       "      <td>2019-05-01 12:00:00</td>\n",
       "      <td>5323.695387</td>\n",
       "      <td>5329.953466</td>\n",
       "      <td>5326.081792</td>\n",
       "    </tr>\n",
       "    <tr>\n",
       "      <th>8701</th>\n",
       "      <td>2019-05-01 13:00:00</td>\n",
       "      <td>5326.269672</td>\n",
       "      <td>5332.193266</td>\n",
       "      <td>5327.959283</td>\n",
       "    </tr>\n",
       "    <tr>\n",
       "      <th>8702</th>\n",
       "      <td>2019-05-01 14:00:00</td>\n",
       "      <td>5328.843956</td>\n",
       "      <td>5334.358358</td>\n",
       "      <td>5329.927307</td>\n",
       "    </tr>\n",
       "    <tr>\n",
       "      <th>8703</th>\n",
       "      <td>2019-05-01 15:00:00</td>\n",
       "      <td>5331.418241</td>\n",
       "      <td>5336.460955</td>\n",
       "      <td>5331.985862</td>\n",
       "    </tr>\n",
       "    <tr>\n",
       "      <th>8704</th>\n",
       "      <td>2019-05-01 16:00:00</td>\n",
       "      <td>5333.992525</td>\n",
       "      <td>5338.513266</td>\n",
       "      <td>5334.134950</td>\n",
       "    </tr>\n",
       "    <tr>\n",
       "      <th>8705</th>\n",
       "      <td>2019-05-01 17:00:00</td>\n",
       "      <td>5336.566809</td>\n",
       "      <td>5340.527504</td>\n",
       "      <td>5336.374569</td>\n",
       "    </tr>\n",
       "    <tr>\n",
       "      <th>8706</th>\n",
       "      <td>2019-05-01 18:00:00</td>\n",
       "      <td>5339.141094</td>\n",
       "      <td>5342.515877</td>\n",
       "      <td>5338.704721</td>\n",
       "    </tr>\n",
       "    <tr>\n",
       "      <th>8707</th>\n",
       "      <td>2019-05-01 19:00:00</td>\n",
       "      <td>5341.715378</td>\n",
       "      <td>5344.490599</td>\n",
       "      <td>5341.125404</td>\n",
       "    </tr>\n",
       "    <tr>\n",
       "      <th>8708</th>\n",
       "      <td>2019-05-01 20:00:00</td>\n",
       "      <td>5344.289663</td>\n",
       "      <td>5346.463879</td>\n",
       "      <td>5343.636619</td>\n",
       "    </tr>\n",
       "    <tr>\n",
       "      <th>8709</th>\n",
       "      <td>2019-05-01 21:00:00</td>\n",
       "      <td>5346.863947</td>\n",
       "      <td>5348.447928</td>\n",
       "      <td>5346.238367</td>\n",
       "    </tr>\n",
       "    <tr>\n",
       "      <th>8710</th>\n",
       "      <td>2019-05-01 22:00:00</td>\n",
       "      <td>5349.438231</td>\n",
       "      <td>5350.454957</td>\n",
       "      <td>5348.930646</td>\n",
       "    </tr>\n",
       "    <tr>\n",
       "      <th>8711</th>\n",
       "      <td>2019-05-01 23:00:00</td>\n",
       "      <td>5352.012516</td>\n",
       "      <td>5352.497178</td>\n",
       "      <td>5351.713457</td>\n",
       "    </tr>\n",
       "    <tr>\n",
       "      <th>8712</th>\n",
       "      <td>2019-05-02 00:00:00</td>\n",
       "      <td>5354.586800</td>\n",
       "      <td>5354.586800</td>\n",
       "      <td>5354.586800</td>\n",
       "    </tr>\n",
       "    <tr>\n",
       "      <th>8713</th>\n",
       "      <td>2019-05-02 01:00:00</td>\n",
       "      <td>5358.591793</td>\n",
       "      <td>5356.736035</td>\n",
       "      <td>5357.550675</td>\n",
       "    </tr>\n",
       "    <tr>\n",
       "      <th>8714</th>\n",
       "      <td>2019-05-02 02:00:00</td>\n",
       "      <td>5362.596785</td>\n",
       "      <td>5358.957094</td>\n",
       "      <td>5360.605082</td>\n",
       "    </tr>\n",
       "    <tr>\n",
       "      <th>8715</th>\n",
       "      <td>2019-05-02 03:00:00</td>\n",
       "      <td>5366.601778</td>\n",
       "      <td>5361.262188</td>\n",
       "      <td>5363.750021</td>\n",
       "    </tr>\n",
       "    <tr>\n",
       "      <th>8716</th>\n",
       "      <td>2019-05-02 04:00:00</td>\n",
       "      <td>5370.606770</td>\n",
       "      <td>5363.663527</td>\n",
       "      <td>5366.985492</td>\n",
       "    </tr>\n",
       "    <tr>\n",
       "      <th>8717</th>\n",
       "      <td>2019-05-02 05:00:00</td>\n",
       "      <td>5374.611763</td>\n",
       "      <td>5366.173322</td>\n",
       "      <td>5370.311495</td>\n",
       "    </tr>\n",
       "    <tr>\n",
       "      <th>8718</th>\n",
       "      <td>2019-05-02 06:00:00</td>\n",
       "      <td>5378.616755</td>\n",
       "      <td>5368.803785</td>\n",
       "      <td>5373.728030</td>\n",
       "    </tr>\n",
       "    <tr>\n",
       "      <th>8719</th>\n",
       "      <td>2019-05-02 07:00:00</td>\n",
       "      <td>5382.621748</td>\n",
       "      <td>5371.567126</td>\n",
       "      <td>5377.235097</td>\n",
       "    </tr>\n",
       "    <tr>\n",
       "      <th>8720</th>\n",
       "      <td>2019-05-02 08:00:00</td>\n",
       "      <td>5386.626740</td>\n",
       "      <td>5374.475556</td>\n",
       "      <td>5380.832695</td>\n",
       "    </tr>\n",
       "    <tr>\n",
       "      <th>8721</th>\n",
       "      <td>2019-05-02 09:00:00</td>\n",
       "      <td>5390.631733</td>\n",
       "      <td>5377.541285</td>\n",
       "      <td>5384.520826</td>\n",
       "    </tr>\n",
       "    <tr>\n",
       "      <th>8722</th>\n",
       "      <td>2019-05-02 10:00:00</td>\n",
       "      <td>5394.636725</td>\n",
       "      <td>5380.776526</td>\n",
       "      <td>5388.299489</td>\n",
       "    </tr>\n",
       "    <tr>\n",
       "      <th>8723</th>\n",
       "      <td>2019-05-02 11:00:00</td>\n",
       "      <td>5398.641718</td>\n",
       "      <td>5384.193488</td>\n",
       "      <td>5392.168683</td>\n",
       "    </tr>\n",
       "    <tr>\n",
       "      <th>8724</th>\n",
       "      <td>2019-05-02 12:00:00</td>\n",
       "      <td>5402.646710</td>\n",
       "      <td>5387.804383</td>\n",
       "      <td>5396.128410</td>\n",
       "    </tr>\n",
       "    <tr>\n",
       "      <th>8725</th>\n",
       "      <td>2019-05-02 13:00:00</td>\n",
       "      <td>5406.651703</td>\n",
       "      <td>5391.621421</td>\n",
       "      <td>5400.178668</td>\n",
       "    </tr>\n",
       "    <tr>\n",
       "      <th>8726</th>\n",
       "      <td>2019-05-02 14:00:00</td>\n",
       "      <td>5410.656695</td>\n",
       "      <td>5395.656814</td>\n",
       "      <td>5404.319459</td>\n",
       "    </tr>\n",
       "    <tr>\n",
       "      <th>8727</th>\n",
       "      <td>2019-05-02 15:00:00</td>\n",
       "      <td>5414.661688</td>\n",
       "      <td>5399.922771</td>\n",
       "      <td>5408.550781</td>\n",
       "    </tr>\n",
       "    <tr>\n",
       "      <th>8728</th>\n",
       "      <td>2019-05-02 16:00:00</td>\n",
       "      <td>5418.666680</td>\n",
       "      <td>5404.431505</td>\n",
       "      <td>5412.872635</td>\n",
       "    </tr>\n",
       "    <tr>\n",
       "      <th>8729</th>\n",
       "      <td>2019-05-02 17:00:00</td>\n",
       "      <td>5422.671673</td>\n",
       "      <td>5409.195226</td>\n",
       "      <td>5417.285022</td>\n",
       "    </tr>\n",
       "    <tr>\n",
       "      <th>8730</th>\n",
       "      <td>2019-05-02 18:00:00</td>\n",
       "      <td>5426.676665</td>\n",
       "      <td>5414.226144</td>\n",
       "      <td>5421.787940</td>\n",
       "    </tr>\n",
       "    <tr>\n",
       "      <th>8731</th>\n",
       "      <td>2019-05-02 19:00:00</td>\n",
       "      <td>5430.681658</td>\n",
       "      <td>5419.536472</td>\n",
       "      <td>5426.381390</td>\n",
       "    </tr>\n",
       "    <tr>\n",
       "      <th>8732</th>\n",
       "      <td>2019-05-02 20:00:00</td>\n",
       "      <td>5434.686650</td>\n",
       "      <td>5425.138419</td>\n",
       "      <td>5431.065372</td>\n",
       "    </tr>\n",
       "    <tr>\n",
       "      <th>8733</th>\n",
       "      <td>2019-05-02 21:00:00</td>\n",
       "      <td>5438.691643</td>\n",
       "      <td>5431.044196</td>\n",
       "      <td>5435.839886</td>\n",
       "    </tr>\n",
       "    <tr>\n",
       "      <th>8734</th>\n",
       "      <td>2019-05-02 22:00:00</td>\n",
       "      <td>5442.696635</td>\n",
       "      <td>5437.266015</td>\n",
       "      <td>5440.704933</td>\n",
       "    </tr>\n",
       "    <tr>\n",
       "      <th>8735</th>\n",
       "      <td>2019-05-02 23:00:00</td>\n",
       "      <td>5446.701628</td>\n",
       "      <td>5443.816086</td>\n",
       "      <td>5445.660511</td>\n",
       "    </tr>\n",
       "    <tr>\n",
       "      <th>8736</th>\n",
       "      <td>2019-05-03 00:00:00</td>\n",
       "      <td>5450.706620</td>\n",
       "      <td>5450.706620</td>\n",
       "      <td>5450.706620</td>\n",
       "    </tr>\n",
       "    <tr>\n",
       "      <th>8737</th>\n",
       "      <td>2019-05-03 01:00:00</td>\n",
       "      <td>5450.706620</td>\n",
       "      <td>NaN</td>\n",
       "      <td>NaN</td>\n",
       "    </tr>\n",
       "    <tr>\n",
       "      <th>8738</th>\n",
       "      <td>2019-05-03 02:00:00</td>\n",
       "      <td>5450.706620</td>\n",
       "      <td>NaN</td>\n",
       "      <td>NaN</td>\n",
       "    </tr>\n",
       "    <tr>\n",
       "      <th>8739</th>\n",
       "      <td>2019-05-03 03:00:00</td>\n",
       "      <td>5450.706620</td>\n",
       "      <td>NaN</td>\n",
       "      <td>NaN</td>\n",
       "    </tr>\n",
       "  </tbody>\n",
       "</table>\n",
       "</div>"
      ],
      "text/plain": [
       "                DateTime  Linear Prices  Cubic Prices  Quadratic Prices\n",
       "8688 2019-05-01 00:00:00    5292.803975   5292.803975       5292.803975\n",
       "8689 2019-05-01 01:00:00    5295.378259   5296.892705       5296.439641\n",
       "8690 2019-05-01 02:00:00    5297.952543   5300.760199       5299.918487\n",
       "8691 2019-05-01 03:00:00    5300.526828   5304.418666       5303.240512\n",
       "8692 2019-05-01 04:00:00    5303.101112   5307.880317       5306.405716\n",
       "8693 2019-05-01 05:00:00    5305.675397   5311.157363       5309.414099\n",
       "8694 2019-05-01 06:00:00    5308.249681   5314.262015       5312.265660\n",
       "8695 2019-05-01 07:00:00    5310.823965   5317.206485       5314.960401\n",
       "8696 2019-05-01 08:00:00    5313.398250   5320.002982       5317.498321\n",
       "8697 2019-05-01 09:00:00    5315.972534   5322.663718       5319.879420\n",
       "8698 2019-05-01 10:00:00    5318.546819   5325.200903       5322.103698\n",
       "8699 2019-05-01 11:00:00    5321.121103   5327.626749       5324.171156\n",
       "8700 2019-05-01 12:00:00    5323.695387   5329.953466       5326.081792\n",
       "8701 2019-05-01 13:00:00    5326.269672   5332.193266       5327.959283\n",
       "8702 2019-05-01 14:00:00    5328.843956   5334.358358       5329.927307\n",
       "8703 2019-05-01 15:00:00    5331.418241   5336.460955       5331.985862\n",
       "8704 2019-05-01 16:00:00    5333.992525   5338.513266       5334.134950\n",
       "8705 2019-05-01 17:00:00    5336.566809   5340.527504       5336.374569\n",
       "8706 2019-05-01 18:00:00    5339.141094   5342.515877       5338.704721\n",
       "8707 2019-05-01 19:00:00    5341.715378   5344.490599       5341.125404\n",
       "8708 2019-05-01 20:00:00    5344.289663   5346.463879       5343.636619\n",
       "8709 2019-05-01 21:00:00    5346.863947   5348.447928       5346.238367\n",
       "8710 2019-05-01 22:00:00    5349.438231   5350.454957       5348.930646\n",
       "8711 2019-05-01 23:00:00    5352.012516   5352.497178       5351.713457\n",
       "8712 2019-05-02 00:00:00    5354.586800   5354.586800       5354.586800\n",
       "8713 2019-05-02 01:00:00    5358.591793   5356.736035       5357.550675\n",
       "8714 2019-05-02 02:00:00    5362.596785   5358.957094       5360.605082\n",
       "8715 2019-05-02 03:00:00    5366.601778   5361.262188       5363.750021\n",
       "8716 2019-05-02 04:00:00    5370.606770   5363.663527       5366.985492\n",
       "8717 2019-05-02 05:00:00    5374.611763   5366.173322       5370.311495\n",
       "8718 2019-05-02 06:00:00    5378.616755   5368.803785       5373.728030\n",
       "8719 2019-05-02 07:00:00    5382.621748   5371.567126       5377.235097\n",
       "8720 2019-05-02 08:00:00    5386.626740   5374.475556       5380.832695\n",
       "8721 2019-05-02 09:00:00    5390.631733   5377.541285       5384.520826\n",
       "8722 2019-05-02 10:00:00    5394.636725   5380.776526       5388.299489\n",
       "8723 2019-05-02 11:00:00    5398.641718   5384.193488       5392.168683\n",
       "8724 2019-05-02 12:00:00    5402.646710   5387.804383       5396.128410\n",
       "8725 2019-05-02 13:00:00    5406.651703   5391.621421       5400.178668\n",
       "8726 2019-05-02 14:00:00    5410.656695   5395.656814       5404.319459\n",
       "8727 2019-05-02 15:00:00    5414.661688   5399.922771       5408.550781\n",
       "8728 2019-05-02 16:00:00    5418.666680   5404.431505       5412.872635\n",
       "8729 2019-05-02 17:00:00    5422.671673   5409.195226       5417.285022\n",
       "8730 2019-05-02 18:00:00    5426.676665   5414.226144       5421.787940\n",
       "8731 2019-05-02 19:00:00    5430.681658   5419.536472       5426.381390\n",
       "8732 2019-05-02 20:00:00    5434.686650   5425.138419       5431.065372\n",
       "8733 2019-05-02 21:00:00    5438.691643   5431.044196       5435.839886\n",
       "8734 2019-05-02 22:00:00    5442.696635   5437.266015       5440.704933\n",
       "8735 2019-05-02 23:00:00    5446.701628   5443.816086       5445.660511\n",
       "8736 2019-05-03 00:00:00    5450.706620   5450.706620       5450.706620\n",
       "8737 2019-05-03 01:00:00    5450.706620           NaN               NaN\n",
       "8738 2019-05-03 02:00:00    5450.706620           NaN               NaN\n",
       "8739 2019-05-03 03:00:00    5450.706620           NaN               NaN"
      ]
     },
     "execution_count": 63,
     "metadata": {},
     "output_type": "execute_result"
    }
   ],
   "source": [
    "df"
   ]
  },
  {
   "cell_type": "code",
   "execution_count": 1,
   "metadata": {},
   "outputs": [],
   "source": [
    "# plot_components = m.plot_components(forecast)"
   ]
  },
  {
   "cell_type": "code",
   "execution_count": null,
   "metadata": {},
   "outputs": [],
   "source": []
  }
 ],
 "metadata": {
  "kernelspec": {
   "display_name": "Python 3",
   "language": "python",
   "name": "python3"
  },
  "language_info": {
   "codemirror_mode": {
    "name": "ipython",
    "version": 3
   },
   "file_extension": ".py",
   "mimetype": "text/x-python",
   "name": "python",
   "nbconvert_exporter": "python",
   "pygments_lexer": "ipython3",
   "version": "3.7.1"
  }
 },
 "nbformat": 4,
 "nbformat_minor": 2
}
